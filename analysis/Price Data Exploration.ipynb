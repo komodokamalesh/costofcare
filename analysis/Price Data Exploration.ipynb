{
 "cells": [
  {
   "cell_type": "markdown",
   "metadata": {},
   "source": [
    "# Price Data Exploration\n",
    "\n",
    "This notebook is an exploration of price/billing data at Komodo. The effort aims at gathering enough insight to produce a model for prices across the encounters map in the hopes of imputing estimates for missing/corrupt data. "
   ]
  },
  {
   "cell_type": "markdown",
   "metadata": {},
   "source": [
    "## Notebook Setup and Local Functions"
   ]
  },
  {
   "cell_type": "markdown",
   "metadata": {},
   "source": [
    "### Install packages"
   ]
  },
  {
   "cell_type": "code",
   "execution_count": 1,
   "metadata": {
    "scrolled": true
   },
   "outputs": [
    {
     "name": "stdout",
     "output_type": "stream",
     "text": [
      "Collecting h2o\n",
      "  Downloading h2o-3.32.1.1.tar.gz (164.8 MB)\n",
      "\u001b[K     |████████████████████████████████| 164.8 MB 99 kB/s s eta 0:00:01\n",
      "\u001b[?25hRequirement already satisfied: requests in /opt/conda/lib/python3.7/site-packages (from h2o) (2.23.0)\n",
      "Collecting tabulate\n",
      "  Using cached tabulate-0.8.9-py3-none-any.whl (25 kB)\n",
      "Requirement already satisfied: future in /opt/conda/lib/python3.7/site-packages (from h2o) (0.18.2)\n",
      "Requirement already satisfied: colorama>=0.3.8 in /opt/conda/lib/python3.7/site-packages (from h2o) (0.4.3)\n",
      "Requirement already satisfied: certifi>=2017.4.17 in /opt/conda/lib/python3.7/site-packages (from requests->h2o) (2020.12.5)\n",
      "Requirement already satisfied: chardet<4,>=3.0.2 in /opt/conda/lib/python3.7/site-packages (from requests->h2o) (3.0.4)\n",
      "Requirement already satisfied: idna<3,>=2.5 in /opt/conda/lib/python3.7/site-packages (from requests->h2o) (2.10)\n",
      "Requirement already satisfied: urllib3!=1.25.0,!=1.25.1,<1.26,>=1.21.1 in /opt/conda/lib/python3.7/site-packages (from requests->h2o) (1.25.11)\n",
      "Building wheels for collected packages: h2o\n",
      "  Building wheel for h2o (setup.py) ... \u001b[?25ldone\n",
      "\u001b[?25h  Created wheel for h2o: filename=h2o-3.32.1.1-py2.py3-none-any.whl size=164840229 sha256=f26456c77452f84eb519f11060b22aa4d0166007d0f6e5c287a8ba4fca4a0b02\n",
      "  Stored in directory: /home/jovyan/.cache/pip/wheels/85/cb/f5/a72d41b4676331c29bbc5bb881bc2ac2fea8a10a4960f3488d\n",
      "Successfully built h2o\n",
      "Installing collected packages: tabulate, h2o\n",
      "Successfully installed h2o-3.32.1.1 tabulate-0.8.9\n"
     ]
    }
   ],
   "source": [
    "#install h20 for modeling exploration, need to set this up on hub\n",
    "!pip install h2o"
   ]
  },
  {
   "cell_type": "markdown",
   "metadata": {},
   "source": [
    "### Import libraries"
   ]
  },
  {
   "cell_type": "code",
   "execution_count": 2,
   "metadata": {},
   "outputs": [],
   "source": [
    "#basic math/stats/graphs libraries\n",
    "import h2o\n",
    "import numpy as np\n",
    "from numpy import sqrt, exp, log\n",
    "import seaborn as sns"
   ]
  },
  {
   "cell_type": "code",
   "execution_count": 30,
   "metadata": {},
   "outputs": [],
   "source": [
    "sns.set_style(\"whitegrid\")"
   ]
  },
  {
   "cell_type": "code",
   "execution_count": 3,
   "metadata": {},
   "outputs": [],
   "source": [
    "import ipywidgets as widgets\n",
    "from ipywidgets import Layout, Button, Box, FloatText, Textarea, Dropdown, Label, IntSlider, Checkbox, interact, interactive"
   ]
  },
  {
   "cell_type": "code",
   "execution_count": 4,
   "metadata": {},
   "outputs": [],
   "source": [
    "#basic model/pandas libraries\n",
    "from sklearn.model_selection import train_test_split\n",
    "from sklearn.metrics import mean_squared_error as mse\n",
    "import pandas as pd\n",
    "from sklearn.linear_model import ElasticNetCV\n",
    "from datetime import datetime"
   ]
  },
  {
   "cell_type": "code",
   "execution_count": 5,
   "metadata": {},
   "outputs": [],
   "source": [
    "from math import ceil, floor"
   ]
  },
  {
   "cell_type": "code",
   "execution_count": 63,
   "metadata": {},
   "outputs": [],
   "source": [
    "import matplotlib.pyplot as plt"
   ]
  },
  {
   "cell_type": "code",
   "execution_count": 6,
   "metadata": {},
   "outputs": [
    {
     "name": "stdout",
     "output_type": "stream",
     "text": [
      "Snowflake user name: ········\n",
      "Password: ········\n"
     ]
    }
   ],
   "source": [
    "#install snowflake connector\n",
    "import sys \n",
    "#pull in snowflake login snippets\n",
    "sys.path.append('/efs/kamalesh')\n",
    "import jupyter_toolz as jt"
   ]
  },
  {
   "cell_type": "markdown",
   "metadata": {},
   "source": [
    "### Define functions"
   ]
  },
  {
   "cell_type": "code",
   "execution_count": 7,
   "metadata": {},
   "outputs": [],
   "source": [
    "#generic function to pull in table from snowflake\n",
    "\n",
    "def pull_snfdb(db='\"SANDBOX_KRAO\".\"EDA\".\"PROCEDURE_COST_TABLE\"',\n",
    "               select_statement=None, limit=None, where=None, \n",
    "               diag=False, sample_n=None):\n",
    "    \n",
    "    if select_statement is not None:\n",
    "        sql=select_statement \n",
    "    \n",
    "    else:\n",
    "        sql = f\"\"\"select * \n",
    "         from {db}\n",
    "        \"\"\" \n",
    "    if sample_n is not None:\n",
    "        sql+=f\"\"\" sample row ({sample_n} rows) \n",
    "        \"\"\" \n",
    "    if where is not None:\n",
    "        sql+=f\"\"\" where {where} \n",
    "        \"\"\"\n",
    "    if limit is not None:\n",
    "        sql+=f\"\"\" limit {limit}\n",
    "        \"\"\"\n",
    "    if not diag:\n",
    "        temp_df=jt.read_sql(sql)\n",
    "        return temp_df\n",
    "    else:\n",
    "        print(sql)\n",
    "        return sql\n",
    "\n",
    "#function for summarizing data within snowflake\n",
    "def pull_snfdb_dist_summ(x='x', db='\"SANDBOX_KRAO\".\"EDA\".\"PROCEDURE_COST_TABLE\"'\n",
    "                         , name_list=['count','stddev','min', '1percentile', '5percentile',\n",
    "                                      '10percentile','25percentile',\n",
    "                                     'median','average','75percentile','90percentile',\n",
    "                                      '95percentile','99percentile','max']):\n",
    "    sql = f\"\"\"select \n",
    "        count(*) as count\n",
    "        ,stddev({x}) as stddev\n",
    "        ,min({x}::float) as min\n",
    "        ,approx_percentile({x}::float,.01) as percentile_1\n",
    "        ,approx_percentile({x}::float,.05) as percentile_5\n",
    "        ,approx_percentile({x}::float,.1) as percentile_10\n",
    "        ,approx_percentile({x}::float,.25) as percentile_25\n",
    "        ,avg({x}::float) as average\n",
    "        ,median({x}::float) as median\n",
    "        ,approx_percentile({x}::float,.75) as percentile_75\n",
    "        ,approx_percentile({x}::float,.9) as percentile_90\n",
    "        ,approx_percentile({x}::float,.95) as percentile_95\n",
    "        ,approx_percentile({x}::float,.99) as percentile_99\n",
    "         ,max({x}::float) as max\n",
    "         from {db}\n",
    "        \"\"\" \n",
    "    temp_df=jt.read_sql(sql)\n",
    "    temp_df.columns=[x+'_'+y for y in name_list]\n",
    "    return temp_df"
   ]
  },
  {
   "cell_type": "markdown",
   "metadata": {},
   "source": [
    "### Define Databases"
   ]
  },
  {
   "cell_type": "code",
   "execution_count": 8,
   "metadata": {},
   "outputs": [],
   "source": [
    "#encounters database\n",
    "enc_db='\"MAP_ENCOUNTERS\".\"MX_ENCOUNTERS_20210104\".\"ENCOUNTERSMX_LS_GA\"'\n",
    "\n",
    "#allowed amounts database\n",
    "aa_db='\"MAP_ENCOUNTERS\".\"MX_ENCOUNTERS_20210104\".\"ALLOWEDAMOUNTS_GA\"'\n",
    "\n",
    "#enhanced allowed amounts database (Jan, Feb 2020)\n",
    "aa_enh_db='\"SANDBOX_KRAO\".\"EDA\".\"ENHANCED_ENCOUNTERS_W_ALLOWED_AMOUNTS\"'\n",
    "\n",
    "#enhanced allowed amounts database (.01% sample)\n",
    "aa_enh_db_001pct='\"SANDBOX_KRAO\".\"EDA\".\"RANDOM_001PCT_ENHANCED_ENCOUNTERS_W_ALLOWED_AMOUNTS\"'\n",
    "\n",
    "#enhanced allowed amounts database (.1% sample)\n",
    "aa_enh_db_01pct='\"SANDBOX_KRAO\".\"EDA\".\"RANDOM_01PCT_ENHANCED_ENCOUNTERS_W_ALLOWED_AMOUNTS\"'\n",
    "\n"
   ]
  },
  {
   "cell_type": "code",
   "execution_count": 9,
   "metadata": {},
   "outputs": [],
   "source": [
    "#create pandas data frames for 1% samples\n",
    "aa_enh_db_01pct_df=pull_snfdb(db=aa_enh_db_01pct)\n",
    "aa_enh_db_01pct_df[\"LINE_CHARGE\"]=aa_enh_db_01pct_df[\"LINE_CHARGE\"].astype(float)\n",
    "\n",
    "#create pandas data frames for .1% samples\n",
    "aa_enh_db_001pct_df=pull_snfdb(db=aa_enh_db_001pct)\n",
    "aa_enh_db_001pct_df[\"LINE_CHARGE\"]=aa_enh_db_001pct_df[\"LINE_CHARGE\"].astype(float)"
   ]
  },
  {
   "cell_type": "markdown",
   "metadata": {},
   "source": [
    "## Inspect Data"
   ]
  },
  {
   "cell_type": "code",
   "execution_count": 10,
   "metadata": {
    "scrolled": true
   },
   "outputs": [
    {
     "data": {
      "text/html": [
       "<div>\n",
       "<style scoped>\n",
       "    .dataframe tbody tr th:only-of-type {\n",
       "        vertical-align: middle;\n",
       "    }\n",
       "\n",
       "    .dataframe tbody tr th {\n",
       "        vertical-align: top;\n",
       "    }\n",
       "\n",
       "    .dataframe thead th {\n",
       "        text-align: right;\n",
       "    }\n",
       "</style>\n",
       "<table border=\"1\" class=\"dataframe\">\n",
       "  <thead>\n",
       "    <tr style=\"text-align: right;\">\n",
       "      <th></th>\n",
       "      <th>0</th>\n",
       "      <th>1</th>\n",
       "      <th>2</th>\n",
       "      <th>3</th>\n",
       "      <th>4</th>\n",
       "    </tr>\n",
       "  </thead>\n",
       "  <tbody>\n",
       "    <tr>\n",
       "      <th>CLAIM_DATE</th>\n",
       "      <td>2020-02-06</td>\n",
       "      <td>2020-01-29</td>\n",
       "      <td>2020-01-23</td>\n",
       "      <td>2020-02-24</td>\n",
       "      <td>2020-02-12</td>\n",
       "    </tr>\n",
       "    <tr>\n",
       "      <th>ENCOUNTER_KEY</th>\n",
       "      <td>fc1dbfaf4cdbf888ee7f10431040c8d893107a0d</td>\n",
       "      <td>db0ffdcd057c8b15a0852806a41e56e43e361cb2</td>\n",
       "      <td>44503be8d23eb4ccd22e30a8bd5a092ca4c769fd</td>\n",
       "      <td>978eda1b13e804008020ea02d263ed2fa3b2119a</td>\n",
       "      <td>a4fabc30fb37246908f0f2cb8e9f43d919d9c7b4</td>\n",
       "    </tr>\n",
       "    <tr>\n",
       "      <th>VISIT_ID</th>\n",
       "      <td>8bd28fe420089f586899220679f438d0c22c7208</td>\n",
       "      <td>0801315f136bd16be4a43a42ed20da9f59f8dc41</td>\n",
       "      <td>e2b3c3944e333208102800e096badefadc3ca743</td>\n",
       "      <td>67276e5fae4d9e0fc8a16e29904c5d23fc94de87</td>\n",
       "      <td>3af070e51212eaa4076e093eb8455d642b333340</td>\n",
       "    </tr>\n",
       "    <tr>\n",
       "      <th>SOURCES_ARRAY</th>\n",
       "      <td>[\\n  \"rowley\"\\n]</td>\n",
       "      <td>[\\n  \"fleming-peso\"\\n]</td>\n",
       "      <td>[\\n  \"fleming-peso\"\\n]</td>\n",
       "      <td>[\\n  \"pikato\",\\n  \"rowley\"\\n]</td>\n",
       "      <td>[\\n  \"fleming-peso\"\\n]</td>\n",
       "    </tr>\n",
       "    <tr>\n",
       "      <th>PATIENT_STATE</th>\n",
       "      <td>IL</td>\n",
       "      <td>NY</td>\n",
       "      <td>FL</td>\n",
       "      <td>AL</td>\n",
       "      <td>PA</td>\n",
       "    </tr>\n",
       "    <tr>\n",
       "      <th>HCP_1_NPI</th>\n",
       "      <td>None</td>\n",
       "      <td>1649316894</td>\n",
       "      <td>None</td>\n",
       "      <td>1073092151</td>\n",
       "      <td>1659368736</td>\n",
       "    </tr>\n",
       "    <tr>\n",
       "      <th>HCO_1_NPI</th>\n",
       "      <td>1376521575</td>\n",
       "      <td>1447527320</td>\n",
       "      <td>1942630306</td>\n",
       "      <td>1447221056</td>\n",
       "      <td>1952398125</td>\n",
       "    </tr>\n",
       "    <tr>\n",
       "      <th>TOTAL_CLAIM_CHARGE_AMOUNT</th>\n",
       "      <td>NaN</td>\n",
       "      <td>546.7</td>\n",
       "      <td>650</td>\n",
       "      <td>NaN</td>\n",
       "      <td>1545</td>\n",
       "    </tr>\n",
       "    <tr>\n",
       "      <th>PAYER_KH_ID</th>\n",
       "      <td>17</td>\n",
       "      <td>195</td>\n",
       "      <td>221</td>\n",
       "      <td>343</td>\n",
       "      <td>186</td>\n",
       "    </tr>\n",
       "    <tr>\n",
       "      <th>PAYER_KH_ID_IMPUTE_FLAG</th>\n",
       "      <td>False</td>\n",
       "      <td>False</td>\n",
       "      <td>False</td>\n",
       "      <td>False</td>\n",
       "      <td>False</td>\n",
       "    </tr>\n",
       "    <tr>\n",
       "      <th>BILL_TYPE_CODE</th>\n",
       "      <td>None</td>\n",
       "      <td>None</td>\n",
       "      <td>None</td>\n",
       "      <td>None</td>\n",
       "      <td>None</td>\n",
       "    </tr>\n",
       "    <tr>\n",
       "      <th>PAYER_CHANNEL</th>\n",
       "      <td>Commercial</td>\n",
       "      <td>Medicare</td>\n",
       "      <td>Commercial</td>\n",
       "      <td>Commercial</td>\n",
       "      <td>Commercial</td>\n",
       "    </tr>\n",
       "    <tr>\n",
       "      <th>STATEMENT_FROM</th>\n",
       "      <td>None</td>\n",
       "      <td>None</td>\n",
       "      <td>None</td>\n",
       "      <td>None</td>\n",
       "      <td>None</td>\n",
       "    </tr>\n",
       "    <tr>\n",
       "      <th>STATEMENT_TO</th>\n",
       "      <td>None</td>\n",
       "      <td>None</td>\n",
       "      <td>None</td>\n",
       "      <td>None</td>\n",
       "      <td>None</td>\n",
       "    </tr>\n",
       "    <tr>\n",
       "      <th>DISCHARGE_STATUS_CODE</th>\n",
       "      <td>01</td>\n",
       "      <td>None</td>\n",
       "      <td>None</td>\n",
       "      <td>None</td>\n",
       "      <td>None</td>\n",
       "    </tr>\n",
       "    <tr>\n",
       "      <th>CLAIM_TYPE_CODE</th>\n",
       "      <td>I</td>\n",
       "      <td>P</td>\n",
       "      <td>P</td>\n",
       "      <td>P</td>\n",
       "      <td>P</td>\n",
       "    </tr>\n",
       "    <tr>\n",
       "      <th>ADMIT_TYPE_CODE</th>\n",
       "      <td>None</td>\n",
       "      <td>None</td>\n",
       "      <td>None</td>\n",
       "      <td>None</td>\n",
       "      <td>None</td>\n",
       "    </tr>\n",
       "    <tr>\n",
       "      <th>LINE_CHARGE</th>\n",
       "      <td>NaN</td>\n",
       "      <td>222.74</td>\n",
       "      <td>650</td>\n",
       "      <td>NaN</td>\n",
       "      <td>450</td>\n",
       "    </tr>\n",
       "    <tr>\n",
       "      <th>NDC</th>\n",
       "      <td>None</td>\n",
       "      <td>None</td>\n",
       "      <td>None</td>\n",
       "      <td>None</td>\n",
       "      <td>None</td>\n",
       "    </tr>\n",
       "    <tr>\n",
       "      <th>DATE_OF_SERVICE</th>\n",
       "      <td>\"2020-02-06\"</td>\n",
       "      <td>\"2020-01-29\"</td>\n",
       "      <td>\"2020-01-23\"</td>\n",
       "      <td>\"2020-02-24\"</td>\n",
       "      <td>\"2020-02-12\"</td>\n",
       "    </tr>\n",
       "    <tr>\n",
       "      <th>SL_SERVICE_FROM</th>\n",
       "      <td>\"2020-02-06\"</td>\n",
       "      <td>\"2020-01-29\"</td>\n",
       "      <td>\"2020-01-23\"</td>\n",
       "      <td>\"2020-02-24\"</td>\n",
       "      <td>\"2020-02-12\"</td>\n",
       "    </tr>\n",
       "    <tr>\n",
       "      <th>SL_SERVICE_TO</th>\n",
       "      <td>\"2020-02-06\"</td>\n",
       "      <td>\"2020-01-29\"</td>\n",
       "      <td>\"2020-01-23\"</td>\n",
       "      <td>\"2020-02-24\"</td>\n",
       "      <td>\"2020-02-12\"</td>\n",
       "    </tr>\n",
       "    <tr>\n",
       "      <th>PROCEDURE</th>\n",
       "      <td>\"87491\"</td>\n",
       "      <td>\"17250\"</td>\n",
       "      <td>\"77067\"</td>\n",
       "      <td>\"84443\"</td>\n",
       "      <td>\"58300\"</td>\n",
       "    </tr>\n",
       "    <tr>\n",
       "      <th>MODIFIER_1</th>\n",
       "      <td>None</td>\n",
       "      <td>\"59\"</td>\n",
       "      <td>None</td>\n",
       "      <td>None</td>\n",
       "      <td>None</td>\n",
       "    </tr>\n",
       "    <tr>\n",
       "      <th>MODIFIER_2</th>\n",
       "      <td>None</td>\n",
       "      <td>None</td>\n",
       "      <td>None</td>\n",
       "      <td>None</td>\n",
       "      <td>None</td>\n",
       "    </tr>\n",
       "    <tr>\n",
       "      <th>MODIFIER_3</th>\n",
       "      <td>None</td>\n",
       "      <td>None</td>\n",
       "      <td>None</td>\n",
       "      <td>None</td>\n",
       "      <td>None</td>\n",
       "    </tr>\n",
       "    <tr>\n",
       "      <th>MODIFIER_4</th>\n",
       "      <td>None</td>\n",
       "      <td>None</td>\n",
       "      <td>None</td>\n",
       "      <td>None</td>\n",
       "      <td>None</td>\n",
       "    </tr>\n",
       "    <tr>\n",
       "      <th>UNITS</th>\n",
       "      <td>None</td>\n",
       "      <td>1</td>\n",
       "      <td>1</td>\n",
       "      <td>None</td>\n",
       "      <td>1</td>\n",
       "    </tr>\n",
       "    <tr>\n",
       "      <th>PLACE_OF_SERVICE</th>\n",
       "      <td>\"22\"</td>\n",
       "      <td>None</td>\n",
       "      <td>\"11\"</td>\n",
       "      <td>\"11\"</td>\n",
       "      <td>\"11\"</td>\n",
       "    </tr>\n",
       "    <tr>\n",
       "      <th>DIAGNOSIS_CODE_1</th>\n",
       "      <td>None</td>\n",
       "      <td>\"L97129\"</td>\n",
       "      <td>\"Z1231\"</td>\n",
       "      <td>None</td>\n",
       "      <td>\"Z30430\"</td>\n",
       "    </tr>\n",
       "    <tr>\n",
       "      <th>DIAGNOSIS_CODE_2</th>\n",
       "      <td>None</td>\n",
       "      <td>None</td>\n",
       "      <td>None</td>\n",
       "      <td>None</td>\n",
       "      <td>None</td>\n",
       "    </tr>\n",
       "    <tr>\n",
       "      <th>DIAGNOSIS_CODE_3</th>\n",
       "      <td>None</td>\n",
       "      <td>None</td>\n",
       "      <td>None</td>\n",
       "      <td>None</td>\n",
       "      <td>None</td>\n",
       "    </tr>\n",
       "    <tr>\n",
       "      <th>DIAGNOSIS_CODE_4</th>\n",
       "      <td>None</td>\n",
       "      <td>None</td>\n",
       "      <td>None</td>\n",
       "      <td>None</td>\n",
       "      <td>None</td>\n",
       "    </tr>\n",
       "    <tr>\n",
       "      <th>REVENUE_CODE</th>\n",
       "      <td>\"0300\"</td>\n",
       "      <td>None</td>\n",
       "      <td>None</td>\n",
       "      <td>None</td>\n",
       "      <td>None</td>\n",
       "    </tr>\n",
       "    <tr>\n",
       "      <th>EMERGENCY_INDICATOR</th>\n",
       "      <td>None</td>\n",
       "      <td>None</td>\n",
       "      <td>None</td>\n",
       "      <td>None</td>\n",
       "      <td>None</td>\n",
       "    </tr>\n",
       "    <tr>\n",
       "      <th>HCO_S_1_NPI</th>\n",
       "      <td>None</td>\n",
       "      <td>None</td>\n",
       "      <td>None</td>\n",
       "      <td>None</td>\n",
       "      <td>None</td>\n",
       "    </tr>\n",
       "    <tr>\n",
       "      <th>HCP_S_1_NPI</th>\n",
       "      <td>None</td>\n",
       "      <td>None</td>\n",
       "      <td>None</td>\n",
       "      <td>None</td>\n",
       "      <td>None</td>\n",
       "    </tr>\n",
       "    <tr>\n",
       "      <th>HCP_S_2_NPI</th>\n",
       "      <td>None</td>\n",
       "      <td>None</td>\n",
       "      <td>None</td>\n",
       "      <td>None</td>\n",
       "      <td>None</td>\n",
       "    </tr>\n",
       "    <tr>\n",
       "      <th>SERVICE_LINE_NUMBER</th>\n",
       "      <td>1</td>\n",
       "      <td>2</td>\n",
       "      <td>1</td>\n",
       "      <td>6</td>\n",
       "      <td>2</td>\n",
       "    </tr>\n",
       "    <tr>\n",
       "      <th>SOURCE_ROWLEY</th>\n",
       "      <td>True</td>\n",
       "      <td>False</td>\n",
       "      <td>False</td>\n",
       "      <td>True</td>\n",
       "      <td>False</td>\n",
       "    </tr>\n",
       "    <tr>\n",
       "      <th>SOURCE_FSALK</th>\n",
       "      <td>False</td>\n",
       "      <td>False</td>\n",
       "      <td>False</td>\n",
       "      <td>False</td>\n",
       "      <td>False</td>\n",
       "    </tr>\n",
       "    <tr>\n",
       "      <th>SOURCE_FPESO</th>\n",
       "      <td>False</td>\n",
       "      <td>True</td>\n",
       "      <td>True</td>\n",
       "      <td>False</td>\n",
       "      <td>True</td>\n",
       "    </tr>\n",
       "    <tr>\n",
       "      <th>SOURCE_FNIGHT</th>\n",
       "      <td>False</td>\n",
       "      <td>False</td>\n",
       "      <td>False</td>\n",
       "      <td>False</td>\n",
       "      <td>False</td>\n",
       "    </tr>\n",
       "    <tr>\n",
       "      <th>PROCEDURE_DESCRIPTION</th>\n",
       "      <td>Detection test for chlamydia</td>\n",
       "      <td>Application of chemical agent to excessive wou...</td>\n",
       "      <td>Mammography of both breasts</td>\n",
       "      <td>Blood test, thyroid stimulating hormone (TSH)</td>\n",
       "      <td>Placement of intra-uterine device (IUD) for pr...</td>\n",
       "    </tr>\n",
       "    <tr>\n",
       "      <th>VISIT_SETTING_OF_CARE</th>\n",
       "      <td>Outpatient Visit</td>\n",
       "      <td>None</td>\n",
       "      <td>Outpatient Visit</td>\n",
       "      <td>Outpatient Visit</td>\n",
       "      <td>Outpatient Visit</td>\n",
       "    </tr>\n",
       "    <tr>\n",
       "      <th>ALLOWED_AMOUNT</th>\n",
       "      <td>85.75</td>\n",
       "      <td>47.52</td>\n",
       "      <td>134.82</td>\n",
       "      <td>14.13</td>\n",
       "      <td>23.29</td>\n",
       "    </tr>\n",
       "    <tr>\n",
       "      <th>RANDOM_KEY</th>\n",
       "      <td>fc1dbfaf4cdbf888ee7f10431040c8d893107a0d</td>\n",
       "      <td>db0ffdcd057c8b15a0852806a41e56e43e361cb2</td>\n",
       "      <td>44503be8d23eb4ccd22e30a8bd5a092ca4c769fd</td>\n",
       "      <td>978eda1b13e804008020ea02d263ed2fa3b2119a</td>\n",
       "      <td>a4fabc30fb37246908f0f2cb8e9f43d919d9c7b4</td>\n",
       "    </tr>\n",
       "  </tbody>\n",
       "</table>\n",
       "</div>"
      ],
      "text/plain": [
       "                                                                  0  \\\n",
       "CLAIM_DATE                                               2020-02-06   \n",
       "ENCOUNTER_KEY              fc1dbfaf4cdbf888ee7f10431040c8d893107a0d   \n",
       "VISIT_ID                   8bd28fe420089f586899220679f438d0c22c7208   \n",
       "SOURCES_ARRAY                                      [\\n  \"rowley\"\\n]   \n",
       "PATIENT_STATE                                                    IL   \n",
       "HCP_1_NPI                                                      None   \n",
       "HCO_1_NPI                                                1376521575   \n",
       "TOTAL_CLAIM_CHARGE_AMOUNT                                       NaN   \n",
       "PAYER_KH_ID                                                      17   \n",
       "PAYER_KH_ID_IMPUTE_FLAG                                       False   \n",
       "BILL_TYPE_CODE                                                 None   \n",
       "PAYER_CHANNEL                                            Commercial   \n",
       "STATEMENT_FROM                                                 None   \n",
       "STATEMENT_TO                                                   None   \n",
       "DISCHARGE_STATUS_CODE                                            01   \n",
       "CLAIM_TYPE_CODE                                                   I   \n",
       "ADMIT_TYPE_CODE                                                None   \n",
       "LINE_CHARGE                                                     NaN   \n",
       "NDC                                                            None   \n",
       "DATE_OF_SERVICE                                        \"2020-02-06\"   \n",
       "SL_SERVICE_FROM                                        \"2020-02-06\"   \n",
       "SL_SERVICE_TO                                          \"2020-02-06\"   \n",
       "PROCEDURE                                                   \"87491\"   \n",
       "MODIFIER_1                                                     None   \n",
       "MODIFIER_2                                                     None   \n",
       "MODIFIER_3                                                     None   \n",
       "MODIFIER_4                                                     None   \n",
       "UNITS                                                          None   \n",
       "PLACE_OF_SERVICE                                               \"22\"   \n",
       "DIAGNOSIS_CODE_1                                               None   \n",
       "DIAGNOSIS_CODE_2                                               None   \n",
       "DIAGNOSIS_CODE_3                                               None   \n",
       "DIAGNOSIS_CODE_4                                               None   \n",
       "REVENUE_CODE                                                 \"0300\"   \n",
       "EMERGENCY_INDICATOR                                            None   \n",
       "HCO_S_1_NPI                                                    None   \n",
       "HCP_S_1_NPI                                                    None   \n",
       "HCP_S_2_NPI                                                    None   \n",
       "SERVICE_LINE_NUMBER                                               1   \n",
       "SOURCE_ROWLEY                                                  True   \n",
       "SOURCE_FSALK                                                  False   \n",
       "SOURCE_FPESO                                                  False   \n",
       "SOURCE_FNIGHT                                                 False   \n",
       "PROCEDURE_DESCRIPTION                  Detection test for chlamydia   \n",
       "VISIT_SETTING_OF_CARE                              Outpatient Visit   \n",
       "ALLOWED_AMOUNT                                                85.75   \n",
       "RANDOM_KEY                 fc1dbfaf4cdbf888ee7f10431040c8d893107a0d   \n",
       "\n",
       "                                                                           1  \\\n",
       "CLAIM_DATE                                                        2020-01-29   \n",
       "ENCOUNTER_KEY                       db0ffdcd057c8b15a0852806a41e56e43e361cb2   \n",
       "VISIT_ID                            0801315f136bd16be4a43a42ed20da9f59f8dc41   \n",
       "SOURCES_ARRAY                                         [\\n  \"fleming-peso\"\\n]   \n",
       "PATIENT_STATE                                                             NY   \n",
       "HCP_1_NPI                                                         1649316894   \n",
       "HCO_1_NPI                                                         1447527320   \n",
       "TOTAL_CLAIM_CHARGE_AMOUNT                                              546.7   \n",
       "PAYER_KH_ID                                                              195   \n",
       "PAYER_KH_ID_IMPUTE_FLAG                                                False   \n",
       "BILL_TYPE_CODE                                                          None   \n",
       "PAYER_CHANNEL                                                       Medicare   \n",
       "STATEMENT_FROM                                                          None   \n",
       "STATEMENT_TO                                                            None   \n",
       "DISCHARGE_STATUS_CODE                                                   None   \n",
       "CLAIM_TYPE_CODE                                                            P   \n",
       "ADMIT_TYPE_CODE                                                         None   \n",
       "LINE_CHARGE                                                           222.74   \n",
       "NDC                                                                     None   \n",
       "DATE_OF_SERVICE                                                 \"2020-01-29\"   \n",
       "SL_SERVICE_FROM                                                 \"2020-01-29\"   \n",
       "SL_SERVICE_TO                                                   \"2020-01-29\"   \n",
       "PROCEDURE                                                            \"17250\"   \n",
       "MODIFIER_1                                                              \"59\"   \n",
       "MODIFIER_2                                                              None   \n",
       "MODIFIER_3                                                              None   \n",
       "MODIFIER_4                                                              None   \n",
       "UNITS                                                                      1   \n",
       "PLACE_OF_SERVICE                                                        None   \n",
       "DIAGNOSIS_CODE_1                                                    \"L97129\"   \n",
       "DIAGNOSIS_CODE_2                                                        None   \n",
       "DIAGNOSIS_CODE_3                                                        None   \n",
       "DIAGNOSIS_CODE_4                                                        None   \n",
       "REVENUE_CODE                                                            None   \n",
       "EMERGENCY_INDICATOR                                                     None   \n",
       "HCO_S_1_NPI                                                             None   \n",
       "HCP_S_1_NPI                                                             None   \n",
       "HCP_S_2_NPI                                                             None   \n",
       "SERVICE_LINE_NUMBER                                                        2   \n",
       "SOURCE_ROWLEY                                                          False   \n",
       "SOURCE_FSALK                                                           False   \n",
       "SOURCE_FPESO                                                            True   \n",
       "SOURCE_FNIGHT                                                          False   \n",
       "PROCEDURE_DESCRIPTION      Application of chemical agent to excessive wou...   \n",
       "VISIT_SETTING_OF_CARE                                                   None   \n",
       "ALLOWED_AMOUNT                                                         47.52   \n",
       "RANDOM_KEY                          db0ffdcd057c8b15a0852806a41e56e43e361cb2   \n",
       "\n",
       "                                                                  2  \\\n",
       "CLAIM_DATE                                               2020-01-23   \n",
       "ENCOUNTER_KEY              44503be8d23eb4ccd22e30a8bd5a092ca4c769fd   \n",
       "VISIT_ID                   e2b3c3944e333208102800e096badefadc3ca743   \n",
       "SOURCES_ARRAY                                [\\n  \"fleming-peso\"\\n]   \n",
       "PATIENT_STATE                                                    FL   \n",
       "HCP_1_NPI                                                      None   \n",
       "HCO_1_NPI                                                1942630306   \n",
       "TOTAL_CLAIM_CHARGE_AMOUNT                                       650   \n",
       "PAYER_KH_ID                                                     221   \n",
       "PAYER_KH_ID_IMPUTE_FLAG                                       False   \n",
       "BILL_TYPE_CODE                                                 None   \n",
       "PAYER_CHANNEL                                            Commercial   \n",
       "STATEMENT_FROM                                                 None   \n",
       "STATEMENT_TO                                                   None   \n",
       "DISCHARGE_STATUS_CODE                                          None   \n",
       "CLAIM_TYPE_CODE                                                   P   \n",
       "ADMIT_TYPE_CODE                                                None   \n",
       "LINE_CHARGE                                                     650   \n",
       "NDC                                                            None   \n",
       "DATE_OF_SERVICE                                        \"2020-01-23\"   \n",
       "SL_SERVICE_FROM                                        \"2020-01-23\"   \n",
       "SL_SERVICE_TO                                          \"2020-01-23\"   \n",
       "PROCEDURE                                                   \"77067\"   \n",
       "MODIFIER_1                                                     None   \n",
       "MODIFIER_2                                                     None   \n",
       "MODIFIER_3                                                     None   \n",
       "MODIFIER_4                                                     None   \n",
       "UNITS                                                             1   \n",
       "PLACE_OF_SERVICE                                               \"11\"   \n",
       "DIAGNOSIS_CODE_1                                            \"Z1231\"   \n",
       "DIAGNOSIS_CODE_2                                               None   \n",
       "DIAGNOSIS_CODE_3                                               None   \n",
       "DIAGNOSIS_CODE_4                                               None   \n",
       "REVENUE_CODE                                                   None   \n",
       "EMERGENCY_INDICATOR                                            None   \n",
       "HCO_S_1_NPI                                                    None   \n",
       "HCP_S_1_NPI                                                    None   \n",
       "HCP_S_2_NPI                                                    None   \n",
       "SERVICE_LINE_NUMBER                                               1   \n",
       "SOURCE_ROWLEY                                                 False   \n",
       "SOURCE_FSALK                                                  False   \n",
       "SOURCE_FPESO                                                   True   \n",
       "SOURCE_FNIGHT                                                 False   \n",
       "PROCEDURE_DESCRIPTION                   Mammography of both breasts   \n",
       "VISIT_SETTING_OF_CARE                              Outpatient Visit   \n",
       "ALLOWED_AMOUNT                                               134.82   \n",
       "RANDOM_KEY                 44503be8d23eb4ccd22e30a8bd5a092ca4c769fd   \n",
       "\n",
       "                                                                       3  \\\n",
       "CLAIM_DATE                                                    2020-02-24   \n",
       "ENCOUNTER_KEY                   978eda1b13e804008020ea02d263ed2fa3b2119a   \n",
       "VISIT_ID                        67276e5fae4d9e0fc8a16e29904c5d23fc94de87   \n",
       "SOURCES_ARRAY                              [\\n  \"pikato\",\\n  \"rowley\"\\n]   \n",
       "PATIENT_STATE                                                         AL   \n",
       "HCP_1_NPI                                                     1073092151   \n",
       "HCO_1_NPI                                                     1447221056   \n",
       "TOTAL_CLAIM_CHARGE_AMOUNT                                            NaN   \n",
       "PAYER_KH_ID                                                          343   \n",
       "PAYER_KH_ID_IMPUTE_FLAG                                            False   \n",
       "BILL_TYPE_CODE                                                      None   \n",
       "PAYER_CHANNEL                                                 Commercial   \n",
       "STATEMENT_FROM                                                      None   \n",
       "STATEMENT_TO                                                        None   \n",
       "DISCHARGE_STATUS_CODE                                               None   \n",
       "CLAIM_TYPE_CODE                                                        P   \n",
       "ADMIT_TYPE_CODE                                                     None   \n",
       "LINE_CHARGE                                                          NaN   \n",
       "NDC                                                                 None   \n",
       "DATE_OF_SERVICE                                             \"2020-02-24\"   \n",
       "SL_SERVICE_FROM                                             \"2020-02-24\"   \n",
       "SL_SERVICE_TO                                               \"2020-02-24\"   \n",
       "PROCEDURE                                                        \"84443\"   \n",
       "MODIFIER_1                                                          None   \n",
       "MODIFIER_2                                                          None   \n",
       "MODIFIER_3                                                          None   \n",
       "MODIFIER_4                                                          None   \n",
       "UNITS                                                               None   \n",
       "PLACE_OF_SERVICE                                                    \"11\"   \n",
       "DIAGNOSIS_CODE_1                                                    None   \n",
       "DIAGNOSIS_CODE_2                                                    None   \n",
       "DIAGNOSIS_CODE_3                                                    None   \n",
       "DIAGNOSIS_CODE_4                                                    None   \n",
       "REVENUE_CODE                                                        None   \n",
       "EMERGENCY_INDICATOR                                                 None   \n",
       "HCO_S_1_NPI                                                         None   \n",
       "HCP_S_1_NPI                                                         None   \n",
       "HCP_S_2_NPI                                                         None   \n",
       "SERVICE_LINE_NUMBER                                                    6   \n",
       "SOURCE_ROWLEY                                                       True   \n",
       "SOURCE_FSALK                                                       False   \n",
       "SOURCE_FPESO                                                       False   \n",
       "SOURCE_FNIGHT                                                      False   \n",
       "PROCEDURE_DESCRIPTION      Blood test, thyroid stimulating hormone (TSH)   \n",
       "VISIT_SETTING_OF_CARE                                   Outpatient Visit   \n",
       "ALLOWED_AMOUNT                                                     14.13   \n",
       "RANDOM_KEY                      978eda1b13e804008020ea02d263ed2fa3b2119a   \n",
       "\n",
       "                                                                           4  \n",
       "CLAIM_DATE                                                        2020-02-12  \n",
       "ENCOUNTER_KEY                       a4fabc30fb37246908f0f2cb8e9f43d919d9c7b4  \n",
       "VISIT_ID                            3af070e51212eaa4076e093eb8455d642b333340  \n",
       "SOURCES_ARRAY                                         [\\n  \"fleming-peso\"\\n]  \n",
       "PATIENT_STATE                                                             PA  \n",
       "HCP_1_NPI                                                         1659368736  \n",
       "HCO_1_NPI                                                         1952398125  \n",
       "TOTAL_CLAIM_CHARGE_AMOUNT                                               1545  \n",
       "PAYER_KH_ID                                                              186  \n",
       "PAYER_KH_ID_IMPUTE_FLAG                                                False  \n",
       "BILL_TYPE_CODE                                                          None  \n",
       "PAYER_CHANNEL                                                     Commercial  \n",
       "STATEMENT_FROM                                                          None  \n",
       "STATEMENT_TO                                                            None  \n",
       "DISCHARGE_STATUS_CODE                                                   None  \n",
       "CLAIM_TYPE_CODE                                                            P  \n",
       "ADMIT_TYPE_CODE                                                         None  \n",
       "LINE_CHARGE                                                              450  \n",
       "NDC                                                                     None  \n",
       "DATE_OF_SERVICE                                                 \"2020-02-12\"  \n",
       "SL_SERVICE_FROM                                                 \"2020-02-12\"  \n",
       "SL_SERVICE_TO                                                   \"2020-02-12\"  \n",
       "PROCEDURE                                                            \"58300\"  \n",
       "MODIFIER_1                                                              None  \n",
       "MODIFIER_2                                                              None  \n",
       "MODIFIER_3                                                              None  \n",
       "MODIFIER_4                                                              None  \n",
       "UNITS                                                                      1  \n",
       "PLACE_OF_SERVICE                                                        \"11\"  \n",
       "DIAGNOSIS_CODE_1                                                    \"Z30430\"  \n",
       "DIAGNOSIS_CODE_2                                                        None  \n",
       "DIAGNOSIS_CODE_3                                                        None  \n",
       "DIAGNOSIS_CODE_4                                                        None  \n",
       "REVENUE_CODE                                                            None  \n",
       "EMERGENCY_INDICATOR                                                     None  \n",
       "HCO_S_1_NPI                                                             None  \n",
       "HCP_S_1_NPI                                                             None  \n",
       "HCP_S_2_NPI                                                             None  \n",
       "SERVICE_LINE_NUMBER                                                        2  \n",
       "SOURCE_ROWLEY                                                          False  \n",
       "SOURCE_FSALK                                                           False  \n",
       "SOURCE_FPESO                                                            True  \n",
       "SOURCE_FNIGHT                                                          False  \n",
       "PROCEDURE_DESCRIPTION      Placement of intra-uterine device (IUD) for pr...  \n",
       "VISIT_SETTING_OF_CARE                                       Outpatient Visit  \n",
       "ALLOWED_AMOUNT                                                         23.29  \n",
       "RANDOM_KEY                          a4fabc30fb37246908f0f2cb8e9f43d919d9c7b4  "
      ]
     },
     "execution_count": 10,
     "metadata": {},
     "output_type": "execute_result"
    }
   ],
   "source": [
    "aa_enh_db_01pct_df.head(5).T"
   ]
  },
  {
   "cell_type": "markdown",
   "metadata": {},
   "source": [
    "### Check to see if enhanced allowed amounts and allowed amounts distribution similarly"
   ]
  },
  {
   "cell_type": "code",
   "execution_count": 10,
   "metadata": {
    "scrolled": false
   },
   "outputs": [
    {
     "data": {
      "text/html": [
       "<div>\n",
       "<style scoped>\n",
       "    .dataframe tbody tr th:only-of-type {\n",
       "        vertical-align: middle;\n",
       "    }\n",
       "\n",
       "    .dataframe tbody tr th {\n",
       "        vertical-align: top;\n",
       "    }\n",
       "\n",
       "    .dataframe thead th {\n",
       "        text-align: right;\n",
       "    }\n",
       "</style>\n",
       "<table border=\"1\" class=\"dataframe\">\n",
       "  <thead>\n",
       "    <tr style=\"text-align: right;\">\n",
       "      <th></th>\n",
       "      <th>ALLOWED_AMOUNT_count</th>\n",
       "      <th>ALLOWED_AMOUNT_stddev</th>\n",
       "      <th>ALLOWED_AMOUNT_min</th>\n",
       "      <th>ALLOWED_AMOUNT_1percentile</th>\n",
       "      <th>ALLOWED_AMOUNT_5percentile</th>\n",
       "      <th>ALLOWED_AMOUNT_10percentile</th>\n",
       "      <th>ALLOWED_AMOUNT_25percentile</th>\n",
       "      <th>ALLOWED_AMOUNT_median</th>\n",
       "      <th>ALLOWED_AMOUNT_average</th>\n",
       "      <th>ALLOWED_AMOUNT_75percentile</th>\n",
       "      <th>ALLOWED_AMOUNT_90percentile</th>\n",
       "      <th>ALLOWED_AMOUNT_95percentile</th>\n",
       "      <th>ALLOWED_AMOUNT_99percentile</th>\n",
       "      <th>ALLOWED_AMOUNT_max</th>\n",
       "    </tr>\n",
       "  </thead>\n",
       "  <tbody>\n",
       "    <tr>\n",
       "      <th>0</th>\n",
       "      <td>1322700508</td>\n",
       "      <td>6206.801074</td>\n",
       "      <td>0.01</td>\n",
       "      <td>1.189872</td>\n",
       "      <td>3.851389</td>\n",
       "      <td>6.985319</td>\n",
       "      <td>17.355797</td>\n",
       "      <td>167.128207</td>\n",
       "      <td>55.56</td>\n",
       "      <td>114.173997</td>\n",
       "      <td>223.457204</td>\n",
       "      <td>401.168767</td>\n",
       "      <td>1829.68082</td>\n",
       "      <td>99000000.0</td>\n",
       "    </tr>\n",
       "  </tbody>\n",
       "</table>\n",
       "</div>"
      ],
      "text/plain": [
       "   ALLOWED_AMOUNT_count  ALLOWED_AMOUNT_stddev  ALLOWED_AMOUNT_min  \\\n",
       "0            1322700508            6206.801074                0.01   \n",
       "\n",
       "   ALLOWED_AMOUNT_1percentile  ALLOWED_AMOUNT_5percentile  \\\n",
       "0                    1.189872                    3.851389   \n",
       "\n",
       "   ALLOWED_AMOUNT_10percentile  ALLOWED_AMOUNT_25percentile  \\\n",
       "0                     6.985319                    17.355797   \n",
       "\n",
       "   ALLOWED_AMOUNT_median  ALLOWED_AMOUNT_average  ALLOWED_AMOUNT_75percentile  \\\n",
       "0             167.128207                   55.56                   114.173997   \n",
       "\n",
       "   ALLOWED_AMOUNT_90percentile  ALLOWED_AMOUNT_95percentile  \\\n",
       "0                   223.457204                   401.168767   \n",
       "\n",
       "   ALLOWED_AMOUNT_99percentile  ALLOWED_AMOUNT_max  \n",
       "0                   1829.68082          99000000.0  "
      ]
     },
     "execution_count": 10,
     "metadata": {},
     "output_type": "execute_result"
    }
   ],
   "source": [
    "#basic stats for enhanced_allowed_amount\n",
    "pull_snfdb_dist_summ(x='ALLOWED_AMOUNT', db=aa_enh_db)"
   ]
  },
  {
   "cell_type": "code",
   "execution_count": 11,
   "metadata": {},
   "outputs": [
    {
     "data": {
      "text/html": [
       "<div>\n",
       "<style scoped>\n",
       "    .dataframe tbody tr th:only-of-type {\n",
       "        vertical-align: middle;\n",
       "    }\n",
       "\n",
       "    .dataframe tbody tr th {\n",
       "        vertical-align: top;\n",
       "    }\n",
       "\n",
       "    .dataframe thead th {\n",
       "        text-align: right;\n",
       "    }\n",
       "</style>\n",
       "<table border=\"1\" class=\"dataframe\">\n",
       "  <thead>\n",
       "    <tr style=\"text-align: right;\">\n",
       "      <th></th>\n",
       "      <th>ALLOWED_AMOUNT_count</th>\n",
       "      <th>ALLOWED_AMOUNT_stddev</th>\n",
       "      <th>ALLOWED_AMOUNT_min</th>\n",
       "      <th>ALLOWED_AMOUNT_1percentile</th>\n",
       "      <th>ALLOWED_AMOUNT_5percentile</th>\n",
       "      <th>ALLOWED_AMOUNT_10percentile</th>\n",
       "      <th>ALLOWED_AMOUNT_25percentile</th>\n",
       "      <th>ALLOWED_AMOUNT_median</th>\n",
       "      <th>ALLOWED_AMOUNT_average</th>\n",
       "      <th>ALLOWED_AMOUNT_75percentile</th>\n",
       "      <th>ALLOWED_AMOUNT_90percentile</th>\n",
       "      <th>ALLOWED_AMOUNT_95percentile</th>\n",
       "      <th>ALLOWED_AMOUNT_99percentile</th>\n",
       "      <th>ALLOWED_AMOUNT_max</th>\n",
       "    </tr>\n",
       "  </thead>\n",
       "  <tbody>\n",
       "    <tr>\n",
       "      <th>0</th>\n",
       "      <td>9152760510</td>\n",
       "      <td>1.854537e+06</td>\n",
       "      <td>0.01</td>\n",
       "      <td>1.11295</td>\n",
       "      <td>3.495587</td>\n",
       "      <td>6.416157</td>\n",
       "      <td>16.88965</td>\n",
       "      <td>284.935148</td>\n",
       "      <td>54.34</td>\n",
       "      <td>113.047384</td>\n",
       "      <td>227.473583</td>\n",
       "      <td>437.756452</td>\n",
       "      <td>2560.829998</td>\n",
       "      <td>1.740174e+11</td>\n",
       "    </tr>\n",
       "  </tbody>\n",
       "</table>\n",
       "</div>"
      ],
      "text/plain": [
       "   ALLOWED_AMOUNT_count  ALLOWED_AMOUNT_stddev  ALLOWED_AMOUNT_min  \\\n",
       "0            9152760510           1.854537e+06                0.01   \n",
       "\n",
       "   ALLOWED_AMOUNT_1percentile  ALLOWED_AMOUNT_5percentile  \\\n",
       "0                     1.11295                    3.495587   \n",
       "\n",
       "   ALLOWED_AMOUNT_10percentile  ALLOWED_AMOUNT_25percentile  \\\n",
       "0                     6.416157                     16.88965   \n",
       "\n",
       "   ALLOWED_AMOUNT_median  ALLOWED_AMOUNT_average  ALLOWED_AMOUNT_75percentile  \\\n",
       "0             284.935148                   54.34                   113.047384   \n",
       "\n",
       "   ALLOWED_AMOUNT_90percentile  ALLOWED_AMOUNT_95percentile  \\\n",
       "0                   227.473583                   437.756452   \n",
       "\n",
       "   ALLOWED_AMOUNT_99percentile  ALLOWED_AMOUNT_max  \n",
       "0                  2560.829998        1.740174e+11  "
      ]
     },
     "execution_count": 11,
     "metadata": {},
     "output_type": "execute_result"
    }
   ],
   "source": [
    "#basic stats for allowed_amount\n",
    "pull_snfdb_dist_summ(x='ALLOWED_AMOUNT', db=aa_db)"
   ]
  },
  {
   "cell_type": "markdown",
   "metadata": {},
   "source": [
    "#### Note:  \n",
    "Distributions similar, but all aa database has higher median, 95th, max values. "
   ]
  },
  {
   "cell_type": "markdown",
   "metadata": {},
   "source": [
    "### Inspect Distribution Plots of Amount Fields"
   ]
  },
  {
   "cell_type": "code",
   "execution_count": 31,
   "metadata": {},
   "outputs": [
    {
     "data": {
      "application/vnd.jupyter.widget-view+json": {
       "model_id": "33922c12734e4a6dbcc6420f7f1f3189",
       "version_major": 2,
       "version_minor": 0
      },
      "text/plain": [
       "interactive(children=(Dropdown(description='amount_field', options=('ALLOWED_AMOUNT', 'TOTAL_CLAIM_CHARGE_AMOU…"
      ]
     },
     "metadata": {},
     "output_type": "display_data"
    }
   ],
   "source": [
    "#create interactive plot to graph distributions\n",
    "#To do: Maybe add range slider\n",
    "\n",
    "\n",
    "dist_max=max([aa_enh_db_01pct_df[\"ALLOWED_AMOUNT\"].max(),aa_enh_db_01pct_df[\"TOTAL_CLAIM_CHARGE_AMOUNT\"].max(),\n",
    "             aa_enh_db_01pct_df[\"LINE_CHARGE\"].max()])\n",
    "\n",
    "\n",
    "def create_dist_range_slider (min_amt=0,max_amt=1,step=10):\n",
    "    return widgets.IntRangeSlider(\n",
    "        value=[min_amt,max_amt],\n",
    "        min=min_amt,\n",
    "        max=max_amt,\n",
    "        description='DISTRIBUTION RANGE')\n",
    "\n",
    "@widgets.interact_manual(\n",
    "    amount_field=[\"ALLOWED_AMOUNT\", \"TOTAL_CLAIM_CHARGE_AMOUNT\",\"LINE_CHARGE\"])\n",
    "def plot(amount_field=\"ALLOWED_AMOUNT\", log_transform=False):\n",
    "    data=aa_enh_db_01pct_df[[amount_field]]\n",
    "    if log_transform:\n",
    "        non_pos_count=len(data[data[amount_field]<=0])\n",
    "        if non_pos_count>0:\n",
    "            print(\"WARNING: NON-POSITIVE VALUES! DROPPING \" + str(non_pos_count/len(data)) + \" PERCENT OF OBSERVATIONS\")\n",
    "            data=data[data[amount_field]>0]\n",
    "        data=log(data[[amount_field]]) \n",
    "    min_amt=int(floor(data.min()))\n",
    "    max_amt=int(ceil(data.max()))\n",
    "    #new_max=max_amt\n",
    "    sns.distplot(data,\n",
    "        label=\"1pct_sample\", kde_kws={\"shade\": True},hist=False).set_title(\"Distribution:\"+amount_field)"
   ]
  },
  {
   "cell_type": "code",
   "execution_count": 32,
   "metadata": {},
   "outputs": [
    {
     "data": {
      "text/plain": [
       "<matplotlib.axes._subplots.AxesSubplot at 0x7f91b5422f90>"
      ]
     },
     "execution_count": 32,
     "metadata": {},
     "output_type": "execute_result"
    },
    {
     "data": {
      "image/png": "[encoded data removed]",
      "text/plain": [
       "<Figure size 432x288 with 1 Axes>"
      ]
     },
     "metadata": {},
     "output_type": "display_data"
    }
   ],
   "source": [
    "sns.distplot(aa_enh_db_01pct_df[\"ALLOWED_AMOUNT\"],\n",
    "         kde_kws={\"shade\": True},label=\"allowed amount\", hist=False)\n",
    "sns.distplot(aa_enh_db_01pct_df[\"LINE_CHARGE\"],\n",
    "        label=\"line_charge\", hist=False)\n",
    "sns.distplot(aa_enh_db_01pct_df[\"TOTAL_CLAIM_CHARGE_AMOUNT\"],label=\"total claim charge amount\", hist=False)"
   ]
  },
  {
   "cell_type": "code",
   "execution_count": 33,
   "metadata": {},
   "outputs": [
    {
     "data": {
      "text/plain": [
       "<matplotlib.axes._subplots.AxesSubplot at 0x7f91b3be5850>"
      ]
     },
     "execution_count": 33,
     "metadata": {},
     "output_type": "execute_result"
    },
    {
     "data": {
      "image/png": "[encoded data removed]",
      "text/plain": [
       "<Figure size 432x288 with 1 Axes>"
      ]
     },
     "metadata": {},
     "output_type": "display_data"
    }
   ],
   "source": [
    "log_aa_data=log(aa_enh_db_01pct_df[\"ALLOWED_AMOUNT\"])\n",
    "log_lc_data=log(aa_enh_db_01pct_df.loc[aa_enh_db_01pct_df[\"LINE_CHARGE\"]>0,\"LINE_CHARGE\"])\n",
    "log_tcca_data=log(aa_enh_db_01pct_df.loc[aa_enh_db_01pct_df[\"TOTAL_CLAIM_CHARGE_AMOUNT\"]>0,\n",
    "                                         \"TOTAL_CLAIM_CHARGE_AMOUNT\"])\n",
    "\n",
    "sns.distplot(log_aa_data,\n",
    "         kde_kws={\"shade\": True},label=\"log allowed amount\", hist=False)\n",
    "sns.distplot(log_lc_data,\n",
    "        kde_kws={\"shade\": True},label=\"log line charge\", hist=False)\n",
    "sns.distplot(log_tcca_data,label=\"log total claim c amount\",kde_kws={\"shade\": True}, hist=False)\n"
   ]
  },
  {
   "cell_type": "markdown",
   "metadata": {},
   "source": [
    "### Inspect Fill Rates Plots of Amount Fields"
   ]
  },
  {
   "cell_type": "markdown",
   "metadata": {},
   "source": [
    "#### Fill rates for all analysis data"
   ]
  },
  {
   "cell_type": "code",
   "execution_count": 11,
   "metadata": {
    "scrolled": true
   },
   "outputs": [
    {
     "data": {
      "text/html": [
       "<div>\n",
       "<style scoped>\n",
       "    .dataframe tbody tr th:only-of-type {\n",
       "        vertical-align: middle;\n",
       "    }\n",
       "\n",
       "    .dataframe tbody tr th {\n",
       "        vertical-align: top;\n",
       "    }\n",
       "\n",
       "    .dataframe thead th {\n",
       "        text-align: right;\n",
       "    }\n",
       "</style>\n",
       "<table border=\"1\" class=\"dataframe\">\n",
       "  <thead>\n",
       "    <tr style=\"text-align: right;\">\n",
       "      <th></th>\n",
       "      <th>E_KEY_COUNT</th>\n",
       "      <th>ALLOWED_AMOUNT_FILL_RATE</th>\n",
       "      <th>LINE_CHARGE_FILL_RATE</th>\n",
       "      <th>TOTAL_CLAIM_AMOUNT_FILL_RATE</th>\n",
       "    </tr>\n",
       "  </thead>\n",
       "  <tbody>\n",
       "    <tr>\n",
       "      <th>0</th>\n",
       "      <td>490247282</td>\n",
       "      <td>0.749243</td>\n",
       "      <td>0.346887</td>\n",
       "      <td>0.284712</td>\n",
       "    </tr>\n",
       "  </tbody>\n",
       "</table>\n",
       "</div>"
      ],
      "text/plain": [
       "   E_KEY_COUNT  ALLOWED_AMOUNT_FILL_RATE  LINE_CHARGE_FILL_RATE  \\\n",
       "0    490247282                  0.749243               0.346887   \n",
       "\n",
       "   TOTAL_CLAIM_AMOUNT_FILL_RATE  \n",
       "0                      0.284712  "
      ]
     },
     "execution_count": 11,
     "metadata": {},
     "output_type": "execute_result"
    }
   ],
   "source": [
    "#basic stats for enhanced_allowed_amount\n",
    "temp_select_statement=f\"\"\"select count(distinct encounter_key) as e_key_count\n",
    "  ,(select count(distinct encounter_key) \n",
    "  from \"\"\" + aa_enh_db + f\"\"\"where allowed_amount is NULL)/e_key_count as allowed_amount_fill_rate\n",
    "  ,(select count(distinct encounter_key) \n",
    "  from \"\"\" + aa_enh_db + f\"\"\"where line_charge is NULL)/e_key_count as line_charge_fill_rate\n",
    "  ,(select count(distinct encounter_key) \n",
    "  from \"\"\" + aa_enh_db + f\"\"\"where total_claim_charge_amount is NULL)/e_key_count as total_claim_amount_fill_rate\n",
    "  from\"\"\" + aa_enh_db \n",
    "\n",
    "pull_snfdb(select_statement=temp_select_statement)\n",
    "    "
   ]
  },
  {
   "cell_type": "markdown",
   "metadata": {},
   "source": [
    "### Inspect Conditional Distributions of Amount Fields"
   ]
  },
  {
   "cell_type": "code",
   "execution_count": null,
   "metadata": {},
   "outputs": [],
   "source": []
  },
  {
   "cell_type": "code",
   "execution_count": 21,
   "metadata": {},
   "outputs": [
    {
     "data": {
      "text/plain": [
       "<seaborn.axisgrid.FacetGrid at 0x7f45ae1fbdd0>"
      ]
     },
     "execution_count": 21,
     "metadata": {},
     "output_type": "execute_result"
    },
    {
     "data": {
      "image/png": "[encoded data removed]",
      "text/plain": [
       "<Figure size 360x360 with 1 Axes>"
      ]
     },
     "metadata": {
      "needs_background": "light"
     },
     "output_type": "display_data"
    }
   ],
   "source": [
    "sns.displot(data=aa_enh_db_01pct_df[aa_enh_db_01pct_df.ALLOWED_AMOUNT<10000].ALLOWED_AMOUNT, kind=\"kde\",label=\"allowed_amount\")    \n",
    "#dist_vals=sns.distplot(trunc_df.dropna().LINE_CHARGE, hist_kws={'weights':trunc_df.dropna().PATIENT_COUNT},\n",
    "#                hist=False, label=\"line_charge\").get_lines()[0].get_data()"
   ]
  },
  {
   "cell_type": "code",
   "execution_count": 25,
   "metadata": {},
   "outputs": [
    {
     "data": {
      "text/plain": [
       "<seaborn.axisgrid.FacetGrid at 0x7f458907ce50>"
      ]
     },
     "execution_count": 25,
     "metadata": {},
     "output_type": "execute_result"
    },
    {
     "data": {
      "image/png": "[encoded data removed]",
      "text/plain": [
       "<Figure size 360x360 with 1 Axes>"
      ]
     },
     "metadata": {
      "needs_background": "light"
     },
     "output_type": "display_data"
    }
   ],
   "source": [
    "sns.displot(data=aa_enh_db_01pct_df[aa_enh_db_01pct_df.ALLOWED_AMOUNT<500].ALLOWED_AMOUNT, label=\"allowed_amount\")    \n",
    "#dist_vals=sns.distplot(trunc_df.dropna().LINE_CHARGE, hist_kws={'weights':trunc_df.dropna().PATIENT_COUNT},\n",
    "#                hist=False, label=\"line_charge\").get_lines()[0].get_data()"
   ]
  },
  {
   "cell_type": "code",
   "execution_count": 12,
   "metadata": {},
   "outputs": [
    {
     "data": {
      "text/plain": [
       "<matplotlib.axes._subplots.AxesSubplot at 0x7f9147df6b10>"
      ]
     },
     "execution_count": 12,
     "metadata": {},
     "output_type": "execute_result"
    },
    {
     "data": {
      "image/png": "[encoded data removed]",
      "text/plain": [
       "<Figure size 432x288 with 1 Axes>"
      ]
     },
     "metadata": {
      "needs_background": "light"
     },
     "output_type": "display_data"
    }
   ],
   "source": [
    "temp_df=aa_enh_db_01pct_df[\"LINE_CHARGE\"].dropna()\n",
    "\n",
    "sns.distplot(temp_df,\n",
    "                hist=False,label=\"line_charge\")\n",
    "    \n",
    "#dist_vals=sns.distplot(trunc_df.dropna().LINE_CHARGE, hist_kws={'weights':trunc_df.dropna().PATIENT_COUNT},\n",
    "#                hist=False, label=\"line_charge\").get_lines()[0].get_data()"
   ]
  },
  {
   "cell_type": "markdown",
   "metadata": {},
   "source": [
    "#### Note:  \n",
    "High fill rate for allowed_amount, much lower for line_charge, total_claim_amount"
   ]
  },
  {
   "cell_type": "markdown",
   "metadata": {},
   "source": [
    "### Check on percentage of encounters with various amount fields, grouped by various fields "
   ]
  },
  {
   "cell_type": "code",
   "execution_count": null,
   "metadata": {},
   "outputs": [],
   "source": [
    "bill_type_code\n",
    "* * setting of care\n",
    "* * state\n",
    "* * provider/payer"
   ]
  },
  {
   "cell_type": "code",
   "execution_count": null,
   "metadata": {},
   "outputs": [],
   "source": [
    "dropdown_field = widgets.Dropdown(options = top_proc_list)\n",
    "\n",
    "output_proc = widgets.Output()"
   ]
  },
  {
   "cell_type": "code",
   "execution_count": 40,
   "metadata": {
    "scrolled": true
   },
   "outputs": [
    {
     "data": {
      "application/vnd.jupyter.widget-view+json": {
       "model_id": "dcf009d33adf4c39b272e287b3041265",
       "version_major": 2,
       "version_minor": 0
      },
      "text/plain": [
       "VBox(children=(HBox(children=(HTML(value='Type:'), Button(description='Table', layout=Layout(width='70px'), st…"
      ]
     },
     "metadata": {},
     "output_type": "display_data"
    },
    {
     "data": {
      "application/vnd.jupyter.widget-view+json": {
       "model_id": "139ca956a28a477485c6f252464ba706",
       "version_major": 2,
       "version_minor": 0
      },
      "text/plain": [
       "Output()"
      ]
     },
     "metadata": {},
     "output_type": "display_data"
    }
   ],
   "source": [
    "#basic stats for enhanced_allowed_amount\n",
    "temp_select_statement=f\"\"\"select count(distinct encounter_key) as e_key_count\n",
    "  ,(select count(distinct encounter_key) \n",
    "  from \"\"\" + aa_enh_db + f\"\"\"where allowed_amount is NULL)/e_key_count as allowed_amount_fill_rate\n",
    "  ,(select count(distinct encounter_key) \n",
    "  from \"\"\" + aa_enh_db + f\"\"\"where line_charge is NULL)/e_key_count as line_charge_fill_rate\n",
    "  ,(select count(distinct encounter_key) \n",
    "  from \"\"\" + aa_enh_db + f\"\"\"where total_claim_charge_amount is NULL)/e_key_count as total_claim_amount_fill_rate\n",
    "  from\"\"\" + aa_enh_db \n",
    "\n",
    "pull_snfdb(select_statement=temp_select_statement)\n",
    "    "
   ]
  },
  {
   "cell_type": "markdown",
   "metadata": {},
   "source": [
    "#### Note:  \n",
    "High fill rate for allowed_amount, much lower for line_charge, total_claim_amount"
   ]
  },
  {
   "cell_type": "code",
   "execution_count": null,
   "metadata": {},
   "outputs": [],
   "source": [
    "### Basic dr"
   ]
  },
  {
   "cell_type": "markdown",
   "metadata": {},
   "source": [
    "### TO DO: Check on difference between distributions between allowed amounts and all encounters"
   ]
  },
  {
   "cell_type": "markdown",
   "metadata": {},
   "source": [
    "### Summarize allowed amounts by procedure"
   ]
  },
  {
   "cell_type": "code",
   "execution_count": 62,
   "metadata": {},
   "outputs": [],
   "source": [
    "#basic stats for enhanced_allowed_amount\n",
    "\n",
    "temp_select_statement=f\"\"\" select procedure\n",
    "        , procedure_description\n",
    "        ,count(distinct encounter_key) as count_ekey\n",
    "        ,count(line_charge) as count_lc\n",
    "        ,avg(line_charge::float) as average_lc\n",
    "        ,count(total_claim_charge_amount) as count_tcca\n",
    "        ,avg(total_claim_charge_amount::float) as average_tcca\n",
    "        ,count(ALLOWED_AMOUNT) as count_aa\n",
    "        ,stddev(ALLOWED_AMOUNT) as stddev_aa\n",
    "        ,min(ALLOWED_AMOUNT::float) as min_aa\n",
    "        ,avg(ALLOWED_AMOUNT::float) as average_aa\n",
    "        ,median(ALLOWED_AMOUNT::float) as median_aa\n",
    "         ,max(ALLOWED_AMOUNT::float) as max_aa\n",
    "      from \"\"\" + aa_enh_db_001pct\n",
    "temp_select_statement+=f\"\"\" where procedure is not NULL\"\"\"\n",
    "temp_select_statement+=f\"\"\" group by procedure, procedure_description\"\"\"\n",
    "temp_select_statement+=f\"\"\" order by count_aa DESC\"\"\"\n",
    "\n",
    "px_proc_summary=pull_snfdb(select_statement=temp_select_statement, diag=False)"
   ]
  },
  {
   "cell_type": "code",
   "execution_count": 63,
   "metadata": {},
   "outputs": [],
   "source": [
    "px_proc_summary[\"AA_EKEY_PCT\"]=px_proc_summary[\"COUNT_AA\"]/px_proc_summary[\"COUNT_EKEY\"]\n",
    "px_proc_summary[\"AA_LC\"]=px_proc_summary[\"AVERAGE_AA\"]/px_proc_summary[\"AVERAGE_LC\"]\n",
    "px_proc_summary[\"AA_TCCA\"]=px_proc_summary[\"AVERAGE_AA\"]/px_proc_summary[\"AVERAGE_TCCA\"]"
   ]
  },
  {
   "cell_type": "code",
   "execution_count": 68,
   "metadata": {},
   "outputs": [
    {
     "data": {
      "application/vnd.jupyter.widget-view+json": {
       "model_id": "ba5d2df591c6435480ea570da52934bf",
       "version_major": 2,
       "version_minor": 0
      },
      "text/plain": [
       "VBox(children=(HBox(children=(HTML(value='Type:'), Button(description='Table', layout=Layout(width='70px'), st…"
      ]
     },
     "metadata": {},
     "output_type": "display_data"
    },
    {
     "data": {
      "application/vnd.jupyter.widget-view+json": {
       "model_id": "81d860b3a3b14e8da62de726388862bf",
       "version_major": 2,
       "version_minor": 0
      },
      "text/plain": [
       "Output()"
      ]
     },
     "metadata": {},
     "output_type": "display_data"
    }
   ],
   "source": [
    "px_proc_summary"
   ]
  },
  {
   "cell_type": "markdown",
   "metadata": {},
   "source": [
    "* Average AA vs STDDEV AA-roughly proportional\n",
    "* Average AA vs AVG LC-not proportional\n",
    "* Average AA vs AVG TCCA-def not proportional\n",
    "\n",
    "* fewer ekeys than amounts?\n",
    "* difference between LC and AA\n",
    "* AA as pct of TCCA"
   ]
  },
  {
   "cell_type": "code",
   "execution_count": 67,
   "metadata": {},
   "outputs": [
    {
     "data": {
      "application/vnd.jupyter.widget-view+json": {
       "model_id": "698a856e5b674a69aa98bd9351953742",
       "version_major": 2,
       "version_minor": 0
      },
      "text/plain": [
       "VBox(children=(HBox(children=(HTML(value='Type:'), Button(description='Table', layout=Layout(width='70px'), st…"
      ]
     },
     "metadata": {},
     "output_type": "display_data"
    },
    {
     "data": {
      "application/vnd.jupyter.widget-view+json": {
       "model_id": "e06d4ebc51904be1a8799661870fbad9",
       "version_major": 2,
       "version_minor": 0
      },
      "text/plain": [
       "Output()"
      ]
     },
     "metadata": {},
     "output_type": "display_data"
    }
   ],
   "source": [
    "px_proc_summary[[\"PROCEDURE\", \"PROCEDURE_DESCRIPTION\", \"AA_EKEY_PCT\", \"AA_LC\", \"AA_TCCA\"]].describe()"
   ]
  },
  {
   "cell_type": "markdown",
   "metadata": {},
   "source": [
    "### Notes\n",
    "\n",
    "#### ToDo:\n",
    "##### High-Level Price Stats\n",
    "* Rerun sampling schema\n",
    "* Fill rate for line charge and claim_bill etc\n",
    "* Fill rate by groups\n",
    "* * bill_type_code\n",
    "* * setting of care\n",
    "* * state\n",
    "* * provider/payer\n",
    "##### Stats per Procedure\n",
    "* Interactive chart\n",
    "* * setting of care, payer/provider\n",
    "##### Investigate difference between amount categories\n",
    "* Amounts where allowed_amount is available but not others\n",
    "##### Tooling\n",
    "* disable autovizwidget/transpose"
   ]
  },
  {
   "cell_type": "markdown",
   "metadata": {},
   "source": [
    "## OLD CODE (DEPRECATED)"
   ]
  },
  {
   "cell_type": "markdown",
   "metadata": {},
   "source": [
    "### Interactive Distribution"
   ]
  },
  {
   "cell_type": "code",
   "execution_count": 52,
   "metadata": {},
   "outputs": [
    {
     "data": {
      "application/vnd.jupyter.widget-view+json": {
       "model_id": "31356d28847e438a84eccc2a8f3c1f2f",
       "version_major": 2,
       "version_minor": 0
      },
      "text/plain": [
       "interactive(children=(Dropdown(description='amount_field', options=('ALLOWED_AMOUNT', 'TOTAL_CLAIM_CHARGE_AMOU…"
      ]
     },
     "metadata": {},
     "output_type": "display_data"
    }
   ],
   "source": [
    "@widgets.interact_manual(\n",
    "    amount_field=[\"ALLOWED_AMOUNT\", \"TOTAL_CLAIM_CHARGE_AMOUNT\",\"LINE_CHARGE\"])\n",
    "def plot(amount_field=\"ALLOWED_AMOUNT\", log_transform=False):\n",
    "    data=aa_enh_db_01pct_df[[amount_field]]\n",
    "    if log_transform:\n",
    "        non_pos_count=len(data[data[amount_field]<=0])\n",
    "        if non_pos_count>0:\n",
    "            print(\"WARNING: NON-POSITIVE VALUES! DROPPING \" + str(non_pos_count/len(data)) + \" PERCENT OF OBSERVATIONS\")\n",
    "            data=data[data[amount_field]>0]\n",
    "        data=log(data[[amount_field]])\n",
    "    min_amt=int(floor(data.min()))\n",
    "    max_amt=int(ceil(data.max()))\n",
    "    dist_range_slider=create_dist_range_slider(min_amt, max_amt)\n",
    "    display(dist_range_slider)\n",
    "    dist_range=dist_range_slider.value\n",
    "    #new_max=max_amt\n",
    "    print(dist_range)\n",
    "    sns.distplot(data[(data>=min_amt) & (data<=max_amt)],\n",
    "        label=\"1pct_sample\", hist=False).set_title(\"Distribution:\"+amount_field)"
   ]
  },
  {
   "cell_type": "code",
   "execution_count": 13,
   "metadata": {},
   "outputs": [
    {
     "data": {
      "application/vnd.jupyter.widget-view+json": {
       "model_id": "",
       "version_major": 2,
       "version_minor": 0
      },
      "text/plain": [
       "interactive(children=(Dropdown(description='amount_field', options=('ALLOWED_AMOUNT', 'TOTAL_CLAIM_CHARGE_AMOU…"
      ]
     },
     "metadata": {},
     "output_type": "display_data"
    }
   ],
   "source": [
    "dist_max=max([aa_enh_db_01pct_df[\"ALLOWED_AMOUNT\"].max(),aa_enh_db_01pct_df[\"TOTAL_CLAIM_CHARGE_AMOUNT\"].max(),\n",
    "             aa_enh_db_01pct_df[\"LINE_CHARGE\"].max()])\n",
    "\n",
    "\n",
    "def create_dist_range_slider (min_amt=0,max_amt=1,step=10):\n",
    "    return widgets.IntRangeSlider(\n",
    "        value=[min_amt,max_amt],\n",
    "        min=min_amt,\n",
    "        max=max_amt,\n",
    "        description='DISTRIBUTION RANGE')\n",
    "\n",
    "@widgets.interact_manual(\n",
    "    amount_field=[\"ALLOWED_AMOUNT\", \"TOTAL_CLAIM_CHARGE_AMOUNT\",\"LINE_CHARGE\"])\n",
    "def plot(amount_field=\"ALLOWED_AMOUNT\", log_transform=False,new_max=dist_max):\n",
    "    data=aa_enh_db_01pct_df[[amount_field]]\n",
    "    if log_transform:\n",
    "        non_pos_count=len(data[data[amount_field]<=0])\n",
    "        if non_pos_count>0:\n",
    "            print(\"WARNING: NON-POSITIVE VALUES! DROPPING \" + str(non_pos_count/len(data)) + \" PERCENT OF OBSERVATIONS\")\n",
    "            data=data[data[amount_field]>0]\n",
    "        data=log(data[[amount_field]]) \n",
    "    print(data.min())\n",
    "    min_amt=int(floor(data.min()))\n",
    "    max_amt=int(ceil(data.max()))\n",
    "    #new_max=max_amt\n",
    "    sns.distplot(data[data<=new_max],\n",
    "        label=\"1pct_sample\", hist=False).set_title(\"Distribution:\"+amount_field)"
   ]
  },
  {
   "cell_type": "code",
   "execution_count": 13,
   "metadata": {},
   "outputs": [
    {
     "data": {
      "application/vnd.jupyter.widget-view+json": {
       "model_id": "",
       "version_major": 2,
       "version_minor": 0
      },
      "text/plain": [
       "interactive(children=(Dropdown(description='amount_field', options=('ALLOWED_AMOUNT', 'TOTAL_CLAIM_CHARGE_AMOU…"
      ]
     },
     "metadata": {},
     "output_type": "display_data"
    }
   ],
   "source": [
    "dist_max=max([aa_enh_db_01pct_df[\"ALLOWED_AMOUNT\"].max(),aa_enh_db_01pct_df[\"TOTAL_CLAIM_CHARGE_AMOUNT\"].max(),\n",
    "             aa_enh_db_01pct_df[\"LINE_CHARGE\"].max()])\n",
    "\n",
    "\n",
    "def create_dist_range_slider (min_amt=0,max_amt=1,step=10):\n",
    "    return widgets.IntRangeSlider(\n",
    "        value=[min_amt,max_amt],\n",
    "        min=min_amt,\n",
    "        max=max_amt,\n",
    "        description='DISTRIBUTION RANGE')\n",
    "\n",
    "@widgets.interact_manual(\n",
    "    amount_field=[\"ALLOWED_AMOUNT\", \"TOTAL_CLAIM_CHARGE_AMOUNT\",\"LINE_CHARGE\"])\n",
    "def plot(amount_field=\"ALLOWED_AMOUNT\", log_transform=False,new_max=dist_max):\n",
    "    data=aa_enh_db_01pct_df[[amount_field]]\n",
    "    if log_transform:\n",
    "        non_pos_count=len(data[data[amount_field]<=0])\n",
    "        if non_pos_count>0:\n",
    "            print(\"WARNING: NON-POSITIVE VALUES! DROPPING \" + str(non_pos_count/len(data)) + \" PERCENT OF OBSERVATIONS\")\n",
    "            data=data[data[amount_field]>0]\n",
    "        data=log(data[[amount_field]]) \n",
    "    print(data.min())\n",
    "    min_amt=int(floor(data.min()))\n",
    "    max_amt=int(ceil(data.max()))\n",
    "    #new_max=max_amt\n",
    "    sns.distplot(data[data<=new_max],\n",
    "        label=\"1pct_sample\", hist=False).set_title(\"Distribution:\"+amount_field)"
   ]
  },
  {
   "cell_type": "markdown",
   "metadata": {},
   "source": [
    "### Install packages"
   ]
  },
  {
   "cell_type": "code",
   "execution_count": 2,
   "metadata": {
    "scrolled": false
   },
   "outputs": [
    {
     "name": "stdout",
     "output_type": "stream",
     "text": [
      "Processing ./.cache/pip/wheels/0d/7b/36/4a326271b8c29b364de3641c44a651148578d34d9e11f71f6b/h2o-3.30.1.2-py2.py3-none-any.whl\n",
      "Processing ./.cache/pip/wheels/56/b0/fe/4410d17b32f1f0c3cf54cdfb2bc04d7b4b8f4ae377e2229ba0/future-0.18.2-py3-none-any.whl\n",
      "Requirement already satisfied: requests in /opt/conda/lib/python3.7/site-packages (from h2o) (2.22.0)\n",
      "Collecting tabulate\n",
      "  Using cached tabulate-0.8.7-py3-none-any.whl (24 kB)\n",
      "Requirement already satisfied: colorama>=0.3.8 in /opt/conda/lib/python3.7/site-packages (from h2o) (0.4.3)\n",
      "Requirement already satisfied: certifi>=2017.4.17 in /opt/conda/lib/python3.7/site-packages (from requests->h2o) (2020.6.20)\n",
      "Requirement already satisfied: chardet<3.1.0,>=3.0.2 in /opt/conda/lib/python3.7/site-packages (from requests->h2o) (3.0.4)\n",
      "Collecting idna<2.9,>=2.5\n",
      "  Using cached idna-2.8-py2.py3-none-any.whl (58 kB)\n",
      "Requirement already satisfied: urllib3!=1.25.0,!=1.25.1,<1.26,>=1.21.1 in /opt/conda/lib/python3.7/site-packages (from requests->h2o) (1.25.9)\n",
      "\u001b[31mERROR: snowflake-connector-python 2.2.0 has requirement botocore<1.15,>=1.5.0, but you'll have botocore 1.17.36 which is incompatible.\u001b[0m\n",
      "Installing collected packages: future, tabulate, h2o, idna\n",
      "  Attempting uninstall: idna\n",
      "    Found existing installation: idna 2.9\n",
      "    Uninstalling idna-2.9:\n",
      "      Successfully uninstalled idna-2.9\n",
      "Successfully installed future-0.18.2 h2o-3.30.1.2 idna-2.8 tabulate-0.8.7\n"
     ]
    }
   ],
   "source": [
    "!pip install h2o"
   ]
  },
  {
   "cell_type": "markdown",
   "metadata": {},
   "source": [
    "### Import libraries"
   ]
  },
  {
   "cell_type": "code",
   "execution_count": 3,
   "metadata": {},
   "outputs": [],
   "source": [
    "import h2o\n",
    "import numpy as np\n",
    "from numpy import sqrt, exp\n",
    "import seaborn as sns"
   ]
  },
  {
   "cell_type": "code",
   "execution_count": 5,
   "metadata": {},
   "outputs": [
    {
     "name": "stdout",
     "output_type": "stream",
     "text": [
      "Snowflake user name: ········\n",
      "Password: ········\n"
     ]
    }
   ],
   "source": [
    "import sys \n",
    "#pull in snowflake login snippets\n",
    "sys.path.append('/efs/kamalesh')\n",
    "import jupyter_toolz as jt"
   ]
  },
  {
   "cell_type": "code",
   "execution_count": 6,
   "metadata": {},
   "outputs": [],
   "source": [
    "from sklearn.model_selection import train_test_split\n",
    "from sklearn.metrics import mean_squared_error as mse\n",
    "import pandas as pd\n",
    "from sklearn.linear_model import ElasticNetCV\n",
    "from datetime import datetime"
   ]
  },
  {
   "cell_type": "markdown",
   "metadata": {},
   "source": [
    "### Define functions"
   ]
  },
  {
   "cell_type": "code",
   "execution_count": 7,
   "metadata": {},
   "outputs": [],
   "source": [
    "#generic function to pull in table from snowflake\n",
    "\n",
    "def pull_snfdb(db='\"SANDBOX_KRAO\".\"EDA\".\"PROCEDURE_COST_TABLE\"', limit=None, where=None, diag=False, sample_n=None):\n",
    "    sql = f\"\"\"select * \n",
    "         from {db}\n",
    "        \"\"\" \n",
    "    if sample_n is not None:\n",
    "        sql+=f\"\"\" sample row ({sample_n} rows) \n",
    "        \"\"\" \n",
    "    if where is not None:\n",
    "        sql+=f\"\"\" where {where} \n",
    "        \"\"\"\n",
    "    if limit is not None:\n",
    "        sql+=f\"\"\" limit {limit}\n",
    "        \"\"\"\n",
    "    if not diag:\n",
    "        temp_df=jt.read_sql(sql)\n",
    "        return temp_df\n",
    "    else:\n",
    "        print(sql)\n",
    "        return sql\n",
    "\n",
    "#function for summarizing data within snowflake\n",
    "def pull_snfdb_dist_summ(x='x', db='\"SANDBOX_KRAO\".\"EDA\".\"PROCEDURE_COST_TABLE\"'\n",
    "                         , name_list=['count','stddev','min', '1percentile', '5percentile',\n",
    "                                      '10percentile','25percentile',\n",
    "                                     'median','average','75percentile','90percentile',\n",
    "                                      '95percentile','99percentile','max']):\n",
    "    sql = f\"\"\"select \n",
    "        count(*) as count\n",
    "        ,stddev({x}) as stddev\n",
    "        ,min({x}::float) as min\n",
    "        ,approx_percentile({x}::float,.01) as percentile_1\n",
    "        ,approx_percentile({x}::float,.05) as percentile_5\n",
    "        ,approx_percentile({x}::float,.1) as percentile_10\n",
    "        ,approx_percentile({x}::float,.25) as percentile_25\n",
    "        ,avg({x}::float) as average\n",
    "        ,median({x}::float) as median\n",
    "        ,approx_percentile({x}::float,.75) as percentile_75\n",
    "        ,approx_percentile({x}::float,.9) as percentile_90\n",
    "        ,approx_percentile({x}::float,.95) as percentile_95\n",
    "        ,approx_percentile({x}::float,.99) as percentile_99\n",
    "         ,max({x}::float) as max\n",
    "         from {db}\n",
    "        \"\"\" \n",
    "    temp_df=jt.read_sql(sql)\n",
    "    temp_df.columns=[x+'_'+y for y in name_list]\n",
    "    return temp_df"
   ]
  },
  {
   "cell_type": "markdown",
   "metadata": {},
   "source": [
    "### Define Databases"
   ]
  },
  {
   "cell_type": "code",
   "execution_count": 8,
   "metadata": {},
   "outputs": [],
   "source": [
    "#px database\n",
    "snf_px_db='\"SANDBOX_KRAO\".\"EDA\".\"PROCEDURE_ALLOWED_AMOUNT_TABLE\"'\n",
    "\n",
    "#trimmed px database\n",
    "snf_trim_px_db='\"SANDBOX_KRAO\".\"EDA\".\"TRIMMED_PROCEDURE_ALLOWED_AMOUNT_TABLE\"'\n",
    "\n",
    "#summary stats of trimmed px grouped by procedure \n",
    "aa_proc_stats_db='\"SANDBOX_KRAO\".\"EDA\".\"PROCEDURE_STATS_TABLE\"'\n",
    "\n",
    "#summary stats of trimmed px grouped by procedure \n",
    "aa_trim_proc_stats_db='\"SANDBOX_KRAO\".\"EDA\".\"PROCEDURE_STATS_TRIMMED_TABLE\"'"
   ]
  },
  {
   "cell_type": "markdown",
   "metadata": {},
   "source": [
    "### Inspect Data"
   ]
  },
  {
   "cell_type": "code",
   "execution_count": 9,
   "metadata": {
    "scrolled": false
   },
   "outputs": [
    {
     "data": {
      "text/html": [
       "<div>\n",
       "<style scoped>\n",
       "    .dataframe tbody tr th:only-of-type {\n",
       "        vertical-align: middle;\n",
       "    }\n",
       "\n",
       "    .dataframe tbody tr th {\n",
       "        vertical-align: top;\n",
       "    }\n",
       "\n",
       "    .dataframe thead th {\n",
       "        text-align: right;\n",
       "    }\n",
       "</style>\n",
       "<table border=\"1\" class=\"dataframe\">\n",
       "  <thead>\n",
       "    <tr style=\"text-align: right;\">\n",
       "      <th></th>\n",
       "      <th>ALLOWED_AMOUNT_count</th>\n",
       "      <th>ALLOWED_AMOUNT_stddev</th>\n",
       "      <th>ALLOWED_AMOUNT_min</th>\n",
       "      <th>ALLOWED_AMOUNT_1percentile</th>\n",
       "      <th>ALLOWED_AMOUNT_5percentile</th>\n",
       "      <th>ALLOWED_AMOUNT_10percentile</th>\n",
       "      <th>ALLOWED_AMOUNT_25percentile</th>\n",
       "      <th>ALLOWED_AMOUNT_median</th>\n",
       "      <th>ALLOWED_AMOUNT_average</th>\n",
       "      <th>ALLOWED_AMOUNT_75percentile</th>\n",
       "      <th>ALLOWED_AMOUNT_90percentile</th>\n",
       "      <th>ALLOWED_AMOUNT_95percentile</th>\n",
       "      <th>ALLOWED_AMOUNT_99percentile</th>\n",
       "      <th>ALLOWED_AMOUNT_max</th>\n",
       "    </tr>\n",
       "  </thead>\n",
       "  <tbody>\n",
       "    <tr>\n",
       "      <th>0</th>\n",
       "      <td>1313737065</td>\n",
       "      <td>2008.805729</td>\n",
       "      <td>0.01</td>\n",
       "      <td>0.609121</td>\n",
       "      <td>3.237748</td>\n",
       "      <td>6.103384</td>\n",
       "      <td>16.039944</td>\n",
       "      <td>175.491228</td>\n",
       "      <td>53.03</td>\n",
       "      <td>112.674024</td>\n",
       "      <td>223.164371</td>\n",
       "      <td>415.79028</td>\n",
       "      <td>1997.185633</td>\n",
       "      <td>3962020.1</td>\n",
       "    </tr>\n",
       "  </tbody>\n",
       "</table>\n",
       "</div>"
      ],
      "text/plain": [
       "   ALLOWED_AMOUNT_count  ALLOWED_AMOUNT_stddev  ALLOWED_AMOUNT_min  \\\n",
       "0            1313737065            2008.805729                0.01   \n",
       "\n",
       "   ALLOWED_AMOUNT_1percentile  ALLOWED_AMOUNT_5percentile  \\\n",
       "0                    0.609121                    3.237748   \n",
       "\n",
       "   ALLOWED_AMOUNT_10percentile  ALLOWED_AMOUNT_25percentile  \\\n",
       "0                     6.103384                    16.039944   \n",
       "\n",
       "   ALLOWED_AMOUNT_median  ALLOWED_AMOUNT_average  ALLOWED_AMOUNT_75percentile  \\\n",
       "0             175.491228                   53.03                   112.674024   \n",
       "\n",
       "   ALLOWED_AMOUNT_90percentile  ALLOWED_AMOUNT_95percentile  \\\n",
       "0                   223.164371                    415.79028   \n",
       "\n",
       "   ALLOWED_AMOUNT_99percentile  ALLOWED_AMOUNT_max  \n",
       "0                  1997.185633           3962020.1  "
      ]
     },
     "execution_count": 9,
     "metadata": {},
     "output_type": "execute_result"
    }
   ],
   "source": [
    "#basic stats\n",
    "pull_snfdb_dist_summ(x='ALLOWED_AMOUNT', db=snf_px_db)"
   ]
  },
  {
   "cell_type": "code",
   "execution_count": 10,
   "metadata": {
    "scrolled": true
   },
   "outputs": [
    {
     "data": {
      "text/html": [
       "<div>\n",
       "<style scoped>\n",
       "    .dataframe tbody tr th:only-of-type {\n",
       "        vertical-align: middle;\n",
       "    }\n",
       "\n",
       "    .dataframe tbody tr th {\n",
       "        vertical-align: top;\n",
       "    }\n",
       "\n",
       "    .dataframe thead th {\n",
       "        text-align: right;\n",
       "    }\n",
       "</style>\n",
       "<table border=\"1\" class=\"dataframe\">\n",
       "  <thead>\n",
       "    <tr style=\"text-align: right;\">\n",
       "      <th></th>\n",
       "      <th>ALLOWED_AMOUNT_count</th>\n",
       "      <th>ALLOWED_AMOUNT_stddev</th>\n",
       "      <th>ALLOWED_AMOUNT_min</th>\n",
       "      <th>ALLOWED_AMOUNT_1percentile</th>\n",
       "      <th>ALLOWED_AMOUNT_5percentile</th>\n",
       "      <th>ALLOWED_AMOUNT_10percentile</th>\n",
       "      <th>ALLOWED_AMOUNT_25percentile</th>\n",
       "      <th>ALLOWED_AMOUNT_median</th>\n",
       "      <th>ALLOWED_AMOUNT_average</th>\n",
       "      <th>ALLOWED_AMOUNT_75percentile</th>\n",
       "      <th>ALLOWED_AMOUNT_90percentile</th>\n",
       "      <th>ALLOWED_AMOUNT_95percentile</th>\n",
       "      <th>ALLOWED_AMOUNT_99percentile</th>\n",
       "      <th>ALLOWED_AMOUNT_max</th>\n",
       "    </tr>\n",
       "  </thead>\n",
       "  <tbody>\n",
       "    <tr>\n",
       "      <th>0</th>\n",
       "      <td>1182477371</td>\n",
       "      <td>960.43488</td>\n",
       "      <td>0.01</td>\n",
       "      <td>1.281801</td>\n",
       "      <td>3.541573</td>\n",
       "      <td>6.662015</td>\n",
       "      <td>16.313425</td>\n",
       "      <td>136.840913</td>\n",
       "      <td>52.38</td>\n",
       "      <td>107.610085</td>\n",
       "      <td>193.779611</td>\n",
       "      <td>338.55725</td>\n",
       "      <td>1391.487447</td>\n",
       "      <td>785385.375</td>\n",
       "    </tr>\n",
       "  </tbody>\n",
       "</table>\n",
       "</div>"
      ],
      "text/plain": [
       "   ALLOWED_AMOUNT_count  ALLOWED_AMOUNT_stddev  ALLOWED_AMOUNT_min  \\\n",
       "0            1182477371              960.43488                0.01   \n",
       "\n",
       "   ALLOWED_AMOUNT_1percentile  ALLOWED_AMOUNT_5percentile  \\\n",
       "0                    1.281801                    3.541573   \n",
       "\n",
       "   ALLOWED_AMOUNT_10percentile  ALLOWED_AMOUNT_25percentile  \\\n",
       "0                     6.662015                    16.313425   \n",
       "\n",
       "   ALLOWED_AMOUNT_median  ALLOWED_AMOUNT_average  ALLOWED_AMOUNT_75percentile  \\\n",
       "0             136.840913                   52.38                   107.610085   \n",
       "\n",
       "   ALLOWED_AMOUNT_90percentile  ALLOWED_AMOUNT_95percentile  \\\n",
       "0                   193.779611                    338.55725   \n",
       "\n",
       "   ALLOWED_AMOUNT_99percentile  ALLOWED_AMOUNT_max  \n",
       "0                  1391.487447          785385.375  "
      ]
     },
     "execution_count": 10,
     "metadata": {},
     "output_type": "execute_result"
    }
   ],
   "source": [
    "#basic stats from trimmed table\n",
    "pull_snfdb_dist_summ(x='ALLOWED_AMOUNT', db=snf_trim_px_db)"
   ]
  },
  {
   "cell_type": "code",
   "execution_count": 11,
   "metadata": {},
   "outputs": [],
   "source": [
    "#get all trimmed prices mean and stddev\n",
    "\n",
    "aa_trim_stats_summ_df=pull_snfdb_dist_summ(x='ALLOWED_AMOUNT', db=snf_trim_px_db)\n",
    "px_trim_mean=aa_trim_stats_summ_df[\"ALLOWED_AMOUNT_average\"][0]\n",
    "px_trim_std=aa_trim_stats_summ_df[\"ALLOWED_AMOUNT_stddev\"][0]"
   ]
  },
  {
   "cell_type": "code",
   "execution_count": 12,
   "metadata": {},
   "outputs": [
    {
     "data": {
      "text/html": [
       "<div>\n",
       "<style scoped>\n",
       "    .dataframe tbody tr th:only-of-type {\n",
       "        vertical-align: middle;\n",
       "    }\n",
       "\n",
       "    .dataframe tbody tr th {\n",
       "        vertical-align: top;\n",
       "    }\n",
       "\n",
       "    .dataframe thead th {\n",
       "        text-align: right;\n",
       "    }\n",
       "</style>\n",
       "<table border=\"1\" class=\"dataframe\">\n",
       "  <thead>\n",
       "    <tr style=\"text-align: right;\">\n",
       "      <th></th>\n",
       "      <th>COUNT(DISTINCT PROCEDURE)</th>\n",
       "    </tr>\n",
       "  </thead>\n",
       "  <tbody>\n",
       "    <tr>\n",
       "      <th>0</th>\n",
       "      <td>21569</td>\n",
       "    </tr>\n",
       "  </tbody>\n",
       "</table>\n",
       "</div>"
      ],
      "text/plain": [
       "   COUNT(DISTINCT PROCEDURE)\n",
       "0                      21569"
      ]
     },
     "execution_count": 12,
     "metadata": {},
     "output_type": "execute_result"
    }
   ],
   "source": [
    "#total count of procedures with minimum count\n",
    "jt.read_sql(f\"\"\"select count(distinct procedure) from {snf_trim_px_db}\"\"\")"
   ]
  },
  {
   "cell_type": "code",
   "execution_count": 13,
   "metadata": {},
   "outputs": [
    {
     "data": {
      "text/html": [
       "<div>\n",
       "<style scoped>\n",
       "    .dataframe tbody tr th:only-of-type {\n",
       "        vertical-align: middle;\n",
       "    }\n",
       "\n",
       "    .dataframe tbody tr th {\n",
       "        vertical-align: top;\n",
       "    }\n",
       "\n",
       "    .dataframe thead th {\n",
       "        text-align: right;\n",
       "    }\n",
       "</style>\n",
       "<table border=\"1\" class=\"dataframe\">\n",
       "  <thead>\n",
       "    <tr style=\"text-align: right;\">\n",
       "      <th></th>\n",
       "      <th>PROCEDURE</th>\n",
       "      <th>STDDEV_ALLOWED_AMOUNT</th>\n",
       "      <th>MED_ALLOWED_AMOUNT</th>\n",
       "      <th>MEAN_ALLOWED_AMOUNT</th>\n",
       "    </tr>\n",
       "  </thead>\n",
       "  <tbody>\n",
       "    <tr>\n",
       "      <th>0</th>\n",
       "      <td>A4217</td>\n",
       "      <td>50.288062</td>\n",
       "      <td>11.900</td>\n",
       "      <td>33.545633</td>\n",
       "    </tr>\n",
       "    <tr>\n",
       "      <th>1</th>\n",
       "      <td>G0383</td>\n",
       "      <td>504.670161</td>\n",
       "      <td>277.200</td>\n",
       "      <td>551.530523</td>\n",
       "    </tr>\n",
       "    <tr>\n",
       "      <th>2</th>\n",
       "      <td>4015F</td>\n",
       "      <td>81.967309</td>\n",
       "      <td>0.010</td>\n",
       "      <td>48.946306</td>\n",
       "    </tr>\n",
       "    <tr>\n",
       "      <th>3</th>\n",
       "      <td>32653</td>\n",
       "      <td>519.325601</td>\n",
       "      <td>1019.880</td>\n",
       "      <td>975.343090</td>\n",
       "    </tr>\n",
       "    <tr>\n",
       "      <th>4</th>\n",
       "      <td>67405</td>\n",
       "      <td>526.184579</td>\n",
       "      <td>856.005</td>\n",
       "      <td>1025.655169</td>\n",
       "    </tr>\n",
       "    <tr>\n",
       "      <th>...</th>\n",
       "      <td>...</td>\n",
       "      <td>...</td>\n",
       "      <td>...</td>\n",
       "      <td>...</td>\n",
       "    </tr>\n",
       "    <tr>\n",
       "      <th>95</th>\n",
       "      <td>Q2037</td>\n",
       "      <td>3.593146</td>\n",
       "      <td>17.690</td>\n",
       "      <td>18.411525</td>\n",
       "    </tr>\n",
       "    <tr>\n",
       "      <th>96</th>\n",
       "      <td>55513020901</td>\n",
       "      <td>39.318722</td>\n",
       "      <td>480.000</td>\n",
       "      <td>468.900882</td>\n",
       "    </tr>\n",
       "    <tr>\n",
       "      <th>97</th>\n",
       "      <td>43229</td>\n",
       "      <td>875.790896</td>\n",
       "      <td>308.130</td>\n",
       "      <td>804.479045</td>\n",
       "    </tr>\n",
       "    <tr>\n",
       "      <th>98</th>\n",
       "      <td>4532</td>\n",
       "      <td>42.684420</td>\n",
       "      <td>86.400</td>\n",
       "      <td>91.612855</td>\n",
       "    </tr>\n",
       "    <tr>\n",
       "      <th>99</th>\n",
       "      <td>21215</td>\n",
       "      <td>1584.438021</td>\n",
       "      <td>1313.090</td>\n",
       "      <td>2077.839750</td>\n",
       "    </tr>\n",
       "  </tbody>\n",
       "</table>\n",
       "<p>100 rows × 4 columns</p>\n",
       "</div>"
      ],
      "text/plain": [
       "      PROCEDURE  STDDEV_ALLOWED_AMOUNT  MED_ALLOWED_AMOUNT  \\\n",
       "0         A4217              50.288062              11.900   \n",
       "1         G0383             504.670161             277.200   \n",
       "2         4015F              81.967309               0.010   \n",
       "3         32653             519.325601            1019.880   \n",
       "4         67405             526.184579             856.005   \n",
       "..          ...                    ...                 ...   \n",
       "95        Q2037               3.593146              17.690   \n",
       "96  55513020901              39.318722             480.000   \n",
       "97        43229             875.790896             308.130   \n",
       "98         4532              42.684420              86.400   \n",
       "99        21215            1584.438021            1313.090   \n",
       "\n",
       "    MEAN_ALLOWED_AMOUNT  \n",
       "0             33.545633  \n",
       "1            551.530523  \n",
       "2             48.946306  \n",
       "3            975.343090  \n",
       "4           1025.655169  \n",
       "..                  ...  \n",
       "95            18.411525  \n",
       "96           468.900882  \n",
       "97           804.479045  \n",
       "98            91.612855  \n",
       "99          2077.839750  \n",
       "\n",
       "[100 rows x 4 columns]"
      ]
     },
     "execution_count": 13,
     "metadata": {},
     "output_type": "execute_result"
    }
   ],
   "source": [
    "#total count of procedures with minimum count\n",
    "pull_snfdb(aa_trim_proc_stats_db, limit=100)"
   ]
  },
  {
   "cell_type": "code",
   "execution_count": 14,
   "metadata": {
    "scrolled": true
   },
   "outputs": [
    {
     "data": {
      "text/html": [
       "<div>\n",
       "<style scoped>\n",
       "    .dataframe tbody tr th:only-of-type {\n",
       "        vertical-align: middle;\n",
       "    }\n",
       "\n",
       "    .dataframe tbody tr th {\n",
       "        vertical-align: top;\n",
       "    }\n",
       "\n",
       "    .dataframe thead th {\n",
       "        text-align: right;\n",
       "    }\n",
       "</style>\n",
       "<table border=\"1\" class=\"dataframe\">\n",
       "  <thead>\n",
       "    <tr style=\"text-align: right;\">\n",
       "      <th></th>\n",
       "      <th>MEAN_ALLOWED_AMOUNT_count</th>\n",
       "      <th>MEAN_ALLOWED_AMOUNT_stddev</th>\n",
       "      <th>MEAN_ALLOWED_AMOUNT_min</th>\n",
       "      <th>MEAN_ALLOWED_AMOUNT_1percentile</th>\n",
       "      <th>MEAN_ALLOWED_AMOUNT_5percentile</th>\n",
       "      <th>MEAN_ALLOWED_AMOUNT_10percentile</th>\n",
       "      <th>MEAN_ALLOWED_AMOUNT_25percentile</th>\n",
       "      <th>MEAN_ALLOWED_AMOUNT_median</th>\n",
       "      <th>MEAN_ALLOWED_AMOUNT_average</th>\n",
       "      <th>MEAN_ALLOWED_AMOUNT_75percentile</th>\n",
       "      <th>MEAN_ALLOWED_AMOUNT_90percentile</th>\n",
       "      <th>MEAN_ALLOWED_AMOUNT_95percentile</th>\n",
       "      <th>MEAN_ALLOWED_AMOUNT_99percentile</th>\n",
       "      <th>MEAN_ALLOWED_AMOUNT_max</th>\n",
       "    </tr>\n",
       "  </thead>\n",
       "  <tbody>\n",
       "    <tr>\n",
       "      <th>0</th>\n",
       "      <td>21569</td>\n",
       "      <td>7741.285249</td>\n",
       "      <td>0.01</td>\n",
       "      <td>0.614</td>\n",
       "      <td>8.081726</td>\n",
       "      <td>19.437045</td>\n",
       "      <td>76.26113</td>\n",
       "      <td>3599.824817</td>\n",
       "      <td>446.396067</td>\n",
       "      <td>2274.895489</td>\n",
       "      <td>13094.384429</td>\n",
       "      <td>18837.975224</td>\n",
       "      <td>34549.646676</td>\n",
       "      <td>187099.721923</td>\n",
       "    </tr>\n",
       "  </tbody>\n",
       "</table>\n",
       "</div>"
      ],
      "text/plain": [
       "   MEAN_ALLOWED_AMOUNT_count  MEAN_ALLOWED_AMOUNT_stddev  \\\n",
       "0                      21569                 7741.285249   \n",
       "\n",
       "   MEAN_ALLOWED_AMOUNT_min  MEAN_ALLOWED_AMOUNT_1percentile  \\\n",
       "0                     0.01                            0.614   \n",
       "\n",
       "   MEAN_ALLOWED_AMOUNT_5percentile  MEAN_ALLOWED_AMOUNT_10percentile  \\\n",
       "0                         8.081726                         19.437045   \n",
       "\n",
       "   MEAN_ALLOWED_AMOUNT_25percentile  MEAN_ALLOWED_AMOUNT_median  \\\n",
       "0                          76.26113                 3599.824817   \n",
       "\n",
       "   MEAN_ALLOWED_AMOUNT_average  MEAN_ALLOWED_AMOUNT_75percentile  \\\n",
       "0                   446.396067                       2274.895489   \n",
       "\n",
       "   MEAN_ALLOWED_AMOUNT_90percentile  MEAN_ALLOWED_AMOUNT_95percentile  \\\n",
       "0                      13094.384429                      18837.975224   \n",
       "\n",
       "   MEAN_ALLOWED_AMOUNT_99percentile  MEAN_ALLOWED_AMOUNT_max  \n",
       "0                      34549.646676            187099.721923  "
      ]
     },
     "execution_count": 14,
     "metadata": {},
     "output_type": "execute_result"
    }
   ],
   "source": [
    "#basic stats of procedure-level data\n",
    "pull_snfdb_dist_summ(x='MEAN_ALLOWED_AMOUNT', db=aa_trim_proc_stats_db)"
   ]
  },
  {
   "cell_type": "code",
   "execution_count": 15,
   "metadata": {
    "scrolled": true
   },
   "outputs": [
    {
     "data": {
      "text/html": [
       "<div>\n",
       "<style scoped>\n",
       "    .dataframe tbody tr th:only-of-type {\n",
       "        vertical-align: middle;\n",
       "    }\n",
       "\n",
       "    .dataframe tbody tr th {\n",
       "        vertical-align: top;\n",
       "    }\n",
       "\n",
       "    .dataframe thead th {\n",
       "        text-align: right;\n",
       "    }\n",
       "</style>\n",
       "<table border=\"1\" class=\"dataframe\">\n",
       "  <thead>\n",
       "    <tr style=\"text-align: right;\">\n",
       "      <th></th>\n",
       "      <th>STDDEV_ALLOWED_AMOUNT_count</th>\n",
       "      <th>STDDEV_ALLOWED_AMOUNT_stddev</th>\n",
       "      <th>STDDEV_ALLOWED_AMOUNT_min</th>\n",
       "      <th>STDDEV_ALLOWED_AMOUNT_1percentile</th>\n",
       "      <th>STDDEV_ALLOWED_AMOUNT_5percentile</th>\n",
       "      <th>STDDEV_ALLOWED_AMOUNT_10percentile</th>\n",
       "      <th>STDDEV_ALLOWED_AMOUNT_25percentile</th>\n",
       "      <th>STDDEV_ALLOWED_AMOUNT_median</th>\n",
       "      <th>STDDEV_ALLOWED_AMOUNT_average</th>\n",
       "      <th>STDDEV_ALLOWED_AMOUNT_75percentile</th>\n",
       "      <th>STDDEV_ALLOWED_AMOUNT_90percentile</th>\n",
       "      <th>STDDEV_ALLOWED_AMOUNT_95percentile</th>\n",
       "      <th>STDDEV_ALLOWED_AMOUNT_99percentile</th>\n",
       "      <th>STDDEV_ALLOWED_AMOUNT_max</th>\n",
       "    </tr>\n",
       "  </thead>\n",
       "  <tbody>\n",
       "    <tr>\n",
       "      <th>0</th>\n",
       "      <td>21569</td>\n",
       "      <td>8091.120077</td>\n",
       "      <td>0.0</td>\n",
       "      <td>0.003191</td>\n",
       "      <td>3.866478</td>\n",
       "      <td>11.209325</td>\n",
       "      <td>43.142994</td>\n",
       "      <td>3366.332628</td>\n",
       "      <td>308.532975</td>\n",
       "      <td>1654.926641</td>\n",
       "      <td>11878.998624</td>\n",
       "      <td>18413.682426</td>\n",
       "      <td>36735.75136</td>\n",
       "      <td>205730.559812</td>\n",
       "    </tr>\n",
       "  </tbody>\n",
       "</table>\n",
       "</div>"
      ],
      "text/plain": [
       "   STDDEV_ALLOWED_AMOUNT_count  STDDEV_ALLOWED_AMOUNT_stddev  \\\n",
       "0                        21569                   8091.120077   \n",
       "\n",
       "   STDDEV_ALLOWED_AMOUNT_min  STDDEV_ALLOWED_AMOUNT_1percentile  \\\n",
       "0                        0.0                           0.003191   \n",
       "\n",
       "   STDDEV_ALLOWED_AMOUNT_5percentile  STDDEV_ALLOWED_AMOUNT_10percentile  \\\n",
       "0                           3.866478                           11.209325   \n",
       "\n",
       "   STDDEV_ALLOWED_AMOUNT_25percentile  STDDEV_ALLOWED_AMOUNT_median  \\\n",
       "0                           43.142994                   3366.332628   \n",
       "\n",
       "   STDDEV_ALLOWED_AMOUNT_average  STDDEV_ALLOWED_AMOUNT_75percentile  \\\n",
       "0                     308.532975                         1654.926641   \n",
       "\n",
       "   STDDEV_ALLOWED_AMOUNT_90percentile  STDDEV_ALLOWED_AMOUNT_95percentile  \\\n",
       "0                        11878.998624                        18413.682426   \n",
       "\n",
       "   STDDEV_ALLOWED_AMOUNT_99percentile  STDDEV_ALLOWED_AMOUNT_max  \n",
       "0                         36735.75136              205730.559812  "
      ]
     },
     "execution_count": 15,
     "metadata": {},
     "output_type": "execute_result"
    }
   ],
   "source": [
    "#basic stats of procedure-level data (5% trim)\n",
    "pull_snfdb_dist_summ(x='STDDEV_ALLOWED_AMOUNT', db=aa_trim_proc_stats_db)"
   ]
  },
  {
   "cell_type": "code",
   "execution_count": 17,
   "metadata": {
    "scrolled": true
   },
   "outputs": [
    {
     "data": {
      "text/html": [
       "<div>\n",
       "<style scoped>\n",
       "    .dataframe tbody tr th:only-of-type {\n",
       "        vertical-align: middle;\n",
       "    }\n",
       "\n",
       "    .dataframe tbody tr th {\n",
       "        vertical-align: top;\n",
       "    }\n",
       "\n",
       "    .dataframe thead th {\n",
       "        text-align: right;\n",
       "    }\n",
       "</style>\n",
       "<table border=\"1\" class=\"dataframe\">\n",
       "  <thead>\n",
       "    <tr style=\"text-align: right;\">\n",
       "      <th></th>\n",
       "      <th>STDDEV_ALLOWED_AMOUNT</th>\n",
       "      <th>MED_ALLOWED_AMOUNT</th>\n",
       "      <th>MEAN_ALLOWED_AMOUNT</th>\n",
       "    </tr>\n",
       "  </thead>\n",
       "  <tbody>\n",
       "    <tr>\n",
       "      <th>count</th>\n",
       "      <td>21569.000000</td>\n",
       "      <td>21569.000000</td>\n",
       "      <td>21569.000000</td>\n",
       "    </tr>\n",
       "    <tr>\n",
       "      <th>mean</th>\n",
       "      <td>3366.332628</td>\n",
       "      <td>2647.694271</td>\n",
       "      <td>3599.824817</td>\n",
       "    </tr>\n",
       "    <tr>\n",
       "      <th>std</th>\n",
       "      <td>8091.120077</td>\n",
       "      <td>5777.967801</td>\n",
       "      <td>7741.285249</td>\n",
       "    </tr>\n",
       "    <tr>\n",
       "      <th>min</th>\n",
       "      <td>0.000000</td>\n",
       "      <td>0.010000</td>\n",
       "      <td>0.010000</td>\n",
       "    </tr>\n",
       "    <tr>\n",
       "      <th>25%</th>\n",
       "      <td>43.117560</td>\n",
       "      <td>56.240000</td>\n",
       "      <td>76.135861</td>\n",
       "    </tr>\n",
       "    <tr>\n",
       "      <th>50%</th>\n",
       "      <td>308.532975</td>\n",
       "      <td>309.430000</td>\n",
       "      <td>446.396067</td>\n",
       "    </tr>\n",
       "    <tr>\n",
       "      <th>75%</th>\n",
       "      <td>1653.628791</td>\n",
       "      <td>1859.830000</td>\n",
       "      <td>2271.524441</td>\n",
       "    </tr>\n",
       "    <tr>\n",
       "      <th>max</th>\n",
       "      <td>205730.559812</td>\n",
       "      <td>125625.000000</td>\n",
       "      <td>187099.721923</td>\n",
       "    </tr>\n",
       "  </tbody>\n",
       "</table>\n",
       "</div>"
      ],
      "text/plain": [
       "       STDDEV_ALLOWED_AMOUNT  MED_ALLOWED_AMOUNT  MEAN_ALLOWED_AMOUNT\n",
       "count           21569.000000        21569.000000         21569.000000\n",
       "mean             3366.332628         2647.694271          3599.824817\n",
       "std              8091.120077         5777.967801          7741.285249\n",
       "min                 0.000000            0.010000             0.010000\n",
       "25%                43.117560           56.240000            76.135861\n",
       "50%               308.532975          309.430000           446.396067\n",
       "75%              1653.628791         1859.830000          2271.524441\n",
       "max            205730.559812       125625.000000        187099.721923"
      ]
     },
     "execution_count": 17,
     "metadata": {},
     "output_type": "execute_result"
    }
   ],
   "source": [
    "#pull and summarize std_dev by procedure of trimmed prices\n",
    "aa_trim_std_df=pull_snfdb(db=aa_trim_proc_stats_db)\n",
    "aa_trim_std_df.describe()"
   ]
  },
  {
   "cell_type": "code",
   "execution_count": 18,
   "metadata": {},
   "outputs": [
    {
     "data": {
      "image/png": "[encoded data removed]",
      "text/plain": [
       "<Figure size 432x288 with 1 Axes>"
      ]
     },
     "metadata": {
      "needs_background": "light"
     },
     "output_type": "display_data"
    }
   ],
   "source": [
    "#plot stddev vs mean\n",
    "ax = sns.scatterplot(y='STDDEV_ALLOWED_AMOUNT', x='MEAN_ALLOWED_AMOUNT', data=aa_trim_std_df)\n"
   ]
  },
  {
   "cell_type": "markdown",
   "metadata": {},
   "source": [
    "### Generate Regression data frames"
   ]
  },
  {
   "cell_type": "markdown",
   "metadata": {},
   "source": [
    "#### Model Formula\n",
    "\n",
    "\\begin{equation*}\n",
    "log(y_i-y_m-\\overline{p})=\\overrightarrow{STATE_i}+\\overrightarrow{PAYERID_i}+\\overrightarrow{PROCEDURE_i}+\\overrightarrow{CHANNEL_i}\\end{equation*}\n",
    "\n",
    "\\begin{equation*}\n",
    "y_m: trimmed mean procedure price\n",
    "\\end{equation*}\n",
    "\n",
    "\\begin{equation*}\n",
    "\\overline{p}: trimmed mean procedure price\n",
    "\\end{equation*}\n",
    "\n",
    "\n",
    "\\begin{equation*}\n",
    "\\overrightarrow{STATE_i}: vector of state dummy variables\n",
    "\\end{equation*}\n",
    "\n",
    "\\begin{equation*}\n",
    "\\overrightarrow{PAYERID_i}: vector of payer IDs\n",
    "\\end{equation*}\n",
    "\n",
    "\\begin{equation*}\n",
    "\\overrightarrow{PROCEDURE_i}: vector of procedure ids\n",
    "\\end{equation*}\n",
    "\n",
    "\\begin{equation*}\n",
    "\\overrightarrow{CHANNEL_i}: vector of channel ids\n",
    "\\end{equation*}"
   ]
  },
  {
   "cell_type": "code",
   "execution_count": 46,
   "metadata": {},
   "outputs": [],
   "source": [
    "sample_size=100000\n",
    "runs=25"
   ]
  },
  {
   "cell_type": "code",
   "execution_count": 21,
   "metadata": {},
   "outputs": [],
   "source": [
    "def get_time():\n",
    "    now = datetime.now()\n",
    "    current_time = now.strftime(\"%H:%M:%S\")\n",
    "    return current_time"
   ]
  },
  {
   "cell_type": "code",
   "execution_count": 22,
   "metadata": {},
   "outputs": [],
   "source": [
    "rmse_mean=[]\n",
    "rmse_fit=[]"
   ]
  },
  {
   "cell_type": "markdown",
   "metadata": {},
   "source": [
    "### Run Sampled Regression"
   ]
  },
  {
   "cell_type": "code",
   "execution_count": 47,
   "metadata": {},
   "outputs": [
    {
     "name": "stdout",
     "output_type": "stream",
     "text": [
      "Starting loop  0 20:38:13\n",
      "    Ended sample pull  20:38:50\n",
      "    Fit model 20:42:15\n",
      "    No model rmse:  0.46453548392165445\n",
      "    Model rmse:  0.2611429140773535\n",
      "    Total loop time 0:04:02.440295\n",
      "Starting loop  1 20:42:15\n",
      "    Ended sample pull  20:42:24\n",
      "    Fit model 20:45:54\n",
      "    No model rmse:  1.0568837887077294\n",
      "    Model rmse:  1.057116698679596\n",
      "    Total loop time 0:03:38.722012\n",
      "Starting loop  2 20:45:54\n",
      "    Ended sample pull  20:46:02\n",
      "    Fit model 20:49:26\n",
      "    No model rmse:  0.08922288284189785\n",
      "    Model rmse:  0.0815181820628682\n",
      "    Total loop time 0:03:32.612621\n",
      "Starting loop  3 20:49:26\n",
      "    Ended sample pull  20:49:34\n",
      "    Fit model 20:52:55\n",
      "    No model rmse:  0.1691953946220815\n",
      "    Model rmse:  0.24547027094496182\n",
      "    Total loop time 0:03:28.652020\n",
      "Starting loop  4 20:52:55\n",
      "    Ended sample pull  20:53:02\n",
      "    Fit model 20:56:42\n",
      "    No model rmse:  0.2505793813066237\n",
      "    Model rmse:  0.20419015247900313\n",
      "    Total loop time 0:03:46.748897\n",
      "Starting loop  5 20:56:42\n",
      "    Ended sample pull  20:56:49\n",
      "    Fit model 20:59:59\n",
      "    No model rmse:  1.382102176693552\n",
      "    Model rmse:  0.26289915945395087\n",
      "    Total loop time 0:03:17.716498\n",
      "Starting loop  6 21:00:00\n",
      "    Ended sample pull  21:00:08\n",
      "    Fit model 21:03:33\n",
      "    No model rmse:  0.2573637111079538\n",
      "    Model rmse:  0.21899012781693786\n",
      "    Total loop time 0:03:33.954035\n",
      "Starting loop  7 21:03:33\n",
      "    Ended sample pull  21:03:41\n",
      "    Fit model 21:07:01\n",
      "    No model rmse:  0.28186070377536837\n",
      "    Model rmse:  0.2818603692713505\n",
      "    Total loop time 0:03:27.130389\n",
      "Starting loop  8 21:07:01\n",
      "    Ended sample pull  21:07:08\n",
      "    Fit model 21:10:34\n",
      "    No model rmse:  0.39136969856014636\n",
      "    Model rmse:  0.3693342022377499\n",
      "    Total loop time 0:03:33.140602\n",
      "Starting loop  9 21:10:34\n",
      "    Ended sample pull  21:10:41\n",
      "    Fit model 21:14:01\n",
      "    No model rmse:  1.0977122341206333\n",
      "    Model rmse:  0.39077711606218685\n",
      "    Total loop time 0:03:27.396495\n",
      "Starting loop  10 21:14:01\n",
      "    Ended sample pull  21:14:09\n",
      "    Fit model 21:17:32\n",
      "    No model rmse:  0.29586968678279757\n",
      "    Model rmse:  0.2891463717858057\n",
      "    Total loop time 0:03:30.665609\n",
      "Starting loop  11 21:17:32\n",
      "    Ended sample pull  21:17:39\n",
      "    Fit model 21:20:56\n",
      "    No model rmse:  0.11137950693464341\n",
      "    Model rmse:  0.11137759910489704\n",
      "    Total loop time 0:03:24.482836\n",
      "Starting loop  12 21:20:56\n",
      "    Ended sample pull  21:21:04\n",
      "    Fit model 21:24:27\n",
      "    No model rmse:  0.2944071492063212\n",
      "    Model rmse:  0.2944071492063212\n",
      "    Total loop time 0:03:30.384498\n",
      "Starting loop  13 21:24:27\n",
      "    Ended sample pull  21:24:34\n",
      "    Fit model 21:27:57\n",
      "    No model rmse:  0.3023039982833192\n",
      "    Model rmse:  0.1951503308925164\n",
      "    Total loop time 0:03:30.413715\n",
      "Starting loop  14 21:27:57\n",
      "    Ended sample pull  21:28:04\n",
      "    Fit model 21:31:16\n",
      "    No model rmse:  0.1495526346951391\n",
      "    Model rmse:  0.20449462333567553\n",
      "    Total loop time 0:03:18.775103\n",
      "Starting loop  15 21:31:16\n",
      "    Ended sample pull  21:31:23\n",
      "    Fit model 21:34:34\n",
      "    No model rmse:  0.14837265920094564\n",
      "    Model rmse:  0.14837204163282527\n",
      "    Total loop time 0:03:17.993391\n",
      "Starting loop  16 21:34:34\n",
      "    Ended sample pull  21:34:41\n",
      "    Fit model 21:37:57\n",
      "    No model rmse:  0.10335503860124691\n",
      "    Model rmse:  0.13477684370405155\n",
      "    Total loop time 0:03:22.934298\n",
      "Starting loop  17 21:37:57\n",
      "    Ended sample pull  21:38:04\n",
      "    Fit model 21:41:15\n",
      "    No model rmse:  1.4200730620172863\n",
      "    Model rmse:  0.7580852789312804\n",
      "    Total loop time 0:03:18.029750\n",
      "Starting loop  18 21:41:15\n",
      "    Ended sample pull  21:41:23\n",
      "    Fit model 21:44:42\n",
      "    No model rmse:  0.22883108573937727\n",
      "    Model rmse:  0.07874694136559182\n",
      "    Total loop time 0:03:26.978051\n",
      "Starting loop  19 21:44:42\n",
      "    Ended sample pull  21:44:49\n",
      "    Fit model 21:47:56\n",
      "    No model rmse:  1.0916473315920492\n",
      "    Model rmse:  0.30615450169928415\n",
      "    Total loop time 0:03:14.585402\n",
      "Starting loop  20 21:47:56\n",
      "    Ended sample pull  21:48:04\n",
      "    Fit model 21:51:22\n",
      "    No model rmse:  0.3208233595466918\n",
      "    Model rmse:  0.3017029921900061\n",
      "    Total loop time 0:03:25.114315\n",
      "Starting loop  21 21:51:22\n",
      "    Ended sample pull  21:51:29\n",
      "    Fit model 21:54:45\n",
      "    No model rmse:  0.238915677305066\n",
      "    Model rmse:  0.10131374032823108\n",
      "    Total loop time 0:03:23.262854\n",
      "Starting loop  22 21:54:45\n",
      "    Ended sample pull  21:54:52\n",
      "    Fit model 21:57:52\n",
      "    No model rmse:  0.3592803169351873\n",
      "    Model rmse:  0.358949975137411\n",
      "    Total loop time 0:03:07.582798\n",
      "Starting loop  23 21:57:52\n",
      "    Ended sample pull  21:58:00\n",
      "    Fit model 22:01:10\n",
      "    No model rmse:  1.3857834911163835\n",
      "    Model rmse:  1.39610105690839\n",
      "    Total loop time 0:03:17.633687\n",
      "Starting loop  24 22:01:10\n",
      "    Ended sample pull  22:01:18\n",
      "    Fit model 22:04:32\n",
      "    No model rmse:  0.1983056189341732\n",
      "    Model rmse:  0.14813162960088852\n",
      "    Total loop time 0:03:21.762587\n"
     ]
    }
   ],
   "source": [
    "#sample from trimmed price data frame\n",
    "\n",
    "for j in range(runs):\n",
    "\n",
    "\n",
    "    start_time=datetime.now()\n",
    "    print(\"Starting loop \", j, get_time())\n",
    "\n",
    "    #sample data \n",
    "    temp_df=pull_snfdb(db=snf_trim_px_db,\n",
    "                   sample_n=sample_size)\n",
    "    print(\"    Ended sample pull \", get_time())\n",
    "    #define y as log amount minus global mean minus procedure mean\n",
    "    temp_df[\"LOG_ALLOWED_AMOUNT\"]=np.log(temp_df[\"ALLOWED_AMOUNT\"])\n",
    "    temp_df[\"LOG_ALLOWED_AMOUNT_CENTER\"]=np.log(temp_df[\"ALLOWED_AMOUNT\"])/np.log(px_trim_mean)\n",
    "    temp_df[\"LOG_ALLOWED_AMOUNT_CENTER_ADJUSTED\"]=temp_df[\"LOG_ALLOWED_AMOUNT_CENTER\"]/np.log(temp_df[\"TRIM_5_MEAN\"])\n",
    "\n",
    "    #convert booleans to ints\n",
    "    temp_df[\"PAYER_KH_ID_IMPUTE_FLAG_INT\"] = temp_df.PAYER_KH_ID_IMPUTE_FLAG.replace({True: 1, False: 0})\n",
    "    temp_df[\"SOURCE_ROWLEY_INT\"] = temp_df.SOURCE_ROWLEY.replace({True: 1, False: 0})\n",
    "    temp_df[\"SOURCE_FLEMINGSALK_INT\"] = temp_df.SOURCE_FLEMINGSALK.replace({True: 1, False: 0})\n",
    "    temp_df[\"SOURCE_FLEMINGPESO_INT\"] = temp_df.SOURCE_FLEMINGPESO.replace({True: 1, False: 0})\n",
    "    temp_df[\"SOURCE_FLEMINGNIGHTINGALE_INT\"] = temp_df.SOURCE_FLEMINGNIGHTINGALE.replace({True: 1, False: 0})\n",
    "\n",
    "    #declare reg variables and create regression data frame\n",
    "    yName='LOG_ALLOWED_AMOUNT_CENTER_ADJUSTED'\n",
    "    px_reg_df=pd.concat([pd.get_dummies(temp_df.PATIENT_STATE, prefix=\"STATE\"), pd.get_dummies(temp_df.PAYER_KH_ID, \n",
    "                    prefix=\"PAYER\"),pd.get_dummies(temp_df.PROCEDURE, prefix=\"PROCEDURE\"),\n",
    "                    pd.get_dummies(temp_df.CHANNEL, prefix=\"CHANNEL\"),\n",
    "                     temp_df[['PAYER_KH_ID_IMPUTE_FLAG_INT', 'SOURCE_ROWLEY_INT', 'SOURCE_FLEMINGSALK_INT',\n",
    "                               'SOURCE_FLEMINGPESO_INT', 'SOURCE_FLEMINGNIGHTINGALE_INT']]], axis=1)\n",
    "    xNames=px_reg_df.columns\n",
    "    px_reg_df=pd.concat([temp_df[yName],px_reg_df], axis=1)\n",
    "\n",
    "    #split into training, test frames\n",
    "    X_train, X_test, y_train, y_test = train_test_split(px_reg_df[xNames],\n",
    "                                                    px_reg_df[yName],\n",
    "                                                    test_size=0.25, random_state=0)\n",
    "\n",
    "    #fit model via elasticnet\n",
    "    eNetReg = ElasticNetCV(normalize=True)\n",
    "    eNetReg.fit(X_train, y_train)\n",
    "    yFit=eNetReg.predict(X_test)\n",
    "    \n",
    "    print(\"    Fit model\", get_time())\n",
    "    \n",
    "    #store coefficients\n",
    "    coefDF=pd.DataFrame({\"coef\":X_test.columns.values, \"valCoefs\": eNetReg.coef_})\n",
    "\n",
    "    for i in range(len(X_test.columns.values)):\n",
    "        temp_list=enet_coef_results.get(X_test.columns.values[i],[])\n",
    "        temp_list.append(eNetReg.coef_[i])\n",
    "        enet_coef_results[X_test.columns.values[i]]=temp_list\n",
    "\n",
    "    #calculate and store rmse\n",
    "    rmse_mean.extend([sqrt(mse(y_test,[np.mean(y_train)]*len(y_test)))])\n",
    "    rmse_fit.extend([sqrt(mse(yFit,y_test))])\n",
    "    \n",
    "    #print results\n",
    "    print (\"    No model rmse: \", rmse_mean[-1])\n",
    "    print (\"    Model rmse: \",rmse_fit[-1])\n",
    "    \n",
    "    print(\"    Total loop time\", datetime.now()-start_time)\n",
    "    "
   ]
  },
  {
   "cell_type": "markdown",
   "metadata": {},
   "source": [
    "### Print Results of Sampled Regressions"
   ]
  },
  {
   "cell_type": "code",
   "execution_count": 48,
   "metadata": {
    "scrolled": true
   },
   "outputs": [],
   "source": [
    "#set reg col names (needs to be reset if new columns added)\n",
    "xreg_col_names=X_test.columns.values"
   ]
  },
  {
   "cell_type": "code",
   "execution_count": 49,
   "metadata": {},
   "outputs": [],
   "source": [
    "#store results of runs in dictionary indexed by column names\n",
    "enet_coef_results={}\n",
    "for col in xreg_col_names:\n",
    "    enet_coef_results[col]=[]\n",
    "    "
   ]
  },
  {
   "cell_type": "code",
   "execution_count": 50,
   "metadata": {},
   "outputs": [
    {
     "name": "stdout",
     "output_type": "stream",
     "text": [
      "No model rmse 0.5183906946759451\n"
     ]
    }
   ],
   "source": [
    "print (\"No model rmse\", np.mean(rmse_mean))"
   ]
  },
  {
   "cell_type": "code",
   "execution_count": 51,
   "metadata": {},
   "outputs": [
    {
     "name": "stdout",
     "output_type": "stream",
     "text": [
      "0.34104078968480783\n"
     ]
    }
   ],
   "source": [
    "print (np.mean(rmse_fit))"
   ]
  },
  {
   "cell_type": "code",
   "execution_count": 52,
   "metadata": {},
   "outputs": [
    {
     "ename": "NameError",
     "evalue": "name 'X_trim_train' is not defined",
     "output_type": "error",
     "traceback": [
      "\u001b[0;31m---------------------------------------------------------------------------\u001b[0m",
      "\u001b[0;31mNameError\u001b[0m                                 Traceback (most recent call last)",
      "\u001b[0;32m<ipython-input-52-e7721e7f1444>\u001b[0m in \u001b[0;36m<module>\u001b[0;34m\u001b[0m\n\u001b[1;32m      1\u001b[0m \u001b[0myFit\u001b[0m\u001b[0;34m=\u001b[0m\u001b[0;34m[\u001b[0m\u001b[0mnp\u001b[0m\u001b[0;34m.\u001b[0m\u001b[0mmean\u001b[0m\u001b[0;34m(\u001b[0m\u001b[0mX_train\u001b[0m\u001b[0;34m)\u001b[0m\u001b[0;34m]\u001b[0m\u001b[0;34m*\u001b[0m\u001b[0mlen\u001b[0m\u001b[0;34m(\u001b[0m\u001b[0mX_test\u001b[0m\u001b[0;34m)\u001b[0m\u001b[0;34m\u001b[0m\u001b[0;34m\u001b[0m\u001b[0m\n\u001b[0;32m----> 2\u001b[0;31m \u001b[0my_trim_Fit\u001b[0m\u001b[0;34m=\u001b[0m\u001b[0;34m[\u001b[0m\u001b[0mnp\u001b[0m\u001b[0;34m.\u001b[0m\u001b[0mmean\u001b[0m\u001b[0;34m(\u001b[0m\u001b[0mX_trim_train\u001b[0m\u001b[0;34m)\u001b[0m\u001b[0;34m]\u001b[0m\u001b[0;34m*\u001b[0m\u001b[0mlen\u001b[0m\u001b[0;34m(\u001b[0m\u001b[0mX_trim_test\u001b[0m\u001b[0;34m)\u001b[0m\u001b[0;34m\u001b[0m\u001b[0;34m\u001b[0m\u001b[0m\n\u001b[0m\u001b[1;32m      3\u001b[0m \u001b[0mpred_mse\u001b[0m\u001b[0;34m.\u001b[0m\u001b[0mextend\u001b[0m\u001b[0;34m(\u001b[0m\u001b[0;34m[\u001b[0m\u001b[0msqrt\u001b[0m\u001b[0;34m(\u001b[0m\u001b[0mmse\u001b[0m\u001b[0;34m(\u001b[0m\u001b[0mexp\u001b[0m\u001b[0;34m(\u001b[0m\u001b[0myFit\u001b[0m\u001b[0;34m)\u001b[0m\u001b[0;34m,\u001b[0m\u001b[0mexp\u001b[0m\u001b[0;34m(\u001b[0m\u001b[0mX_test\u001b[0m\u001b[0;34m)\u001b[0m\u001b[0;34m)\u001b[0m\u001b[0;34m)\u001b[0m\u001b[0;34m]\u001b[0m\u001b[0;34m)\u001b[0m\u001b[0;34m\u001b[0m\u001b[0;34m\u001b[0m\u001b[0m\n\u001b[1;32m      4\u001b[0m \u001b[0mpred_5p_trim_mse\u001b[0m\u001b[0;34m.\u001b[0m\u001b[0mextend\u001b[0m\u001b[0;34m(\u001b[0m\u001b[0;34m[\u001b[0m\u001b[0msqrt\u001b[0m\u001b[0;34m(\u001b[0m\u001b[0mmse\u001b[0m\u001b[0;34m(\u001b[0m\u001b[0mexp\u001b[0m\u001b[0;34m(\u001b[0m\u001b[0my_trim_Fit\u001b[0m\u001b[0;34m)\u001b[0m\u001b[0;34m,\u001b[0m\u001b[0mexp\u001b[0m\u001b[0;34m(\u001b[0m\u001b[0mX_trim_test\u001b[0m\u001b[0;34m)\u001b[0m\u001b[0;34m)\u001b[0m\u001b[0;34m)\u001b[0m\u001b[0;34m]\u001b[0m\u001b[0;34m)\u001b[0m\u001b[0;34m\u001b[0m\u001b[0;34m\u001b[0m\u001b[0m\n",
      "\u001b[0;31mNameError\u001b[0m: name 'X_trim_train' is not defined"
     ]
    }
   ],
   "source": [
    "yFit=[np.mean(X_train)]*len(X_test)\n",
    "y_trim_Fit=[np.mean(X_trim_train)]*len(X_trim_test)\n",
    "pred_mse.extend([sqrt(mse(exp(yFit),exp(X_test)))])\n",
    "pred_5p_trim_mse.extend([sqrt(mse(exp(y_trim_Fit),exp(X_trim_test)))])"
   ]
  },
  {
   "cell_type": "code",
   "execution_count": null,
   "metadata": {},
   "outputs": [],
   "source": [
    "temp_df.columns"
   ]
  },
  {
   "cell_type": "code",
   "execution_count": null,
   "metadata": {
    "scrolled": true
   },
   "outputs": [],
   "source": [
    "px_reg_df.head()"
   ]
  },
  {
   "cell_type": "code",
   "execution_count": null,
   "metadata": {},
   "outputs": [],
   "source": [
    "enet_coef_results"
   ]
  },
  {
   "cell_type": "markdown",
   "metadata": {},
   "source": [
    "### h2o Test"
   ]
  },
  {
   "cell_type": "code",
   "execution_count": 35,
   "metadata": {},
   "outputs": [
    {
     "name": "stdout",
     "output_type": "stream",
     "text": [
      "Checking whether there is an H2O instance running at http://localhost:54321 ..... not found.\n",
      "Attempting to start a local H2O server...\n",
      "  Java Version: openjdk version \"1.8.0_252\"; OpenJDK Runtime Environment (build 1.8.0_252-8u252-b09-1~18.04-b09); OpenJDK 64-Bit Server VM (build 25.252-b09, mixed mode)\n",
      "  Starting server from /opt/conda/lib/python3.7/site-packages/h2o/backend/bin/h2o.jar\n",
      "  Ice root: /tmp/tmpn80m47b2\n",
      "  JVM stdout: /tmp/tmpn80m47b2/h2o_jovyan_started_from_python.out\n",
      "  JVM stderr: /tmp/tmpn80m47b2/h2o_jovyan_started_from_python.err\n",
      "  Server is running at http://127.0.0.1:54321\n",
      "Connecting to H2O server at http://127.0.0.1:54321 ... successful.\n"
     ]
    },
    {
     "data": {
      "text/html": [
       "<div style=\"overflow:auto\"><table style=\"width:50%\"><tr><td>H2O_cluster_uptime:</td>\n",
       "<td>02 secs</td></tr>\n",
       "<tr><td>H2O_cluster_timezone:</td>\n",
       "<td>Etc/UTC</td></tr>\n",
       "<tr><td>H2O_data_parsing_timezone:</td>\n",
       "<td>UTC</td></tr>\n",
       "<tr><td>H2O_cluster_version:</td>\n",
       "<td>3.30.1.2</td></tr>\n",
       "<tr><td>H2O_cluster_version_age:</td>\n",
       "<td>20 days </td></tr>\n",
       "<tr><td>H2O_cluster_name:</td>\n",
       "<td>H2O_from_python_jovyan_fho28m</td></tr>\n",
       "<tr><td>H2O_cluster_total_nodes:</td>\n",
       "<td>1</td></tr>\n",
       "<tr><td>H2O_cluster_free_memory:</td>\n",
       "<td>15.20 Gb</td></tr>\n",
       "<tr><td>H2O_cluster_total_cores:</td>\n",
       "<td>1</td></tr>\n",
       "<tr><td>H2O_cluster_allowed_cores:</td>\n",
       "<td>1</td></tr>\n",
       "<tr><td>H2O_cluster_status:</td>\n",
       "<td>accepting new members, healthy</td></tr>\n",
       "<tr><td>H2O_connection_url:</td>\n",
       "<td>http://127.0.0.1:54321</td></tr>\n",
       "<tr><td>H2O_connection_proxy:</td>\n",
       "<td>{\"http\": null, \"https\": null}</td></tr>\n",
       "<tr><td>H2O_internal_security:</td>\n",
       "<td>False</td></tr>\n",
       "<tr><td>H2O_API_Extensions:</td>\n",
       "<td>Amazon S3, XGBoost, Algos, AutoML, Core V3, TargetEncoder, Core V4</td></tr>\n",
       "<tr><td>Python_version:</td>\n",
       "<td>3.7.6 final</td></tr></table></div>"
      ],
      "text/plain": [
       "--------------------------  ------------------------------------------------------------------\n",
       "H2O_cluster_uptime:         02 secs\n",
       "H2O_cluster_timezone:       Etc/UTC\n",
       "H2O_data_parsing_timezone:  UTC\n",
       "H2O_cluster_version:        3.30.1.2\n",
       "H2O_cluster_version_age:    20 days\n",
       "H2O_cluster_name:           H2O_from_python_jovyan_fho28m\n",
       "H2O_cluster_total_nodes:    1\n",
       "H2O_cluster_free_memory:    15.20 Gb\n",
       "H2O_cluster_total_cores:    1\n",
       "H2O_cluster_allowed_cores:  1\n",
       "H2O_cluster_status:         accepting new members, healthy\n",
       "H2O_connection_url:         http://127.0.0.1:54321\n",
       "H2O_connection_proxy:       {\"http\": null, \"https\": null}\n",
       "H2O_internal_security:      False\n",
       "H2O_API_Extensions:         Amazon S3, XGBoost, Algos, AutoML, Core V3, TargetEncoder, Core V4\n",
       "Python_version:             3.7.6 final\n",
       "--------------------------  ------------------------------------------------------------------"
      ]
     },
     "metadata": {},
     "output_type": "display_data"
    }
   ],
   "source": [
    "h2o.init()"
   ]
  },
  {
   "cell_type": "code",
   "execution_count": 45,
   "metadata": {
    "scrolled": true
   },
   "outputs": [
    {
     "name": "stdout",
     "output_type": "stream",
     "text": [
      "Parse progress: |█████████████████████████████████████████████████████████| 100%\n",
      "Parse progress: |█████████████████████████████████████████████████████████| 100%\n",
      "AutoML progress: |\n",
      "20:04:49.363: User specified a validation frame with cross-validation still enabled. Please note that the models will still be validated using cross-validation only, the validation frame will be used to provide purely informative validation metrics on the trained models.\n",
      "\n",
      "████████████████████████████████████████████████████████| 100%\n"
     ]
    }
   ],
   "source": [
    "from h2o.automl import H2OAutoML\n",
    "aml = H2OAutoML(max_runtime_secs=1800, seed=1)\n",
    "trainH2o=h2o.H2OFrame(pd.concat([y_train,X_train ], axis=1))\n",
    "testH2o=h2o.H2OFrame(pd.concat([y_test,X_test], axis=1))\n",
    "aml.train(x=xNames.tolist(), y=yName, training_frame=trainH2o,\n",
    "          validation_frame=testH2o,leaderboard_frame=testH2o)"
   ]
  },
  {
   "cell_type": "code",
   "execution_count": 53,
   "metadata": {
    "scrolled": true
   },
   "outputs": [
    {
     "data": {
      "text/html": [
       "<table>\n",
       "<thead>\n",
       "<tr><th>model_id                                           </th><th style=\"text-align: right;\">  mean_residual_deviance</th><th style=\"text-align: right;\">    rmse</th><th style=\"text-align: right;\">      mse</th><th style=\"text-align: right;\">      mae</th><th style=\"text-align: right;\">  rmsle</th></tr>\n",
       "</thead>\n",
       "<tbody>\n",
       "<tr><td>StackedEnsemble_BestOfFamily_AutoML_20200923_200449</td><td style=\"text-align: right;\">               0.0538497</td><td style=\"text-align: right;\">0.232055</td><td style=\"text-align: right;\">0.0538497</td><td style=\"text-align: right;\">0.0430717</td><td style=\"text-align: right;\">    nan</td></tr>\n",
       "<tr><td>StackedEnsemble_AllModels_AutoML_20200923_200449   </td><td style=\"text-align: right;\">               0.0550182</td><td style=\"text-align: right;\">0.23456 </td><td style=\"text-align: right;\">0.0550182</td><td style=\"text-align: right;\">0.0428493</td><td style=\"text-align: right;\">    nan</td></tr>\n",
       "<tr><td>GLM_1_AutoML_20200923_200449                       </td><td style=\"text-align: right;\">               0.0978393</td><td style=\"text-align: right;\">0.312793</td><td style=\"text-align: right;\">0.0978393</td><td style=\"text-align: right;\">0.0424971</td><td style=\"text-align: right;\">    nan</td></tr>\n",
       "<tr><td>XGBoost_3_AutoML_20200923_200449                   </td><td style=\"text-align: right;\">               0.116541 </td><td style=\"text-align: right;\">0.341382</td><td style=\"text-align: right;\">0.116541 </td><td style=\"text-align: right;\">0.190801 </td><td style=\"text-align: right;\">    nan</td></tr>\n",
       "<tr><td>XGBoost_1_AutoML_20200923_200449                   </td><td style=\"text-align: right;\">               0.131677 </td><td style=\"text-align: right;\">0.362873</td><td style=\"text-align: right;\">0.131677 </td><td style=\"text-align: right;\">0.190306 </td><td style=\"text-align: right;\">    nan</td></tr>\n",
       "<tr><td>XGBoost_2_AutoML_20200923_200449                   </td><td style=\"text-align: right;\">               0.135456 </td><td style=\"text-align: right;\">0.368044</td><td style=\"text-align: right;\">0.135456 </td><td style=\"text-align: right;\">0.19163  </td><td style=\"text-align: right;\">    nan</td></tr>\n",
       "</tbody>\n",
       "</table>"
      ]
     },
     "metadata": {},
     "output_type": "display_data"
    },
    {
     "data": {
      "text/plain": []
     },
     "execution_count": 53,
     "metadata": {},
     "output_type": "execute_result"
    }
   ],
   "source": [
    "aml.leaderboard"
   ]
  },
  {
   "cell_type": "code",
   "execution_count": 54,
   "metadata": {},
   "outputs": [
    {
     "name": "stdout",
     "output_type": "stream",
     "text": [
      "Model Details\n",
      "=============\n",
      "H2OStackedEnsembleEstimator :  Stacked Ensemble\n",
      "Model Key:  StackedEnsemble_BestOfFamily_AutoML_20200923_200449\n",
      "\n",
      "No model summary for this model\n",
      "\n",
      "ModelMetricsRegressionGLM: stackedensemble\n",
      "** Reported on train data. **\n",
      "\n",
      "MSE: 0.018456219041449878\n",
      "RMSE: 0.1358536677511869\n",
      "MAE: 0.042277732369016406\n",
      "RMSLE: NaN\n",
      "R^2: 0.7197785648808512\n",
      "Mean Residual Deviance: 0.018456219041449878\n",
      "Null degrees of freedom: 9915\n",
      "Residual degrees of freedom: 9913\n",
      "Null deviance: 653.0973483337377\n",
      "Residual deviance: 183.011868015017\n",
      "AIC: -11439.792181489584\n",
      "\n",
      "ModelMetricsRegressionGLM: stackedensemble\n",
      "** Reported on validation data. **\n",
      "\n",
      "MSE: 0.053849718728594155\n",
      "RMSE: 0.23205542167463822\n",
      "MAE: 0.04307168691397011\n",
      "RMSLE: NaN\n",
      "R^2: 0.4538492567503153\n",
      "Mean Residual Deviance: 0.053849718728594155\n",
      "Null degrees of freedom: 24999\n",
      "Residual degrees of freedom: 24997\n",
      "Null deviance: 2464.965925137148\n",
      "Residual deviance: 1346.2429682148538\n",
      "AIC: -2084.025805569242\n",
      "\n",
      "ModelMetricsRegressionGLM: stackedensemble\n",
      "** Reported on cross-validation data. **\n",
      "\n",
      "MSE: 0.6748326152084023\n",
      "RMSE: 0.8214819628016201\n",
      "MAE: 0.05430643992685907\n",
      "RMSLE: NaN\n",
      "R^2: 0.019093457225126453\n",
      "Mean Residual Deviance: 0.6748326152084023\n",
      "Null degrees of freedom: 74999\n",
      "Residual degrees of freedom: 74997\n",
      "Null deviance: 51599.31666589311\n",
      "Residual deviance: 50612.44614063017\n",
      "AIC: 183351.9852559406\n"
     ]
    },
    {
     "data": {
      "text/plain": []
     },
     "execution_count": 54,
     "metadata": {},
     "output_type": "execute_result"
    }
   ],
   "source": [
    "aml.leader"
   ]
  },
  {
   "cell_type": "markdown",
   "metadata": {},
   "source": [
    "### Old Code (for review)"
   ]
  },
  {
   "cell_type": "code",
   "execution_count": 34,
   "metadata": {},
   "outputs": [
    {
     "data": {
      "text/html": [
       "<div>\n",
       "<style scoped>\n",
       "    .dataframe tbody tr th:only-of-type {\n",
       "        vertical-align: middle;\n",
       "    }\n",
       "\n",
       "    .dataframe tbody tr th {\n",
       "        vertical-align: top;\n",
       "    }\n",
       "\n",
       "    .dataframe thead th {\n",
       "        text-align: right;\n",
       "    }\n",
       "</style>\n",
       "<table border=\"1\" class=\"dataframe\">\n",
       "  <thead>\n",
       "    <tr style=\"text-align: right;\">\n",
       "      <th></th>\n",
       "      <th>coef</th>\n",
       "      <th>valCoefs</th>\n",
       "    </tr>\n",
       "  </thead>\n",
       "  <tbody>\n",
       "    <tr>\n",
       "      <th>0</th>\n",
       "      <td>STATE_AK</td>\n",
       "      <td>0.000000</td>\n",
       "    </tr>\n",
       "    <tr>\n",
       "      <th>1</th>\n",
       "      <td>STATE_AL</td>\n",
       "      <td>0.000000</td>\n",
       "    </tr>\n",
       "    <tr>\n",
       "      <th>2</th>\n",
       "      <td>STATE_AR</td>\n",
       "      <td>-0.000000</td>\n",
       "    </tr>\n",
       "    <tr>\n",
       "      <th>3</th>\n",
       "      <td>STATE_AZ</td>\n",
       "      <td>-0.000000</td>\n",
       "    </tr>\n",
       "    <tr>\n",
       "      <th>4</th>\n",
       "      <td>STATE_CA</td>\n",
       "      <td>-0.000000</td>\n",
       "    </tr>\n",
       "    <tr>\n",
       "      <th>...</th>\n",
       "      <td>...</td>\n",
       "      <td>...</td>\n",
       "    </tr>\n",
       "    <tr>\n",
       "      <th>4938</th>\n",
       "      <td>PAYER_KH_ID_IMPUTE_FLAG_INT</td>\n",
       "      <td>-0.000000</td>\n",
       "    </tr>\n",
       "    <tr>\n",
       "      <th>4939</th>\n",
       "      <td>SOURCE_ROWLEY_INT</td>\n",
       "      <td>0.000000</td>\n",
       "    </tr>\n",
       "    <tr>\n",
       "      <th>4940</th>\n",
       "      <td>SOURCE_FLEMINGSALK_INT</td>\n",
       "      <td>-0.001911</td>\n",
       "    </tr>\n",
       "    <tr>\n",
       "      <th>4941</th>\n",
       "      <td>SOURCE_FLEMINGPESO_INT</td>\n",
       "      <td>0.008045</td>\n",
       "    </tr>\n",
       "    <tr>\n",
       "      <th>4942</th>\n",
       "      <td>SOURCE_FLEMINGNIGHTINGALE_INT</td>\n",
       "      <td>-0.000000</td>\n",
       "    </tr>\n",
       "  </tbody>\n",
       "</table>\n",
       "<p>4943 rows × 2 columns</p>\n",
       "</div>"
      ],
      "text/plain": [
       "                               coef  valCoefs\n",
       "0                          STATE_AK  0.000000\n",
       "1                          STATE_AL  0.000000\n",
       "2                          STATE_AR -0.000000\n",
       "3                          STATE_AZ -0.000000\n",
       "4                          STATE_CA -0.000000\n",
       "...                             ...       ...\n",
       "4938    PAYER_KH_ID_IMPUTE_FLAG_INT -0.000000\n",
       "4939              SOURCE_ROWLEY_INT  0.000000\n",
       "4940         SOURCE_FLEMINGSALK_INT -0.001911\n",
       "4941         SOURCE_FLEMINGPESO_INT  0.008045\n",
       "4942  SOURCE_FLEMINGNIGHTINGALE_INT -0.000000\n",
       "\n",
       "[4943 rows x 2 columns]"
      ]
     },
     "execution_count": 34,
     "metadata": {},
     "output_type": "execute_result"
    }
   ],
   "source": [
    "coefDF"
   ]
  },
  {
   "cell_type": "code",
   "execution_count": 9,
   "metadata": {},
   "outputs": [
    {
     "data": {
      "text/html": [
       "<div>\n",
       "<style scoped>\n",
       "    .dataframe tbody tr th:only-of-type {\n",
       "        vertical-align: middle;\n",
       "    }\n",
       "\n",
       "    .dataframe tbody tr th {\n",
       "        vertical-align: top;\n",
       "    }\n",
       "\n",
       "    .dataframe thead th {\n",
       "        text-align: right;\n",
       "    }\n",
       "</style>\n",
       "<table border=\"1\" class=\"dataframe\">\n",
       "  <thead>\n",
       "    <tr style=\"text-align: right;\">\n",
       "      <th></th>\n",
       "      <th>0</th>\n",
       "      <th>1</th>\n",
       "      <th>2</th>\n",
       "      <th>3</th>\n",
       "      <th>4</th>\n",
       "    </tr>\n",
       "  </thead>\n",
       "  <tbody>\n",
       "    <tr>\n",
       "      <th>ENCOUNTER_KEY</th>\n",
       "      <td>711a2cae252a3cd14e259a8748c527b723b17fcf</td>\n",
       "      <td>621953566ec23be5fb06d0a84f39ed2678342982</td>\n",
       "      <td>be44423c90b2d044d20c053c6e5f1cf6ef17dacc</td>\n",
       "      <td>35abd0a59f6318ae8e258fc9fde05a34827e532d</td>\n",
       "      <td>6bacbb539ae0e2aae2f0cb72c13e1891d8326d2b</td>\n",
       "    </tr>\n",
       "    <tr>\n",
       "      <th>ALLOWED_AMOUNT</th>\n",
       "      <td>70.71</td>\n",
       "      <td>9.44</td>\n",
       "      <td>97.6</td>\n",
       "      <td>4.98</td>\n",
       "      <td>141</td>\n",
       "    </tr>\n",
       "    <tr>\n",
       "      <th>PROCEDURE</th>\n",
       "      <td>97597</td>\n",
       "      <td>73030</td>\n",
       "      <td>W1793</td>\n",
       "      <td>81025</td>\n",
       "      <td>99213</td>\n",
       "    </tr>\n",
       "    <tr>\n",
       "      <th>PROCEDURE_DESCRIPTION</th>\n",
       "      <td>Removal of tissue from wounds per session</td>\n",
       "      <td>X-ray of shoulder, minimum of 2 views</td>\n",
       "      <td>None</td>\n",
       "      <td>Urine pregnancy test</td>\n",
       "      <td>Established patient office or other outpatient...</td>\n",
       "    </tr>\n",
       "    <tr>\n",
       "      <th>PATIENT_STATE</th>\n",
       "      <td>NJ</td>\n",
       "      <td>NY</td>\n",
       "      <td>PA</td>\n",
       "      <td>WI</td>\n",
       "      <td>FL</td>\n",
       "    </tr>\n",
       "    <tr>\n",
       "      <th>TOTAL_CLAIM_CHARGE_AMOUNT</th>\n",
       "      <td>401.28</td>\n",
       "      <td>12</td>\n",
       "      <td>97.6</td>\n",
       "      <td>0.47</td>\n",
       "      <td>141</td>\n",
       "    </tr>\n",
       "    <tr>\n",
       "      <th>PAYER_KH_ID</th>\n",
       "      <td>67</td>\n",
       "      <td>309</td>\n",
       "      <td>82</td>\n",
       "      <td>44</td>\n",
       "      <td>195</td>\n",
       "    </tr>\n",
       "    <tr>\n",
       "      <th>PAYER_KH_ID_IMPUTE_FLAG</th>\n",
       "      <td>False</td>\n",
       "      <td>False</td>\n",
       "      <td>False</td>\n",
       "      <td>False</td>\n",
       "      <td>True</td>\n",
       "    </tr>\n",
       "    <tr>\n",
       "      <th>SOURCE_ROWLEY</th>\n",
       "      <td>True</td>\n",
       "      <td>True</td>\n",
       "      <td>False</td>\n",
       "      <td>True</td>\n",
       "      <td>False</td>\n",
       "    </tr>\n",
       "    <tr>\n",
       "      <th>SOURCE_FLEMINGSALK</th>\n",
       "      <td>False</td>\n",
       "      <td>False</td>\n",
       "      <td>False</td>\n",
       "      <td>False</td>\n",
       "      <td>True</td>\n",
       "    </tr>\n",
       "    <tr>\n",
       "      <th>SOURCE_FLEMINGPESO</th>\n",
       "      <td>False</td>\n",
       "      <td>False</td>\n",
       "      <td>False</td>\n",
       "      <td>False</td>\n",
       "      <td>False</td>\n",
       "    </tr>\n",
       "    <tr>\n",
       "      <th>SOURCE_FLEMINGNIGHTINGALE</th>\n",
       "      <td>True</td>\n",
       "      <td>False</td>\n",
       "      <td>True</td>\n",
       "      <td>False</td>\n",
       "      <td>False</td>\n",
       "    </tr>\n",
       "    <tr>\n",
       "      <th>PERCENTILE_5</th>\n",
       "      <td>20.6821</td>\n",
       "      <td>8.26297</td>\n",
       "      <td>58.56</td>\n",
       "      <td>2</td>\n",
       "      <td>35.7226</td>\n",
       "    </tr>\n",
       "    <tr>\n",
       "      <th>PERCENTILE_10</th>\n",
       "      <td>23.8075</td>\n",
       "      <td>9.50245</td>\n",
       "      <td>78.08</td>\n",
       "      <td>3.00048</td>\n",
       "      <td>42.63</td>\n",
       "    </tr>\n",
       "    <tr>\n",
       "      <th>PERCENTILE_90</th>\n",
       "      <td>206.506</td>\n",
       "      <td>144.874</td>\n",
       "      <td>261.664</td>\n",
       "      <td>65.2558</td>\n",
       "      <td>115.699</td>\n",
       "    </tr>\n",
       "    <tr>\n",
       "      <th>PERCENTILE_95</th>\n",
       "      <td>358.452</td>\n",
       "      <td>264.528</td>\n",
       "      <td>312.32</td>\n",
       "      <td>114.432</td>\n",
       "      <td>140.962</td>\n",
       "    </tr>\n",
       "    <tr>\n",
       "      <th>PERCENTILE_5_95_COUNT</th>\n",
       "      <td>663789</td>\n",
       "      <td>3961614</td>\n",
       "      <td>22874466</td>\n",
       "      <td>11084089</td>\n",
       "      <td>127667604</td>\n",
       "    </tr>\n",
       "    <tr>\n",
       "      <th>PERCENTILE_10_90_COUNT</th>\n",
       "      <td>589452</td>\n",
       "      <td>3518080</td>\n",
       "      <td>19428926</td>\n",
       "      <td>9824011</td>\n",
       "      <td>113191721</td>\n",
       "    </tr>\n",
       "    <tr>\n",
       "      <th>LOG_ALLOWED_AMOUNT</th>\n",
       "      <td>4.25859</td>\n",
       "      <td>2.24496</td>\n",
       "      <td>4.58088</td>\n",
       "      <td>1.60543</td>\n",
       "      <td>4.94876</td>\n",
       "    </tr>\n",
       "    <tr>\n",
       "      <th>PAYER_KH_ID_IMPUTE_FLAG_INT</th>\n",
       "      <td>0</td>\n",
       "      <td>0</td>\n",
       "      <td>0</td>\n",
       "      <td>0</td>\n",
       "      <td>1</td>\n",
       "    </tr>\n",
       "    <tr>\n",
       "      <th>SOURCE_ROWLEY_INT</th>\n",
       "      <td>1</td>\n",
       "      <td>1</td>\n",
       "      <td>0</td>\n",
       "      <td>1</td>\n",
       "      <td>0</td>\n",
       "    </tr>\n",
       "    <tr>\n",
       "      <th>SOURCE_FLEMINGSALK_INT</th>\n",
       "      <td>0</td>\n",
       "      <td>0</td>\n",
       "      <td>0</td>\n",
       "      <td>0</td>\n",
       "      <td>1</td>\n",
       "    </tr>\n",
       "    <tr>\n",
       "      <th>SOURCE_FLEMINGPESO_INT</th>\n",
       "      <td>0</td>\n",
       "      <td>0</td>\n",
       "      <td>0</td>\n",
       "      <td>0</td>\n",
       "      <td>0</td>\n",
       "    </tr>\n",
       "    <tr>\n",
       "      <th>SOURCE_FLEMINGNIGHTINGALE_INT</th>\n",
       "      <td>1</td>\n",
       "      <td>0</td>\n",
       "      <td>1</td>\n",
       "      <td>0</td>\n",
       "      <td>0</td>\n",
       "    </tr>\n",
       "  </tbody>\n",
       "</table>\n",
       "</div>"
      ],
      "text/plain": [
       "                                                                       0  \\\n",
       "ENCOUNTER_KEY                   711a2cae252a3cd14e259a8748c527b723b17fcf   \n",
       "ALLOWED_AMOUNT                                                     70.71   \n",
       "PROCEDURE                                                          97597   \n",
       "PROCEDURE_DESCRIPTION          Removal of tissue from wounds per session   \n",
       "PATIENT_STATE                                                         NJ   \n",
       "TOTAL_CLAIM_CHARGE_AMOUNT                                         401.28   \n",
       "PAYER_KH_ID                                                           67   \n",
       "PAYER_KH_ID_IMPUTE_FLAG                                            False   \n",
       "SOURCE_ROWLEY                                                       True   \n",
       "SOURCE_FLEMINGSALK                                                 False   \n",
       "SOURCE_FLEMINGPESO                                                 False   \n",
       "SOURCE_FLEMINGNIGHTINGALE                                           True   \n",
       "PERCENTILE_5                                                     20.6821   \n",
       "PERCENTILE_10                                                    23.8075   \n",
       "PERCENTILE_90                                                    206.506   \n",
       "PERCENTILE_95                                                    358.452   \n",
       "PERCENTILE_5_95_COUNT                                             663789   \n",
       "PERCENTILE_10_90_COUNT                                            589452   \n",
       "LOG_ALLOWED_AMOUNT                                               4.25859   \n",
       "PAYER_KH_ID_IMPUTE_FLAG_INT                                            0   \n",
       "SOURCE_ROWLEY_INT                                                      1   \n",
       "SOURCE_FLEMINGSALK_INT                                                 0   \n",
       "SOURCE_FLEMINGPESO_INT                                                 0   \n",
       "SOURCE_FLEMINGNIGHTINGALE_INT                                          1   \n",
       "\n",
       "                                                                      1  \\\n",
       "ENCOUNTER_KEY                  621953566ec23be5fb06d0a84f39ed2678342982   \n",
       "ALLOWED_AMOUNT                                                     9.44   \n",
       "PROCEDURE                                                         73030   \n",
       "PROCEDURE_DESCRIPTION             X-ray of shoulder, minimum of 2 views   \n",
       "PATIENT_STATE                                                        NY   \n",
       "TOTAL_CLAIM_CHARGE_AMOUNT                                            12   \n",
       "PAYER_KH_ID                                                         309   \n",
       "PAYER_KH_ID_IMPUTE_FLAG                                           False   \n",
       "SOURCE_ROWLEY                                                      True   \n",
       "SOURCE_FLEMINGSALK                                                False   \n",
       "SOURCE_FLEMINGPESO                                                False   \n",
       "SOURCE_FLEMINGNIGHTINGALE                                         False   \n",
       "PERCENTILE_5                                                    8.26297   \n",
       "PERCENTILE_10                                                   9.50245   \n",
       "PERCENTILE_90                                                   144.874   \n",
       "PERCENTILE_95                                                   264.528   \n",
       "PERCENTILE_5_95_COUNT                                           3961614   \n",
       "PERCENTILE_10_90_COUNT                                          3518080   \n",
       "LOG_ALLOWED_AMOUNT                                              2.24496   \n",
       "PAYER_KH_ID_IMPUTE_FLAG_INT                                           0   \n",
       "SOURCE_ROWLEY_INT                                                     1   \n",
       "SOURCE_FLEMINGSALK_INT                                                0   \n",
       "SOURCE_FLEMINGPESO_INT                                                0   \n",
       "SOURCE_FLEMINGNIGHTINGALE_INT                                         0   \n",
       "\n",
       "                                                                      2  \\\n",
       "ENCOUNTER_KEY                  be44423c90b2d044d20c053c6e5f1cf6ef17dacc   \n",
       "ALLOWED_AMOUNT                                                     97.6   \n",
       "PROCEDURE                                                         W1793   \n",
       "PROCEDURE_DESCRIPTION                                              None   \n",
       "PATIENT_STATE                                                        PA   \n",
       "TOTAL_CLAIM_CHARGE_AMOUNT                                          97.6   \n",
       "PAYER_KH_ID                                                          82   \n",
       "PAYER_KH_ID_IMPUTE_FLAG                                           False   \n",
       "SOURCE_ROWLEY                                                     False   \n",
       "SOURCE_FLEMINGSALK                                                False   \n",
       "SOURCE_FLEMINGPESO                                                False   \n",
       "SOURCE_FLEMINGNIGHTINGALE                                          True   \n",
       "PERCENTILE_5                                                      58.56   \n",
       "PERCENTILE_10                                                     78.08   \n",
       "PERCENTILE_90                                                   261.664   \n",
       "PERCENTILE_95                                                    312.32   \n",
       "PERCENTILE_5_95_COUNT                                          22874466   \n",
       "PERCENTILE_10_90_COUNT                                         19428926   \n",
       "LOG_ALLOWED_AMOUNT                                              4.58088   \n",
       "PAYER_KH_ID_IMPUTE_FLAG_INT                                           0   \n",
       "SOURCE_ROWLEY_INT                                                     0   \n",
       "SOURCE_FLEMINGSALK_INT                                                0   \n",
       "SOURCE_FLEMINGPESO_INT                                                0   \n",
       "SOURCE_FLEMINGNIGHTINGALE_INT                                         1   \n",
       "\n",
       "                                                                      3  \\\n",
       "ENCOUNTER_KEY                  35abd0a59f6318ae8e258fc9fde05a34827e532d   \n",
       "ALLOWED_AMOUNT                                                     4.98   \n",
       "PROCEDURE                                                         81025   \n",
       "PROCEDURE_DESCRIPTION                              Urine pregnancy test   \n",
       "PATIENT_STATE                                                        WI   \n",
       "TOTAL_CLAIM_CHARGE_AMOUNT                                          0.47   \n",
       "PAYER_KH_ID                                                          44   \n",
       "PAYER_KH_ID_IMPUTE_FLAG                                           False   \n",
       "SOURCE_ROWLEY                                                      True   \n",
       "SOURCE_FLEMINGSALK                                                False   \n",
       "SOURCE_FLEMINGPESO                                                False   \n",
       "SOURCE_FLEMINGNIGHTINGALE                                         False   \n",
       "PERCENTILE_5                                                          2   \n",
       "PERCENTILE_10                                                   3.00048   \n",
       "PERCENTILE_90                                                   65.2558   \n",
       "PERCENTILE_95                                                   114.432   \n",
       "PERCENTILE_5_95_COUNT                                          11084089   \n",
       "PERCENTILE_10_90_COUNT                                          9824011   \n",
       "LOG_ALLOWED_AMOUNT                                              1.60543   \n",
       "PAYER_KH_ID_IMPUTE_FLAG_INT                                           0   \n",
       "SOURCE_ROWLEY_INT                                                     1   \n",
       "SOURCE_FLEMINGSALK_INT                                                0   \n",
       "SOURCE_FLEMINGPESO_INT                                                0   \n",
       "SOURCE_FLEMINGNIGHTINGALE_INT                                         0   \n",
       "\n",
       "                                                                               4  \n",
       "ENCOUNTER_KEY                           6bacbb539ae0e2aae2f0cb72c13e1891d8326d2b  \n",
       "ALLOWED_AMOUNT                                                               141  \n",
       "PROCEDURE                                                                  99213  \n",
       "PROCEDURE_DESCRIPTION          Established patient office or other outpatient...  \n",
       "PATIENT_STATE                                                                 FL  \n",
       "TOTAL_CLAIM_CHARGE_AMOUNT                                                    141  \n",
       "PAYER_KH_ID                                                                  195  \n",
       "PAYER_KH_ID_IMPUTE_FLAG                                                     True  \n",
       "SOURCE_ROWLEY                                                              False  \n",
       "SOURCE_FLEMINGSALK                                                          True  \n",
       "SOURCE_FLEMINGPESO                                                         False  \n",
       "SOURCE_FLEMINGNIGHTINGALE                                                  False  \n",
       "PERCENTILE_5                                                             35.7226  \n",
       "PERCENTILE_10                                                              42.63  \n",
       "PERCENTILE_90                                                            115.699  \n",
       "PERCENTILE_95                                                            140.962  \n",
       "PERCENTILE_5_95_COUNT                                                  127667604  \n",
       "PERCENTILE_10_90_COUNT                                                 113191721  \n",
       "LOG_ALLOWED_AMOUNT                                                       4.94876  \n",
       "PAYER_KH_ID_IMPUTE_FLAG_INT                                                    1  \n",
       "SOURCE_ROWLEY_INT                                                              0  \n",
       "SOURCE_FLEMINGSALK_INT                                                         1  \n",
       "SOURCE_FLEMINGPESO_INT                                                         0  \n",
       "SOURCE_FLEMINGNIGHTINGALE_INT                                                  0  "
      ]
     },
     "execution_count": 9,
     "metadata": {},
     "output_type": "execute_result"
    }
   ],
   "source": [
    "temp_df.head().T"
   ]
  },
  {
   "cell_type": "code",
   "execution_count": 10,
   "metadata": {},
   "outputs": [],
   "source": [
    "temp_df_5p_trim=temp_df[(temp_df.ALLOWED_AMOUNT>temp_df.PERCENTILE_5) & \n",
    "                      (temp_df.ALLOWED_AMOUNT<temp_df.PERCENTILE_95)]\n",
    "temp_df_10p_trim=temp_df[(temp_df.ALLOWED_AMOUNT>temp_df.PERCENTILE_10) & \n",
    "                      (temp_df.ALLOWED_AMOUNT<temp_df.PERCENTILE_90)]"
   ]
  },
  {
   "cell_type": "code",
   "execution_count": 21,
   "metadata": {},
   "outputs": [
    {
     "name": "stdout",
     "output_type": "stream",
     "text": [
      "(1000, 24)\n",
      "(905, 24)\n",
      "(807, 24)\n"
     ]
    }
   ],
   "source": [
    "print(temp_df.shape)\n",
    "print(temp_df_5p_trim.shape)\n",
    "print(temp_df_10p_trim.shape)"
   ]
  },
  {
   "cell_type": "code",
   "execution_count": 22,
   "metadata": {},
   "outputs": [
    {
     "name": "stdout",
     "output_type": "stream",
     "text": [
      "123.76563\n",
      "107.21719337016575\n",
      "105.97517967781909\n"
     ]
    }
   ],
   "source": [
    "print(np.mean(temp_df.ALLOWED_AMOUNT))\n",
    "print(np.mean(temp_df_5p_trim.ALLOWED_AMOUNT))\n",
    "print(np.mean(temp_df_10p_trim.ALLOWED_AMOUNT))"
   ]
  },
  {
   "cell_type": "code",
   "execution_count": 23,
   "metadata": {},
   "outputs": [
    {
     "name": "stdout",
     "output_type": "stream",
     "text": [
      "56.120000000000005\n",
      "53.52\n",
      "52.99\n"
     ]
    }
   ],
   "source": [
    "print(np.median(temp_df.ALLOWED_AMOUNT))\n",
    "print(np.median(temp_df_5p_trim.ALLOWED_AMOUNT))\n",
    "print(np.median(temp_df_10p_trim.ALLOWED_AMOUNT))"
   ]
  },
  {
   "cell_type": "code",
   "execution_count": 24,
   "metadata": {},
   "outputs": [
    {
     "name": "stdout",
     "output_type": "stream",
     "text": [
      "297.9945169740596\n",
      "257.67671269322733\n",
      "252.65308179881725\n"
     ]
    }
   ],
   "source": [
    "print(np.std(temp_df.ALLOWED_AMOUNT))\n",
    "print(np.std(temp_df_5p_trim.ALLOWED_AMOUNT))\n",
    "print(np.std(temp_df_10p_trim.ALLOWED_AMOUNT))\n"
   ]
  },
  {
   "cell_type": "code",
   "execution_count": 25,
   "metadata": {},
   "outputs": [
    {
     "data": {
      "text/html": [
       "<div>\n",
       "<style scoped>\n",
       "    .dataframe tbody tr th:only-of-type {\n",
       "        vertical-align: middle;\n",
       "    }\n",
       "\n",
       "    .dataframe tbody tr th {\n",
       "        vertical-align: top;\n",
       "    }\n",
       "\n",
       "    .dataframe thead th {\n",
       "        text-align: right;\n",
       "    }\n",
       "</style>\n",
       "<table border=\"1\" class=\"dataframe\">\n",
       "  <thead>\n",
       "    <tr style=\"text-align: right;\">\n",
       "      <th></th>\n",
       "      <th>mean</th>\n",
       "      <th>median</th>\n",
       "      <th>procedure</th>\n",
       "      <th>std</th>\n",
       "    </tr>\n",
       "  </thead>\n",
       "  <tbody>\n",
       "    <tr>\n",
       "      <th>0</th>\n",
       "      <td>144.00</td>\n",
       "      <td>144.00</td>\n",
       "      <td>00400</td>\n",
       "      <td>NaN</td>\n",
       "    </tr>\n",
       "    <tr>\n",
       "      <th>1</th>\n",
       "      <td>1.77</td>\n",
       "      <td>1.77</td>\n",
       "      <td>00409120703</td>\n",
       "      <td>NaN</td>\n",
       "    </tr>\n",
       "    <tr>\n",
       "      <th>2</th>\n",
       "      <td>133.18</td>\n",
       "      <td>133.18</td>\n",
       "      <td>00731</td>\n",
       "      <td>NaN</td>\n",
       "    </tr>\n",
       "    <tr>\n",
       "      <th>3</th>\n",
       "      <td>129.86</td>\n",
       "      <td>129.86</td>\n",
       "      <td>00811</td>\n",
       "      <td>NaN</td>\n",
       "    </tr>\n",
       "    <tr>\n",
       "      <th>4</th>\n",
       "      <td>762.47</td>\n",
       "      <td>762.47</td>\n",
       "      <td>00840</td>\n",
       "      <td>NaN</td>\n",
       "    </tr>\n",
       "    <tr>\n",
       "      <th>...</th>\n",
       "      <td>...</td>\n",
       "      <td>...</td>\n",
       "      <td>...</td>\n",
       "      <td>...</td>\n",
       "    </tr>\n",
       "    <tr>\n",
       "      <th>390</th>\n",
       "      <td>54.88</td>\n",
       "      <td>54.88</td>\n",
       "      <td>T4526</td>\n",
       "      <td>NaN</td>\n",
       "    </tr>\n",
       "    <tr>\n",
       "      <th>391</th>\n",
       "      <td>27.50</td>\n",
       "      <td>27.50</td>\n",
       "      <td>V2100</td>\n",
       "      <td>NaN</td>\n",
       "    </tr>\n",
       "    <tr>\n",
       "      <th>392</th>\n",
       "      <td>69.00</td>\n",
       "      <td>69.00</td>\n",
       "      <td>V2784</td>\n",
       "      <td>NaN</td>\n",
       "    </tr>\n",
       "    <tr>\n",
       "      <th>393</th>\n",
       "      <td>136.64</td>\n",
       "      <td>136.64</td>\n",
       "      <td>W1793</td>\n",
       "      <td>55.210897</td>\n",
       "    </tr>\n",
       "    <tr>\n",
       "      <th>394</th>\n",
       "      <td>30.00</td>\n",
       "      <td>30.00</td>\n",
       "      <td>W1895</td>\n",
       "      <td>NaN</td>\n",
       "    </tr>\n",
       "  </tbody>\n",
       "</table>\n",
       "<p>395 rows × 4 columns</p>\n",
       "</div>"
      ],
      "text/plain": [
       "       mean  median    procedure        std\n",
       "0    144.00  144.00        00400        NaN\n",
       "1      1.77    1.77  00409120703        NaN\n",
       "2    133.18  133.18        00731        NaN\n",
       "3    129.86  129.86        00811        NaN\n",
       "4    762.47  762.47        00840        NaN\n",
       "..      ...     ...          ...        ...\n",
       "390   54.88   54.88        T4526        NaN\n",
       "391   27.50   27.50        V2100        NaN\n",
       "392   69.00   69.00        V2784        NaN\n",
       "393  136.64  136.64        W1793  55.210897\n",
       "394   30.00   30.00        W1895        NaN\n",
       "\n",
       "[395 rows x 4 columns]"
      ]
     },
     "execution_count": 25,
     "metadata": {},
     "output_type": "execute_result"
    }
   ],
   "source": [
    "temp_df_proc_summ=temp_df.groupby(['PROCEDURE']).agg(\n",
    "                      {'ALLOWED_AMOUNT':['mean','std','median']}).reset_index()\n",
    "temp_df_proc_summ.columns = ['procedure','mean','std','median']\n",
    "temp_df_proc_summ.reindex(columns=sorted(temp_df_proc_summ.columns))\n",
    "temp_df_proc_5p_summ=temp_df_5p_trim.groupby(['PROCEDURE']).agg(\n",
    "                      {'ALLOWED_AMOUNT':['mean','std','median']}).reset_index()\n",
    "temp_df_proc_5p_summ.columns = ['procedure','mean','std','median']\n",
    "temp_df_proc_5p_summ.reindex(columns=sorted(temp_df_proc_5p_summ.columns))\n",
    "temp_df_proc_10p_summ=temp_df_10p_trim.groupby(['PROCEDURE']).agg(\n",
    "                      {'ALLOWED_AMOUNT':['mean','std','median']}).reset_index()\n",
    "temp_df_proc_10p_summ.columns = ['procedure','mean','std','median']\n",
    "temp_df_proc_10p_summ.reindex(columns=sorted(temp_df_proc_10p_summ.columns))"
   ]
  },
  {
   "cell_type": "code",
   "execution_count": 26,
   "metadata": {},
   "outputs": [
    {
     "data": {
      "text/html": [
       "<div>\n",
       "<style scoped>\n",
       "    .dataframe tbody tr th:only-of-type {\n",
       "        vertical-align: middle;\n",
       "    }\n",
       "\n",
       "    .dataframe tbody tr th {\n",
       "        vertical-align: top;\n",
       "    }\n",
       "\n",
       "    .dataframe thead th {\n",
       "        text-align: right;\n",
       "    }\n",
       "</style>\n",
       "<table border=\"1\" class=\"dataframe\">\n",
       "  <thead>\n",
       "    <tr style=\"text-align: right;\">\n",
       "      <th></th>\n",
       "      <th>mean</th>\n",
       "      <th>std</th>\n",
       "      <th>median</th>\n",
       "    </tr>\n",
       "  </thead>\n",
       "  <tbody>\n",
       "    <tr>\n",
       "      <th>count</th>\n",
       "      <td>462.000000</td>\n",
       "      <td>137.000000</td>\n",
       "      <td>462.000000</td>\n",
       "    </tr>\n",
       "    <tr>\n",
       "      <th>mean</th>\n",
       "      <td>164.983119</td>\n",
       "      <td>75.317934</td>\n",
       "      <td>159.822370</td>\n",
       "    </tr>\n",
       "    <tr>\n",
       "      <th>std</th>\n",
       "      <td>391.964318</td>\n",
       "      <td>186.849081</td>\n",
       "      <td>390.439282</td>\n",
       "    </tr>\n",
       "    <tr>\n",
       "      <th>min</th>\n",
       "      <td>0.010000</td>\n",
       "      <td>0.000000</td>\n",
       "      <td>0.010000</td>\n",
       "    </tr>\n",
       "    <tr>\n",
       "      <th>25%</th>\n",
       "      <td>18.847500</td>\n",
       "      <td>4.209424</td>\n",
       "      <td>17.212500</td>\n",
       "    </tr>\n",
       "    <tr>\n",
       "      <th>50%</th>\n",
       "      <td>58.260000</td>\n",
       "      <td>16.510682</td>\n",
       "      <td>57.590000</td>\n",
       "    </tr>\n",
       "    <tr>\n",
       "      <th>75%</th>\n",
       "      <td>157.194286</td>\n",
       "      <td>55.332822</td>\n",
       "      <td>145.780000</td>\n",
       "    </tr>\n",
       "    <tr>\n",
       "      <th>max</th>\n",
       "      <td>5021.280000</td>\n",
       "      <td>1202.911805</td>\n",
       "      <td>5021.280000</td>\n",
       "    </tr>\n",
       "  </tbody>\n",
       "</table>\n",
       "</div>"
      ],
      "text/plain": [
       "              mean          std       median\n",
       "count   462.000000   137.000000   462.000000\n",
       "mean    164.983119    75.317934   159.822370\n",
       "std     391.964318   186.849081   390.439282\n",
       "min       0.010000     0.000000     0.010000\n",
       "25%      18.847500     4.209424    17.212500\n",
       "50%      58.260000    16.510682    57.590000\n",
       "75%     157.194286    55.332822   145.780000\n",
       "max    5021.280000  1202.911805  5021.280000"
      ]
     },
     "execution_count": 26,
     "metadata": {},
     "output_type": "execute_result"
    }
   ],
   "source": [
    "temp_df_proc_summ.describe()"
   ]
  },
  {
   "cell_type": "code",
   "execution_count": 27,
   "metadata": {},
   "outputs": [
    {
     "data": {
      "text/html": [
       "<div>\n",
       "<style scoped>\n",
       "    .dataframe tbody tr th:only-of-type {\n",
       "        vertical-align: middle;\n",
       "    }\n",
       "\n",
       "    .dataframe tbody tr th {\n",
       "        vertical-align: top;\n",
       "    }\n",
       "\n",
       "    .dataframe thead th {\n",
       "        text-align: right;\n",
       "    }\n",
       "</style>\n",
       "<table border=\"1\" class=\"dataframe\">\n",
       "  <thead>\n",
       "    <tr style=\"text-align: right;\">\n",
       "      <th></th>\n",
       "      <th>mean</th>\n",
       "      <th>std</th>\n",
       "      <th>median</th>\n",
       "    </tr>\n",
       "  </thead>\n",
       "  <tbody>\n",
       "    <tr>\n",
       "      <th>count</th>\n",
       "      <td>431.000000</td>\n",
       "      <td>126.000000</td>\n",
       "      <td>431.000000</td>\n",
       "    </tr>\n",
       "    <tr>\n",
       "      <th>mean</th>\n",
       "      <td>141.428814</td>\n",
       "      <td>41.763485</td>\n",
       "      <td>139.528434</td>\n",
       "    </tr>\n",
       "    <tr>\n",
       "      <th>std</th>\n",
       "      <td>351.559614</td>\n",
       "      <td>91.304633</td>\n",
       "      <td>351.562033</td>\n",
       "    </tr>\n",
       "    <tr>\n",
       "      <th>min</th>\n",
       "      <td>0.010000</td>\n",
       "      <td>0.000000</td>\n",
       "      <td>0.010000</td>\n",
       "    </tr>\n",
       "    <tr>\n",
       "      <th>25%</th>\n",
       "      <td>17.320000</td>\n",
       "      <td>3.627458</td>\n",
       "      <td>16.635000</td>\n",
       "    </tr>\n",
       "    <tr>\n",
       "      <th>50%</th>\n",
       "      <td>51.900000</td>\n",
       "      <td>11.713109</td>\n",
       "      <td>50.790000</td>\n",
       "    </tr>\n",
       "    <tr>\n",
       "      <th>75%</th>\n",
       "      <td>134.805000</td>\n",
       "      <td>37.631426</td>\n",
       "      <td>132.590000</td>\n",
       "    </tr>\n",
       "    <tr>\n",
       "      <th>max</th>\n",
       "      <td>5021.280000</td>\n",
       "      <td>686.409766</td>\n",
       "      <td>5021.280000</td>\n",
       "    </tr>\n",
       "  </tbody>\n",
       "</table>\n",
       "</div>"
      ],
      "text/plain": [
       "              mean         std       median\n",
       "count   431.000000  126.000000   431.000000\n",
       "mean    141.428814   41.763485   139.528434\n",
       "std     351.559614   91.304633   351.562033\n",
       "min       0.010000    0.000000     0.010000\n",
       "25%      17.320000    3.627458    16.635000\n",
       "50%      51.900000   11.713109    50.790000\n",
       "75%     134.805000   37.631426   132.590000\n",
       "max    5021.280000  686.409766  5021.280000"
      ]
     },
     "execution_count": 27,
     "metadata": {},
     "output_type": "execute_result"
    }
   ],
   "source": [
    "temp_df_proc_5p_summ.describe()\n"
   ]
  },
  {
   "cell_type": "code",
   "execution_count": 28,
   "metadata": {},
   "outputs": [
    {
     "data": {
      "text/html": [
       "<div>\n",
       "<style scoped>\n",
       "    .dataframe tbody tr th:only-of-type {\n",
       "        vertical-align: middle;\n",
       "    }\n",
       "\n",
       "    .dataframe tbody tr th {\n",
       "        vertical-align: top;\n",
       "    }\n",
       "\n",
       "    .dataframe thead th {\n",
       "        text-align: right;\n",
       "    }\n",
       "</style>\n",
       "<table border=\"1\" class=\"dataframe\">\n",
       "  <thead>\n",
       "    <tr style=\"text-align: right;\">\n",
       "      <th></th>\n",
       "      <th>mean</th>\n",
       "      <th>std</th>\n",
       "      <th>median</th>\n",
       "    </tr>\n",
       "  </thead>\n",
       "  <tbody>\n",
       "    <tr>\n",
       "      <th>count</th>\n",
       "      <td>395.000000</td>\n",
       "      <td>112.000000</td>\n",
       "      <td>395.000000</td>\n",
       "    </tr>\n",
       "    <tr>\n",
       "      <th>mean</th>\n",
       "      <td>136.381217</td>\n",
       "      <td>37.129959</td>\n",
       "      <td>134.514873</td>\n",
       "    </tr>\n",
       "    <tr>\n",
       "      <th>std</th>\n",
       "      <td>339.914866</td>\n",
       "      <td>87.552800</td>\n",
       "      <td>339.612859</td>\n",
       "    </tr>\n",
       "    <tr>\n",
       "      <th>min</th>\n",
       "      <td>0.010000</td>\n",
       "      <td>0.000000</td>\n",
       "      <td>0.010000</td>\n",
       "    </tr>\n",
       "    <tr>\n",
       "      <th>25%</th>\n",
       "      <td>16.635000</td>\n",
       "      <td>2.837297</td>\n",
       "      <td>16.480000</td>\n",
       "    </tr>\n",
       "    <tr>\n",
       "      <th>50%</th>\n",
       "      <td>50.926667</td>\n",
       "      <td>8.227187</td>\n",
       "      <td>50.000000</td>\n",
       "    </tr>\n",
       "    <tr>\n",
       "      <th>75%</th>\n",
       "      <td>134.230000</td>\n",
       "      <td>23.422529</td>\n",
       "      <td>129.235000</td>\n",
       "    </tr>\n",
       "    <tr>\n",
       "      <th>max</th>\n",
       "      <td>5021.280000</td>\n",
       "      <td>686.409766</td>\n",
       "      <td>5021.280000</td>\n",
       "    </tr>\n",
       "  </tbody>\n",
       "</table>\n",
       "</div>"
      ],
      "text/plain": [
       "              mean         std       median\n",
       "count   395.000000  112.000000   395.000000\n",
       "mean    136.381217   37.129959   134.514873\n",
       "std     339.914866   87.552800   339.612859\n",
       "min       0.010000    0.000000     0.010000\n",
       "25%      16.635000    2.837297    16.480000\n",
       "50%      50.926667    8.227187    50.000000\n",
       "75%     134.230000   23.422529   129.235000\n",
       "max    5021.280000  686.409766  5021.280000"
      ]
     },
     "execution_count": 28,
     "metadata": {},
     "output_type": "execute_result"
    }
   ],
   "source": [
    "temp_df_proc_10p_summ.describe()"
   ]
  },
  {
   "cell_type": "code",
   "execution_count": 66,
   "metadata": {},
   "outputs": [
    {
     "data": {
      "text/plain": [
       "(250, 621)"
      ]
     },
     "execution_count": 66,
     "metadata": {},
     "output_type": "execute_result"
    }
   ],
   "source": [
    "X_test.shape"
   ]
  },
  {
   "cell_type": "code",
   "execution_count": 67,
   "metadata": {},
   "outputs": [
    {
     "data": {
      "text/plain": [
       "212.5308915231473"
      ]
     },
     "execution_count": 67,
     "metadata": {},
     "output_type": "execute_result"
    }
   ],
   "source": [
    "sqrt(mse(exp(yFit),exp(y_test)))"
   ]
  },
  {
   "cell_type": "code",
   "execution_count": 43,
   "metadata": {},
   "outputs": [],
   "source": [
    "pred_mse=[]\n",
    "pred_5p_trim_mse=[]\n",
    "for __ in range(100):\n",
    "    X_train, X_test= train_test_split(temp_df[yName],\n",
    "                                                    test_size=0.25)\n",
    "    X_trim_train, X_trim_test= train_test_split(temp_df_5p_trim[yName],\n",
    "                                                    test_size=0.25)\n",
    "    #basic model-no factors\n",
    "    yFit=[np.mean(X_train)]*len(X_test)\n",
    "    y_trim_Fit=[np.mean(X_trim_train)]*len(X_trim_test)\n",
    "    pred_mse.extend([sqrt(mse(exp(yFit),exp(X_test)))])\n",
    "    pred_5p_trim_mse.extend([sqrt(mse(exp(y_trim_Fit),exp(X_trim_test)))])\n",
    "    \n"
   ]
  },
  {
   "cell_type": "code",
   "execution_count": 44,
   "metadata": {},
   "outputs": [
    {
     "data": {
      "text/plain": [
       "297.930299668922"
      ]
     },
     "execution_count": 44,
     "metadata": {},
     "output_type": "execute_result"
    }
   ],
   "source": [
    "np.mean(pred_mse)"
   ]
  },
  {
   "cell_type": "code",
   "execution_count": null,
   "metadata": {},
   "outputs": [],
   "source": [
    "np.mean(pred_5p_trim_mse)"
   ]
  },
  {
   "cell_type": "code",
   "execution_count": null,
   "metadata": {},
   "outputs": [],
   "source": [
    "exp()"
   ]
  },
  {
   "cell_type": "code",
   "execution_count": null,
   "metadata": {},
   "outputs": [],
   "source": [
    "[np.exp(np.mean(X_train))]*len(X_test)"
   ]
  },
  {
   "cell_type": "code",
   "execution_count": null,
   "metadata": {},
   "outputs": [],
   "source": [
    "resid_df=pd.DataFrame({\"x\":np.exp(X_test[\"LOG_ALLOWED_AMOUNT\"]), \"y\":np.exp(np.mean(X_train[\"LOG_ALLOWED_AMOUNT\"]))})\n",
    "resid_df2=pd.DataFrame({\"x\":X_test[\"LOG_ALLOWED_AMOUNT\"], \"y\":np.mean(X_train[\"LOG_ALLOWED_AMOUNT\"])})"
   ]
  },
  {
   "cell_type": "code",
   "execution_count": null,
   "metadata": {},
   "outputs": [],
   "source": [
    "resid_df[\"SE\"]=(resid_df.x-resid_df.y)**2"
   ]
  },
  {
   "cell_type": "code",
   "execution_count": null,
   "metadata": {},
   "outputs": [],
   "source": [
    "resid_df2[\"SE\"]=(resid_df2.x-resid_df2.y)**2\n",
    "resid_df2[\"ESE\"]=np.exp((resid_df2.x-resid_df2.y)**2)"
   ]
  },
  {
   "cell_type": "code",
   "execution_count": null,
   "metadata": {},
   "outputs": [],
   "source": [
    "np.sqrt(np.mean(resid_df.SE))"
   ]
  },
  {
   "cell_type": "code",
   "execution_count": null,
   "metadata": {},
   "outputs": [],
   "source": [
    "np.exp(np.sqrt(np.mean(resid_df2.SE)))"
   ]
  },
  {
   "cell_type": "code",
   "execution_count": null,
   "metadata": {},
   "outputs": [],
   "source": [
    "temp_df.loc[993]"
   ]
  },
  {
   "cell_type": "code",
   "execution_count": null,
   "metadata": {},
   "outputs": [],
   "source": [
    "resid_df"
   ]
  },
  {
   "cell_type": "code",
   "execution_count": null,
   "metadata": {},
   "outputs": [],
   "source": [
    "resid_df2"
   ]
  },
  {
   "cell_type": "code",
   "execution_count": 68,
   "metadata": {},
   "outputs": [
    {
     "name": "stdout",
     "output_type": "stream",
     "text": [
      "                coef  valCoefs\n",
      "418  PROCEDURE_93458  3.275959\n",
      "396  PROCEDURE_90999  2.932817\n",
      "162  PROCEDURE_01480  2.666378\n",
      "230  PROCEDURE_70450  2.524007\n",
      "564  PROCEDURE_J0178  2.518099\n",
      "..               ...       ...\n",
      "572  PROCEDURE_J1200 -3.240034\n",
      "585  PROCEDURE_J7620 -4.095475\n",
      "185  PROCEDURE_1160F -4.448883\n",
      "182  PROCEDURE_1125F -6.231344\n",
      "184  PROCEDURE_1159F -6.797520\n",
      "\n",
      "[438 rows x 2 columns]\n"
     ]
    }
   ],
   "source": [
    "coefDF=pd.DataFrame({\"coef\":X_test.columns.values, \"valCoefs\": eNetReg.coef_})\n",
    "coefDF=coefDF[coefDF.valCoefs.values!=0]\n",
    "print(coefDF.sort_values(by=['valCoefs'],ascending=False))"
   ]
  },
  {
   "cell_type": "code",
   "execution_count": 73,
   "metadata": {},
   "outputs": [
    {
     "data": {
      "text/plain": [
       "array(['STATE_AK', 'STATE_AL', 'STATE_AZ', 'STATE_CA', 'STATE_CO',\n",
       "       'STATE_CT', 'STATE_DC', 'STATE_DE', 'STATE_FL', 'STATE_GA',\n",
       "       'STATE_HI', 'STATE_IA', 'STATE_ID', 'STATE_IL', 'STATE_IN',\n",
       "       'STATE_KS', 'STATE_KY', 'STATE_LA', 'STATE_MD', 'STATE_ME',\n",
       "       'STATE_MI', 'STATE_MN', 'STATE_MO', 'STATE_NC', 'STATE_ND',\n",
       "       'STATE_NE', 'STATE_NH', 'STATE_NJ', 'STATE_NY', 'STATE_PA',\n",
       "       'STATE_SC', 'STATE_TX', 'STATE_UT', 'STATE_VA', 'STATE_WA',\n",
       "       'STATE_WI', 'STATE_WV', 'STATE_WY', 'PAYER_1', 'PAYER_102',\n",
       "       'PAYER_103', 'PAYER_108', 'PAYER_11', 'PAYER_129', 'PAYER_134',\n",
       "       'PAYER_14', 'PAYER_143', 'PAYER_144', 'PAYER_148', 'PAYER_157',\n",
       "       'PAYER_16', 'PAYER_161', 'PAYER_164', 'PAYER_165', 'PAYER_17',\n",
       "       'PAYER_18', 'PAYER_181', 'PAYER_182', 'PAYER_184', 'PAYER_186',\n",
       "       'PAYER_189', 'PAYER_192', 'PAYER_21', 'PAYER_214', 'PAYER_216',\n",
       "       'PAYER_221', 'PAYER_225', 'PAYER_241', 'PAYER_243', 'PAYER_250',\n",
       "       'PAYER_251', 'PAYER_260', 'PAYER_261', 'PAYER_266', 'PAYER_27',\n",
       "       'PAYER_291', 'PAYER_297', 'PAYER_299', 'PAYER_302', 'PAYER_305',\n",
       "       'PAYER_307', 'PAYER_309', 'PAYER_316', 'PAYER_326', 'PAYER_328',\n",
       "       'PAYER_335', 'PAYER_336', 'PAYER_343', 'PAYER_349', 'PAYER_352',\n",
       "       'PAYER_358', 'PAYER_38', 'PAYER_44', 'PAYER_51', 'PAYER_53',\n",
       "       'PAYER_61', 'PAYER_64', 'PAYER_65', 'PAYER_67', 'PAYER_71',\n",
       "       'PAYER_73', 'PAYER_80', 'PAYER_87', 'PAYER_88', 'PROCEDURE_00400',\n",
       "       'PROCEDURE_00409120703', 'PROCEDURE_00731', 'PROCEDURE_00813',\n",
       "       'PROCEDURE_00840', 'PROCEDURE_01214', 'PROCEDURE_01480',\n",
       "       'PROCEDURE_01810', 'PROCEDURE_01830', 'PROCEDURE_01967',\n",
       "       'PROCEDURE_0259', 'PROCEDURE_0360', 'PROCEDURE_0424',\n",
       "       'PROCEDURE_0425', 'PROCEDURE_0637', 'PROCEDURE_0VTTXZZ',\n",
       "       'PROCEDURE_10080', 'PROCEDURE_11042', 'PROCEDURE_11102',\n",
       "       'PROCEDURE_1125F', 'PROCEDURE_1159F', 'PROCEDURE_1160F',\n",
       "       'PROCEDURE_17110', 'PROCEDURE_17262', 'PROCEDURE_17311',\n",
       "       'PROCEDURE_2000F', 'PROCEDURE_20610', 'PROCEDURE_23515',\n",
       "       'PROCEDURE_29826', 'PROCEDURE_29888', 'PROCEDURE_3008F',\n",
       "       'PROCEDURE_3077F', 'PROCEDURE_3078F', 'PROCEDURE_30930',\n",
       "       'PROCEDURE_36415', 'PROCEDURE_36598', 'PROCEDURE_38792',\n",
       "       'PROCEDURE_3E033VJ', 'PROCEDURE_43235', 'PROCEDURE_43239',\n",
       "       'PROCEDURE_50200', 'PROCEDURE_5170', 'PROCEDURE_51797',\n",
       "       'PROCEDURE_52353', 'PROCEDURE_64400', 'PROCEDURE_64484',\n",
       "       'PROCEDURE_64493', 'PROCEDURE_65220', 'PROCEDURE_66825',\n",
       "       'PROCEDURE_70355', 'PROCEDURE_70360', 'PROCEDURE_70450',\n",
       "       'PROCEDURE_70491', 'PROCEDURE_71045', 'PROCEDURE_71046',\n",
       "       'PROCEDURE_71250', 'PROCEDURE_71260', 'PROCEDURE_72070',\n",
       "       'PROCEDURE_72082', 'PROCEDURE_72100', 'PROCEDURE_72170',\n",
       "       'PROCEDURE_73030', 'PROCEDURE_73130', 'PROCEDURE_73560',\n",
       "       'PROCEDURE_73610', 'PROCEDURE_73721', 'PROCEDURE_74018',\n",
       "       'PROCEDURE_74022', 'PROCEDURE_74176', 'PROCEDURE_74177',\n",
       "       'PROCEDURE_75574', 'PROCEDURE_76700', 'PROCEDURE_76830',\n",
       "       'PROCEDURE_76942', 'PROCEDURE_77014', 'PROCEDURE_77067',\n",
       "       'PROCEDURE_77300', 'PROCEDURE_77427', 'PROCEDURE_78452',\n",
       "       'PROCEDURE_80048', 'PROCEDURE_80050', 'PROCEDURE_80053',\n",
       "       'PROCEDURE_80061', 'PROCEDURE_80076', 'PROCEDURE_80305',\n",
       "       'PROCEDURE_80307', 'PROCEDURE_80349', 'PROCEDURE_80355',\n",
       "       'PROCEDURE_80363', 'PROCEDURE_81000', 'PROCEDURE_81001',\n",
       "       'PROCEDURE_81002', 'PROCEDURE_81003', 'PROCEDURE_81025',\n",
       "       'PROCEDURE_81161', 'PROCEDURE_81420', 'PROCEDURE_82043',\n",
       "       'PROCEDURE_82306', 'PROCEDURE_82330', 'PROCEDURE_82550',\n",
       "       'PROCEDURE_82565', 'PROCEDURE_82570', 'PROCEDURE_82728',\n",
       "       'PROCEDURE_82947', 'PROCEDURE_83036', 'PROCEDURE_83540',\n",
       "       'PROCEDURE_83655', 'PROCEDURE_83861', 'PROCEDURE_84075',\n",
       "       'PROCEDURE_84100', 'PROCEDURE_84144', 'PROCEDURE_84146',\n",
       "       'PROCEDURE_84153', 'PROCEDURE_84166', 'PROCEDURE_84436',\n",
       "       'PROCEDURE_84439', 'PROCEDURE_84443', 'PROCEDURE_84450',\n",
       "       'PROCEDURE_84466', 'PROCEDURE_84481', 'PROCEDURE_84484',\n",
       "       'PROCEDURE_84550', 'PROCEDURE_84703', 'PROCEDURE_85018',\n",
       "       'PROCEDURE_85025', 'PROCEDURE_85027', 'PROCEDURE_85610',\n",
       "       'PROCEDURE_85651', 'PROCEDURE_85652', 'PROCEDURE_86003',\n",
       "       'PROCEDURE_86480', 'PROCEDURE_86592', 'PROCEDURE_87070',\n",
       "       'PROCEDURE_87081', 'PROCEDURE_87086', 'PROCEDURE_87210',\n",
       "       'PROCEDURE_87340', 'PROCEDURE_87389', 'PROCEDURE_87491',\n",
       "       'PROCEDURE_87497', 'PROCEDURE_87502', 'PROCEDURE_87591',\n",
       "       'PROCEDURE_87631', 'PROCEDURE_87661', 'PROCEDURE_87804',\n",
       "       'PROCEDURE_87880', 'PROCEDURE_88142', 'PROCEDURE_88175',\n",
       "       'PROCEDURE_88305', 'PROCEDURE_88342', 'PROCEDURE_88720',\n",
       "       'PROCEDURE_90460', 'PROCEDURE_90471', 'PROCEDURE_90472',\n",
       "       'PROCEDURE_90620', 'PROCEDURE_90658', 'PROCEDURE_90662',\n",
       "       'PROCEDURE_90670', 'PROCEDURE_90674', 'PROCEDURE_90680',\n",
       "       'PROCEDURE_90681', 'PROCEDURE_90686', 'PROCEDURE_90723',\n",
       "       'PROCEDURE_90734', 'PROCEDURE_90833', 'PROCEDURE_90834',\n",
       "       'PROCEDURE_90837', 'PROCEDURE_90853', 'PROCEDURE_90887',\n",
       "       'PROCEDURE_90999', 'PROCEDURE_92004', 'PROCEDURE_92012',\n",
       "       'PROCEDURE_92014', 'PROCEDURE_92015', 'PROCEDURE_92081',\n",
       "       'PROCEDURE_92133', 'PROCEDURE_92340', 'PROCEDURE_92507',\n",
       "       'PROCEDURE_92551', 'PROCEDURE_92567', 'PROCEDURE_93000',\n",
       "       'PROCEDURE_93005', 'PROCEDURE_93010', 'PROCEDURE_93294',\n",
       "       'PROCEDURE_93306', 'PROCEDURE_93458', 'PROCEDURE_93880',\n",
       "       'PROCEDURE_93925', 'PROCEDURE_93978', 'PROCEDURE_94660',\n",
       "       'PROCEDURE_95117', 'PROCEDURE_95851', 'PROCEDURE_95874',\n",
       "       'PROCEDURE_95886', 'PROCEDURE_96110', 'PROCEDURE_96160',\n",
       "       'PROCEDURE_96361', 'PROCEDURE_96365', 'PROCEDURE_96372',\n",
       "       'PROCEDURE_96374', 'PROCEDURE_97010', 'PROCEDURE_97012',\n",
       "       'PROCEDURE_97014', 'PROCEDURE_97024', 'PROCEDURE_97032',\n",
       "       'PROCEDURE_97035', 'PROCEDURE_97110', 'PROCEDURE_97112',\n",
       "       'PROCEDURE_97116', 'PROCEDURE_97124', 'PROCEDURE_97140',\n",
       "       'PROCEDURE_97161', 'PROCEDURE_97163', 'PROCEDURE_97164',\n",
       "       'PROCEDURE_97166', 'PROCEDURE_97530', 'PROCEDURE_97811',\n",
       "       'PROCEDURE_98940', 'PROCEDURE_98941', 'PROCEDURE_98943',\n",
       "       'PROCEDURE_99050', 'PROCEDURE_99051', 'PROCEDURE_99153',\n",
       "       'PROCEDURE_99173', 'PROCEDURE_99177', 'PROCEDURE_99202',\n",
       "       'PROCEDURE_99203', 'PROCEDURE_99204', 'PROCEDURE_99211',\n",
       "       'PROCEDURE_99212', 'PROCEDURE_99213', 'PROCEDURE_99214',\n",
       "       'PROCEDURE_99215', 'PROCEDURE_99223', 'PROCEDURE_99231',\n",
       "       'PROCEDURE_99232', 'PROCEDURE_99233', 'PROCEDURE_99239',\n",
       "       'PROCEDURE_99281', 'PROCEDURE_99282', 'PROCEDURE_99283',\n",
       "       'PROCEDURE_99284', 'PROCEDURE_99285', 'PROCEDURE_99291',\n",
       "       'PROCEDURE_99306', 'PROCEDURE_99309', 'PROCEDURE_99391',\n",
       "       'PROCEDURE_99393', 'PROCEDURE_99396', 'PROCEDURE_99397',\n",
       "       'PROCEDURE_99402', 'PROCEDURE_99464', 'PROCEDURE_A0110',\n",
       "       'PROCEDURE_A0425', 'PROCEDURE_A0428', 'PROCEDURE_A0429',\n",
       "       'PROCEDURE_A4230', 'PROCEDURE_A4281', 'PROCEDURE_A4648',\n",
       "       'PROCEDURE_A6222', 'PROCEDURE_A7005', 'PROCEDURE_A7039',\n",
       "       'PROCEDURE_A9276', 'PROCEDURE_A9552', 'PROCEDURE_B4220',\n",
       "       'PROCEDURE_C1769', 'PROCEDURE_D0274', 'PROCEDURE_D1110',\n",
       "       'PROCEDURE_E0570', 'PROCEDURE_E0601', 'PROCEDURE_E1028',\n",
       "       'PROCEDURE_E1390', 'PROCEDURE_E1392', 'PROCEDURE_G0008',\n",
       "       'PROCEDURE_G0108', 'PROCEDURE_G0155', 'PROCEDURE_G0249',\n",
       "       'PROCEDURE_G0297', 'PROCEDURE_G0438', 'PROCEDURE_G0439',\n",
       "       'PROCEDURE_G0444', 'PROCEDURE_G0447', 'PROCEDURE_H0015',\n",
       "       'PROCEDURE_H0018', 'PROCEDURE_H0020', 'PROCEDURE_H0032',\n",
       "       'PROCEDURE_H2014', 'PROCEDURE_H2015', 'PROCEDURE_H2017',\n",
       "       'PROCEDURE_H2019', 'PROCEDURE_H2021', 'PROCEDURE_H2034',\n",
       "       'PROCEDURE_J0178', 'PROCEDURE_J0185', 'PROCEDURE_J0696',\n",
       "       'PROCEDURE_J0702', 'PROCEDURE_J1040', 'PROCEDURE_J1100',\n",
       "       'PROCEDURE_J1200', 'PROCEDURE_J1439', 'PROCEDURE_J1610',\n",
       "       'PROCEDURE_J1885', 'PROCEDURE_J2360', 'PROCEDURE_J2405',\n",
       "       'PROCEDURE_J2501', 'PROCEDURE_J3301', 'PROCEDURE_J7030',\n",
       "       'PROCEDURE_J7620', 'PROCEDURE_J9045', 'PROCEDURE_K0001',\n",
       "       'PROCEDURE_K0739', 'PROCEDURE_L2280', 'PROCEDURE_L3000',\n",
       "       'PROCEDURE_Q0511', 'PROCEDURE_Q9966', 'PROCEDURE_S5102',\n",
       "       'PROCEDURE_S9122', 'PROCEDURE_S9124', 'PROCEDURE_S9131',\n",
       "       'PROCEDURE_S9328', 'PROCEDURE_S9343', 'PROCEDURE_S9480',\n",
       "       'PROCEDURE_T1015', 'PROCEDURE_T1019', 'PROCEDURE_T2042',\n",
       "       'PROCEDURE_T4530', 'PROCEDURE_T4535', 'PROCEDURE_V2100',\n",
       "       'PROCEDURE_V2784', 'PROCEDURE_W9047',\n",
       "       'PAYER_KH_ID_IMPUTE_FLAG_INT', 'SOURCE_ROWLEY_INT',\n",
       "       'SOURCE_FLEMINGSALK_INT', 'SOURCE_FLEMINGNIGHTINGALE_INT'],\n",
       "      dtype=object)"
      ]
     },
     "execution_count": 73,
     "metadata": {},
     "output_type": "execute_result"
    }
   ],
   "source": [
    "coefDF.coef.values"
   ]
  },
  {
   "cell_type": "code",
   "execution_count": 70,
   "metadata": {},
   "outputs": [
    {
     "data": {
      "text/html": [
       "<div>\n",
       "<style scoped>\n",
       "    .dataframe tbody tr th:only-of-type {\n",
       "        vertical-align: middle;\n",
       "    }\n",
       "\n",
       "    .dataframe tbody tr th {\n",
       "        vertical-align: top;\n",
       "    }\n",
       "\n",
       "    .dataframe thead th {\n",
       "        text-align: right;\n",
       "    }\n",
       "</style>\n",
       "<table border=\"1\" class=\"dataframe\">\n",
       "  <thead>\n",
       "    <tr style=\"text-align: right;\">\n",
       "      <th></th>\n",
       "      <th>0</th>\n",
       "      <th>1</th>\n",
       "      <th>3</th>\n",
       "      <th>4</th>\n",
       "      <th>5</th>\n",
       "      <th>6</th>\n",
       "      <th>7</th>\n",
       "      <th>8</th>\n",
       "      <th>9</th>\n",
       "      <th>10</th>\n",
       "      <th>...</th>\n",
       "      <th>607</th>\n",
       "      <th>609</th>\n",
       "      <th>610</th>\n",
       "      <th>611</th>\n",
       "      <th>612</th>\n",
       "      <th>615</th>\n",
       "      <th>616</th>\n",
       "      <th>617</th>\n",
       "      <th>618</th>\n",
       "      <th>620</th>\n",
       "    </tr>\n",
       "  </thead>\n",
       "  <tbody>\n",
       "    <tr>\n",
       "      <th>coef</th>\n",
       "      <td>STATE_AK</td>\n",
       "      <td>STATE_AL</td>\n",
       "      <td>STATE_AZ</td>\n",
       "      <td>STATE_CA</td>\n",
       "      <td>STATE_CO</td>\n",
       "      <td>STATE_CT</td>\n",
       "      <td>STATE_DC</td>\n",
       "      <td>STATE_DE</td>\n",
       "      <td>STATE_FL</td>\n",
       "      <td>STATE_GA</td>\n",
       "      <td>...</td>\n",
       "      <td>PROCEDURE_T2042</td>\n",
       "      <td>PROCEDURE_T4530</td>\n",
       "      <td>PROCEDURE_T4535</td>\n",
       "      <td>PROCEDURE_V2100</td>\n",
       "      <td>PROCEDURE_V2784</td>\n",
       "      <td>PROCEDURE_W9047</td>\n",
       "      <td>PAYER_KH_ID_IMPUTE_FLAG_INT</td>\n",
       "      <td>SOURCE_ROWLEY_INT</td>\n",
       "      <td>SOURCE_FLEMINGSALK_INT</td>\n",
       "      <td>SOURCE_FLEMINGNIGHTINGALE_INT</td>\n",
       "    </tr>\n",
       "    <tr>\n",
       "      <th>valCoefs</th>\n",
       "      <td>0.49417</td>\n",
       "      <td>-0.276112</td>\n",
       "      <td>-0.0739494</td>\n",
       "      <td>-0.113058</td>\n",
       "      <td>0.102492</td>\n",
       "      <td>0.132339</td>\n",
       "      <td>0.0105948</td>\n",
       "      <td>-0.270907</td>\n",
       "      <td>-0.121271</td>\n",
       "      <td>-0.115809</td>\n",
       "      <td>...</td>\n",
       "      <td>0.249168</td>\n",
       "      <td>1.17236</td>\n",
       "      <td>-0.522055</td>\n",
       "      <td>-0.233765</td>\n",
       "      <td>0.028717</td>\n",
       "      <td>0.74995</td>\n",
       "      <td>-0.108201</td>\n",
       "      <td>-0.0399801</td>\n",
       "      <td>-0.211195</td>\n",
       "      <td>-0.0821781</td>\n",
       "    </tr>\n",
       "  </tbody>\n",
       "</table>\n",
       "<p>2 rows × 438 columns</p>\n",
       "</div>"
      ],
      "text/plain": [
       "               0         1          3         4         5         6    \\\n",
       "coef      STATE_AK  STATE_AL   STATE_AZ  STATE_CA  STATE_CO  STATE_CT   \n",
       "valCoefs   0.49417 -0.276112 -0.0739494 -0.113058  0.102492  0.132339   \n",
       "\n",
       "                7         8         9         10   ...              607  \\\n",
       "coef       STATE_DC  STATE_DE  STATE_FL  STATE_GA  ...  PROCEDURE_T2042   \n",
       "valCoefs  0.0105948 -0.270907 -0.121271 -0.115809  ...         0.249168   \n",
       "\n",
       "                      609              610              611              612  \\\n",
       "coef      PROCEDURE_T4530  PROCEDURE_T4535  PROCEDURE_V2100  PROCEDURE_V2784   \n",
       "valCoefs          1.17236        -0.522055        -0.233765         0.028717   \n",
       "\n",
       "                      615                          616                617  \\\n",
       "coef      PROCEDURE_W9047  PAYER_KH_ID_IMPUTE_FLAG_INT  SOURCE_ROWLEY_INT   \n",
       "valCoefs          0.74995                    -0.108201         -0.0399801   \n",
       "\n",
       "                             618                            620  \n",
       "coef      SOURCE_FLEMINGSALK_INT  SOURCE_FLEMINGNIGHTINGALE_INT  \n",
       "valCoefs               -0.211195                     -0.0821781  \n",
       "\n",
       "[2 rows x 438 columns]"
      ]
     },
     "execution_count": 70,
     "metadata": {},
     "output_type": "execute_result"
    }
   ],
   "source": [
    "coefDF.T"
   ]
  },
  {
   "cell_type": "code",
   "execution_count": null,
   "metadata": {},
   "outputs": [],
   "source": []
  }
 ],
 "metadata": {
  "kernelspec": {
   "display_name": "Python 3",
   "language": "python",
   "name": "python3"
  },
  "language_info": {
   "codemirror_mode": {
    "name": "ipython",
    "version": 3
   },
   "file_extension": ".py",
   "mimetype": "text/x-python",
   "name": "python",
   "nbconvert_exporter": "python",
   "pygments_lexer": "ipython3",
   "version": "3.7.8"
  },
  "toc": {
   "base_numbering": 1,
   "nav_menu": {},
   "number_sections": false,
   "sideBar": true,
   "skip_h1_title": true,
   "title_cell": "Table of Contents",
   "title_sidebar": "Contents",
   "toc_cell": false,
   "toc_position": {},
   "toc_section_display": true,
   "toc_window_display": false
  }
 },
 "nbformat": 4,
 "nbformat_minor": 4
}
