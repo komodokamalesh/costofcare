{
 "cells": [
  {
   "cell_type": "code",
   "execution_count": 2,
   "metadata": {},
   "outputs": [
    {
     "name": "stdout",
     "output_type": "stream",
     "text": [
      "Snowflake user name: ········\n",
      "Password: ········\n"
     ]
    }
   ],
   "source": [
    "import sys \n",
    "sys.path.append('/efs/kamalesh')\n",
    "import jupyter_toolz as jt"
   ]
  },
  {
   "cell_type": "code",
   "execution_count": 3,
   "metadata": {},
   "outputs": [],
   "source": [
    "import ipywidgets as widgets"
   ]
  },
  {
   "cell_type": "code",
   "execution_count": 4,
   "metadata": {},
   "outputs": [],
   "source": [
    "%matplotlib inline\n",
    "import matplotlib.pyplot as plt\n",
    "import numpy as np\n",
    "import seaborn as sns\n",
    "import pandas as pd"
   ]
  },
  {
   "cell_type": "code",
   "execution_count": 5,
   "metadata": {},
   "outputs": [],
   "source": [
    "plt.style.use('seaborn-whitegrid')"
   ]
  },
  {
   "cell_type": "code",
   "execution_count": 6,
   "metadata": {},
   "outputs": [],
   "source": [
    "def pull_snfdb_dist_summ(x='x', db='\"SANDBOX_KRAO\".\"EDA\".\"PROCEDURE_COST_TABLE\"'\n",
    "                         , name_list=['min','10percentile','25percentile',\n",
    "                                     'median','average','75percentile','90percentile','max']):\n",
    "    sql = f\"\"\"select min({x}::float)\n",
    "        ,approx_percentile({x}::float,.1)\n",
    "        ,approx_percentile({x}::float,.25) \n",
    "        ,avg({x}::float) \n",
    "        ,median({x}::float) \n",
    "        ,approx_percentile({x}::float,.75) \n",
    "        ,approx_percentile({x}::float,.9) \n",
    "         ,max({x}::float) \n",
    "         from {db}\n",
    "        \"\"\" \n",
    "    temp_df=jt.read_sql(sql)\n",
    "    temp_df.columns=[x+'_'+y for y in name_list]\n",
    "    return temp_df\n",
    "\n",
    "def pull_df_dist_summ(x):\n",
    "    x=x.dropna()\n",
    "    \n",
    "    temp_df=pd.DataFrame([[min(x),np.percentile(x,5), np.percentile(x,10),np.percentile(x,25),np.median(x), np.mean(x), \n",
    "           np.percentile(x,75),np.percentile(x,90),np.percentile(x,95), max(x)]])\n",
    "    temp_df.columns=['min', 'perc5','perc10', 'perc25', 'median', 'mean', 'perc75', 'perc90', 'perc95','max']\n",
    "    return temp_df"
   ]
  },
  {
   "cell_type": "code",
   "execution_count": 7,
   "metadata": {},
   "outputs": [],
   "source": [
    "def describe_snfdb(x, db):\n",
    "    sql = f\"\"\"select *\n",
    "         from {db}\n",
    "        \"\"\" \n",
    "    temp_df=jt.read_sql(sql)\n",
    "    print(temp_df.describe)"
   ]
  },
  {
   "cell_type": "code",
   "execution_count": 8,
   "metadata": {},
   "outputs": [],
   "source": [
    "def pull_snfdb(db='\"SANDBOX_KRAO\".\"EDA\".\"PROCEDURE_COST_TABLE\"', limit=None, where=None, diag=False):\n",
    "    sql = f\"\"\"select * \n",
    "         from {db}\n",
    "        \"\"\" \n",
    "    if limit is not None:\n",
    "        sql+=f\"\"\" limit {limit} \"\"\"\n",
    "    if where is not None:\n",
    "        sql+=f\"\"\" where {where} \"\"\"\n",
    "    print(sql)\n",
    "    if not diag:\n",
    "        temp_df=jt.read_sql(sql)\n",
    "        return temp_df\n",
    "    else:\n",
    "        return sql"
   ]
  },
  {
   "cell_type": "code",
   "execution_count": 11,
   "metadata": {},
   "outputs": [],
   "source": [
    "def pull_snfdb_sample(db='\"SANDBOX_KRAO\".\"EDA\".\"PROCEDURE_COST_TABLE\"', n=1000):\n",
    "    sql = f\"\"\"select * \n",
    "         from {db}\n",
    "         sample row ({n} rows)\"\"\" \n",
    "    temp_df=jt.read_sql(sql)\n",
    "    return temp_df"
   ]
  },
  {
   "cell_type": "code",
   "execution_count": 12,
   "metadata": {},
   "outputs": [],
   "source": [
    "x1='line_charge'\n",
    "x2='allowed_amount'\n",
    "db1='\"SANDBOX_KRAO\".\"EDA\".\"PROCEDURE_COST_SUMMARY_TABLE\"'\n",
    "db2='\"SANDBOX_KRAO\".\"EDA\".\"PROCEDURE_LIST_ARRAYS\"'\n",
    "db3='\"SANDBOX_KRAO\".\"EDA\".\"TOP_PROC_TABLE\"'\n"
   ]
  },
  {
   "cell_type": "code",
   "execution_count": 13,
   "metadata": {},
   "outputs": [
    {
     "name": "stdout",
     "output_type": "stream",
     "text": [
      "select * \n",
      "         from \"SANDBOX_KRAO\".\"EDA\".\"PROCEDURE_COST_SUMMARY_TABLE\"\n",
      "         where procedure='36415' \n"
     ]
    }
   ],
   "source": [
    "price_summ_sample_df=pull_snfdb(db=db1, where='procedure='+\"'36415'\")"
   ]
  },
  {
   "cell_type": "code",
   "execution_count": 14,
   "metadata": {},
   "outputs": [
    {
     "name": "stdout",
     "output_type": "stream",
     "text": [
      "select * \n",
      "         from \"SANDBOX_KRAO\".\"EDA\".\"TOP_PROC_TABLE\"\n",
      "        \n"
     ]
    }
   ],
   "source": [
    "top_proc_df=pull_snfdb(db=db3)"
   ]
  },
  {
   "cell_type": "markdown",
   "metadata": {},
   "source": [
    "### Basic Summary of prices"
   ]
  },
  {
   "cell_type": "code",
   "execution_count": 15,
   "metadata": {},
   "outputs": [
    {
     "data": {
      "text/html": [
       "<div>\n",
       "<style scoped>\n",
       "    .dataframe tbody tr th:only-of-type {\n",
       "        vertical-align: middle;\n",
       "    }\n",
       "\n",
       "    .dataframe tbody tr th {\n",
       "        vertical-align: top;\n",
       "    }\n",
       "\n",
       "    .dataframe thead th {\n",
       "        text-align: right;\n",
       "    }\n",
       "</style>\n",
       "<table border=\"1\" class=\"dataframe\">\n",
       "  <thead>\n",
       "    <tr style=\"text-align: right;\">\n",
       "      <th></th>\n",
       "      <th>line_charge_min</th>\n",
       "      <th>line_charge_10percentile</th>\n",
       "      <th>line_charge_25percentile</th>\n",
       "      <th>line_charge_median</th>\n",
       "      <th>line_charge_average</th>\n",
       "      <th>line_charge_75percentile</th>\n",
       "      <th>line_charge_90percentile</th>\n",
       "      <th>line_charge_max</th>\n",
       "    </tr>\n",
       "  </thead>\n",
       "  <tbody>\n",
       "    <tr>\n",
       "      <th>0</th>\n",
       "      <td>-9588820.0</td>\n",
       "      <td>15.999743</td>\n",
       "      <td>67.327357</td>\n",
       "      <td>3.685135e+10</td>\n",
       "      <td>233.0</td>\n",
       "      <td>976.724004</td>\n",
       "      <td>3528.566596</td>\n",
       "      <td>1.844674e+17</td>\n",
       "    </tr>\n",
       "  </tbody>\n",
       "</table>\n",
       "</div>"
      ],
      "text/plain": [
       "   line_charge_min  line_charge_10percentile  line_charge_25percentile  \\\n",
       "0       -9588820.0                 15.999743                 67.327357   \n",
       "\n",
       "   line_charge_median  line_charge_average  line_charge_75percentile  \\\n",
       "0        3.685135e+10                233.0                976.724004   \n",
       "\n",
       "   line_charge_90percentile  line_charge_max  \n",
       "0               3528.566596     1.844674e+17  "
      ]
     },
     "execution_count": 15,
     "metadata": {},
     "output_type": "execute_result"
    }
   ],
   "source": [
    "pull_snfdb_dist_summ(x1,db1)"
   ]
  },
  {
   "cell_type": "code",
   "execution_count": 16,
   "metadata": {
    "scrolled": true
   },
   "outputs": [
    {
     "data": {
      "text/html": [
       "<div>\n",
       "<style scoped>\n",
       "    .dataframe tbody tr th:only-of-type {\n",
       "        vertical-align: middle;\n",
       "    }\n",
       "\n",
       "    .dataframe tbody tr th {\n",
       "        vertical-align: top;\n",
       "    }\n",
       "\n",
       "    .dataframe thead th {\n",
       "        text-align: right;\n",
       "    }\n",
       "</style>\n",
       "<table border=\"1\" class=\"dataframe\">\n",
       "  <thead>\n",
       "    <tr style=\"text-align: right;\">\n",
       "      <th></th>\n",
       "      <th>allowed_amount_min</th>\n",
       "      <th>allowed_amount_10percentile</th>\n",
       "      <th>allowed_amount_25percentile</th>\n",
       "      <th>allowed_amount_median</th>\n",
       "      <th>allowed_amount_average</th>\n",
       "      <th>allowed_amount_75percentile</th>\n",
       "      <th>allowed_amount_90percentile</th>\n",
       "      <th>allowed_amount_max</th>\n",
       "    </tr>\n",
       "  </thead>\n",
       "  <tbody>\n",
       "    <tr>\n",
       "      <th>0</th>\n",
       "      <td>0.01</td>\n",
       "      <td>5.643068</td>\n",
       "      <td>25.921676</td>\n",
       "      <td>2127.684487</td>\n",
       "      <td>91.71</td>\n",
       "      <td>267.297593</td>\n",
       "      <td>912.44912</td>\n",
       "      <td>1.740174e+11</td>\n",
       "    </tr>\n",
       "  </tbody>\n",
       "</table>\n",
       "</div>"
      ],
      "text/plain": [
       "   allowed_amount_min  allowed_amount_10percentile  \\\n",
       "0                0.01                     5.643068   \n",
       "\n",
       "   allowed_amount_25percentile  allowed_amount_median  allowed_amount_average  \\\n",
       "0                    25.921676            2127.684487                   91.71   \n",
       "\n",
       "   allowed_amount_75percentile  allowed_amount_90percentile  \\\n",
       "0                   267.297593                    912.44912   \n",
       "\n",
       "   allowed_amount_max  \n",
       "0        1.740174e+11  "
      ]
     },
     "execution_count": 16,
     "metadata": {},
     "output_type": "execute_result"
    }
   ],
   "source": [
    "pull_snfdb_dist_summ(x2,db1)"
   ]
  },
  {
   "cell_type": "code",
   "execution_count": 17,
   "metadata": {},
   "outputs": [
    {
     "data": {
      "text/html": [
       "<div>\n",
       "<style scoped>\n",
       "    .dataframe tbody tr th:only-of-type {\n",
       "        vertical-align: middle;\n",
       "    }\n",
       "\n",
       "    .dataframe tbody tr th {\n",
       "        vertical-align: top;\n",
       "    }\n",
       "\n",
       "    .dataframe thead th {\n",
       "        text-align: right;\n",
       "    }\n",
       "</style>\n",
       "<table border=\"1\" class=\"dataframe\">\n",
       "  <thead>\n",
       "    <tr style=\"text-align: right;\">\n",
       "      <th></th>\n",
       "      <th>PATIENT_COUNT_min</th>\n",
       "      <th>PATIENT_COUNT_10percentile</th>\n",
       "      <th>PATIENT_COUNT_25percentile</th>\n",
       "      <th>PATIENT_COUNT_median</th>\n",
       "      <th>PATIENT_COUNT_average</th>\n",
       "      <th>PATIENT_COUNT_75percentile</th>\n",
       "      <th>PATIENT_COUNT_90percentile</th>\n",
       "      <th>PATIENT_COUNT_max</th>\n",
       "    </tr>\n",
       "  </thead>\n",
       "  <tbody>\n",
       "    <tr>\n",
       "      <th>0</th>\n",
       "      <td>1.0</td>\n",
       "      <td>1.0</td>\n",
       "      <td>1.0</td>\n",
       "      <td>42.556789</td>\n",
       "      <td>1.0</td>\n",
       "      <td>3.0</td>\n",
       "      <td>11.0</td>\n",
       "      <td>42714378.0</td>\n",
       "    </tr>\n",
       "  </tbody>\n",
       "</table>\n",
       "</div>"
      ],
      "text/plain": [
       "   PATIENT_COUNT_min  PATIENT_COUNT_10percentile  PATIENT_COUNT_25percentile  \\\n",
       "0                1.0                         1.0                         1.0   \n",
       "\n",
       "   PATIENT_COUNT_median  PATIENT_COUNT_average  PATIENT_COUNT_75percentile  \\\n",
       "0             42.556789                    1.0                         3.0   \n",
       "\n",
       "   PATIENT_COUNT_90percentile  PATIENT_COUNT_max  \n",
       "0                        11.0         42714378.0  "
      ]
     },
     "execution_count": 17,
     "metadata": {},
     "output_type": "execute_result"
    }
   ],
   "source": [
    "pull_snfdb_dist_summ('PATIENT_COUNT',db1)"
   ]
  },
  {
   "cell_type": "code",
   "execution_count": 18,
   "metadata": {},
   "outputs": [
    {
     "data": {
      "text/html": [
       "<div>\n",
       "<style scoped>\n",
       "    .dataframe tbody tr th:only-of-type {\n",
       "        vertical-align: middle;\n",
       "    }\n",
       "\n",
       "    .dataframe tbody tr th {\n",
       "        vertical-align: top;\n",
       "    }\n",
       "\n",
       "    .dataframe thead th {\n",
       "        text-align: right;\n",
       "    }\n",
       "</style>\n",
       "<table border=\"1\" class=\"dataframe\">\n",
       "  <thead>\n",
       "    <tr style=\"text-align: right;\">\n",
       "      <th></th>\n",
       "      <th>ENCOUNTER_KEY_COUNT_min</th>\n",
       "      <th>ENCOUNTER_KEY_COUNT_10percentile</th>\n",
       "      <th>ENCOUNTER_KEY_COUNT_25percentile</th>\n",
       "      <th>ENCOUNTER_KEY_COUNT_median</th>\n",
       "      <th>ENCOUNTER_KEY_COUNT_average</th>\n",
       "      <th>ENCOUNTER_KEY_COUNT_75percentile</th>\n",
       "      <th>ENCOUNTER_KEY_COUNT_90percentile</th>\n",
       "      <th>ENCOUNTER_KEY_COUNT_max</th>\n",
       "    </tr>\n",
       "  </thead>\n",
       "  <tbody>\n",
       "    <tr>\n",
       "      <th>0</th>\n",
       "      <td>1.0</td>\n",
       "      <td>1.0</td>\n",
       "      <td>1.0</td>\n",
       "      <td>42.556789</td>\n",
       "      <td>1.0</td>\n",
       "      <td>3.0</td>\n",
       "      <td>11.0</td>\n",
       "      <td>42714378.0</td>\n",
       "    </tr>\n",
       "  </tbody>\n",
       "</table>\n",
       "</div>"
      ],
      "text/plain": [
       "   ENCOUNTER_KEY_COUNT_min  ENCOUNTER_KEY_COUNT_10percentile  \\\n",
       "0                      1.0                               1.0   \n",
       "\n",
       "   ENCOUNTER_KEY_COUNT_25percentile  ENCOUNTER_KEY_COUNT_median  \\\n",
       "0                               1.0                   42.556789   \n",
       "\n",
       "   ENCOUNTER_KEY_COUNT_average  ENCOUNTER_KEY_COUNT_75percentile  \\\n",
       "0                          1.0                               3.0   \n",
       "\n",
       "   ENCOUNTER_KEY_COUNT_90percentile  ENCOUNTER_KEY_COUNT_max  \n",
       "0                              11.0               42714378.0  "
      ]
     },
     "execution_count": 18,
     "metadata": {},
     "output_type": "execute_result"
    }
   ],
   "source": [
    "pull_snfdb_dist_summ('ENCOUNTER_KEY_COUNT',db1)"
   ]
  },
  {
   "cell_type": "markdown",
   "metadata": {},
   "source": [
    "### Basic Plots of Spread and Distribution"
   ]
  },
  {
   "cell_type": "code",
   "execution_count": 19,
   "metadata": {},
   "outputs": [
    {
     "name": "stdout",
     "output_type": "stream",
     "text": [
      "select * \n",
      "         from \"SANDBOX_KRAO\".\"EDA\".\"PROCEDURE_COST_SUMMARY_TABLE\"\n",
      "         limit 10000 \n"
     ]
    }
   ],
   "source": [
    "price_summ_sample_df=pull_snfdb(db=db1, limit=10000)"
   ]
  },
  {
   "cell_type": "code",
   "execution_count": 20,
   "metadata": {
    "scrolled": true
   },
   "outputs": [
    {
     "data": {
      "image/png": "[encoded data removed]",
      "text/plain": [
       "<Figure size 432x288 with 1 Axes>"
      ]
     },
     "metadata": {},
     "output_type": "display_data"
    }
   ],
   "source": [
    "plt.scatter(price_summ_sample_df.dropna().LINE_CHARGE,\n",
    "            price_summ_sample_df.dropna().ALLOWED_AMOUNT,\n",
    "            alpha=0.3)\n",
    "plt.xlabel('LINE_CHARGE')\n",
    "plt.ylabel('ALLOWED_AMOUNT');"
   ]
  },
  {
   "cell_type": "code",
   "execution_count": 21,
   "metadata": {},
   "outputs": [
    {
     "data": {
      "image/png": "[encoded data removed]",
      "text/plain": [
       "<Figure size 432x288 with 1 Axes>"
      ]
     },
     "metadata": {},
     "output_type": "display_data"
    }
   ],
   "source": [
    "#sns.kdeplot(price_summ_sample_df.dropna().LINE_CHARGE, shade=True, label=\"line_charge\")\n",
    "sns.kdeplot(price_summ_sample_df.dropna().ALLOWED_AMOUNT, shade=True, label=\"allowed_amount\")\n",
    "plt.legend();"
   ]
  },
  {
   "cell_type": "markdown",
   "metadata": {},
   "source": [
    "#### Notes\n",
    "\n",
    "* standard deviation scatterplot\n",
    "* weighted density"
   ]
  },
  {
   "cell_type": "markdown",
   "metadata": {},
   "source": [
    "### Plots by Procedure"
   ]
  },
  {
   "cell_type": "code",
   "execution_count": 22,
   "metadata": {},
   "outputs": [],
   "source": [
    "top_proc_list=sorted(list(top_proc_df.dropna().PROCEDURE.unique()))"
   ]
  },
  {
   "cell_type": "code",
   "execution_count": 23,
   "metadata": {},
   "outputs": [],
   "source": [
    "dropdown_proc = widgets.Dropdown(options = top_proc_list)\n",
    "\n",
    "output_proc = widgets.Output()  \n",
    "\n",
    "def dropdown_proc_eventhandler(change):\n",
    "    output_proc.clear_output()\n",
    "    temp_df=pull_snfdb(db=db1, where='procedure='+\"'\"+change.new.strip('\"')+\"'\")\n",
    "    display(temp_df.head())\n",
    "    proc_description=temp_df[\"CODE_DESCRIPTION\"][:30]\n",
    "    median_px=np.median(temp_df[\"ALLOWED_AMOUNT\"])\n",
    "    mean_px=np.mean(temp_df[\"ALLOWED_AMOUNT\"])\n",
    "    percentile_5=np.percentile(temp_df[\"ALLOWED_AMOUNT\"],5)\n",
    "    percentile_10=np.percentile(temp_df[\"ALLOWED_AMOUNT\"],10)\n",
    "    percentile_90=np.percentile(temp_df[\"ALLOWED_AMOUNT\"],90)\n",
    "    percentile_95=np.percentile(temp_df[\"ALLOWED_AMOUNT\"],95)\n",
    "    median_px_trim=np.median(temp_df.loc[(temp_df[\"ALLOWED_AMOUNT\"]>percentile_5)&(temp_df[\"ALLOWED_AMOUNT\"]<percentile_95),\"ALLOWED_AMOUNT\"])\n",
    "    mean_px_trim=np.mean(temp_df.loc[(temp_df[\"ALLOWED_AMOUNT\"]>percentile_5)&(temp_df[\"ALLOWED_AMOUNT\"]<percentile_95),\"ALLOWED_AMOUNT\"])\n",
    "    print(temp_df.shape)\n",
    "    print(temp_df[\"CODE_DESCRIPTION\"][0])\n",
    "    print(pull_df_dist_summ(temp_df[temp_df.ALLOWED_AMOUNT>=0].dropna().ALLOWED_AMOUNT))\n",
    "    print(pull_df_dist_summ(temp_df[temp_df.LINE_CHARGE>=0].dropna().LINE_CHARGE))\n",
    "    trunc_df=temp_df[(temp_df.ALLOWED_AMOUNT>=0) & \n",
    "                     (temp_df.ALLOWED_AMOUNT<=np.percentile(temp_df.dropna().ALLOWED_AMOUNT,75))]\n",
    "\n",
    "    sns.distplot(trunc_df.dropna().ALLOWED_AMOUNT, hist_kws={'weights':trunc_df.dropna().PATIENT_COUNT},\n",
    "                hist=False,label=\"allowed_amount\")\n",
    "    \n",
    "    trunc_df=temp_df[(temp_df.LINE_CHARGE>=0) & \n",
    "                     (temp_df.LINE_CHARGE<=np.percentile(temp_df.dropna().LINE_CHARGE,75))]\n",
    "    \n",
    "    dist_vals=sns.distplot(trunc_df.dropna().LINE_CHARGE, hist_kws={'weights':trunc_df.dropna().PATIENT_COUNT},\n",
    "                hist=False, label=\"line_charge\").get_lines()[0].get_data()\n",
    "    #plt.plot([median_px, median_px], [0, max(dist_vals[1])], color=\"red\")\n",
    "    #plt.plot([median_px_trim, median_px_trim], [0, max(dist_vals[1])], color=\"green\")\n",
    "    #plt.plot([mean_px, mean_px], [0, max(dist_vals[1])], color=\"black\")\n",
    "    #plt.plot([mean_px_trim, mean_px_trim], [0, max(dist_vals[1])], color=\"black\")\n",
    "    plt.legend();\n",
    "\n",
    "temp_df=dropdown_proc.observe(dropdown_proc_eventhandler, names='value')"
   ]
  },
  {
   "cell_type": "code",
   "execution_count": 24,
   "metadata": {},
   "outputs": [
    {
     "data": {
      "application/vnd.jupyter.widget-view+json": {
       "model_id": "d75081ad08a84483bd6a35105c66a3c8",
       "version_major": 2,
       "version_minor": 0
      },
      "text/plain": [
       "Dropdown(options=('\"00\"', '\"1036F\"', '\"1159F\"', '\"1160F\"', '\"3008F\"', '\"3074F\"', '\"3078F\"', '\"3079F\"', '\"36415…"
      ]
     },
     "metadata": {},
     "output_type": "display_data"
    },
    {
     "name": "stdout",
     "output_type": "stream",
     "text": [
      "select * \n",
      "         from \"SANDBOX_KRAO\".\"EDA\".\"PROCEDURE_COST_SUMMARY_TABLE\"\n",
      "         where procedure='1159F' \n"
     ]
    },
    {
     "data": {
      "text/html": [
       "<div>\n",
       "<style scoped>\n",
       "    .dataframe tbody tr th:only-of-type {\n",
       "        vertical-align: middle;\n",
       "    }\n",
       "\n",
       "    .dataframe tbody tr th {\n",
       "        vertical-align: top;\n",
       "    }\n",
       "\n",
       "    .dataframe thead th {\n",
       "        text-align: right;\n",
       "    }\n",
       "</style>\n",
       "<table border=\"1\" class=\"dataframe\">\n",
       "  <thead>\n",
       "    <tr style=\"text-align: right;\">\n",
       "      <th></th>\n",
       "      <th>LINE_CHARGE</th>\n",
       "      <th>ALLOWED_AMOUNT</th>\n",
       "      <th>PROCEDURE</th>\n",
       "      <th>CODE_DESCRIPTION</th>\n",
       "      <th>PATIENT_COUNT</th>\n",
       "      <th>ENCOUNTER_KEY_COUNT</th>\n",
       "    </tr>\n",
       "  </thead>\n",
       "  <tbody>\n",
       "    <tr>\n",
       "      <th>0</th>\n",
       "      <td>30.0</td>\n",
       "      <td>NaN</td>\n",
       "      <td>\"1159F\"</td>\n",
       "      <td>Medication list documented in medical record (...</td>\n",
       "      <td>24754</td>\n",
       "      <td>24754</td>\n",
       "    </tr>\n",
       "    <tr>\n",
       "      <th>1</th>\n",
       "      <td>NaN</td>\n",
       "      <td>5.00</td>\n",
       "      <td>\"1159F\"</td>\n",
       "      <td>Medication list documented in medical record (...</td>\n",
       "      <td>1964</td>\n",
       "      <td>1964</td>\n",
       "    </tr>\n",
       "    <tr>\n",
       "      <th>2</th>\n",
       "      <td>190.0</td>\n",
       "      <td>190.00</td>\n",
       "      <td>\"1159F\"</td>\n",
       "      <td>Medication list documented in medical record (...</td>\n",
       "      <td>390</td>\n",
       "      <td>390</td>\n",
       "    </tr>\n",
       "    <tr>\n",
       "      <th>3</th>\n",
       "      <td>1.0</td>\n",
       "      <td>1.00</td>\n",
       "      <td>\"1159F\"</td>\n",
       "      <td>Medication list documented in medical record (...</td>\n",
       "      <td>92</td>\n",
       "      <td>92</td>\n",
       "    </tr>\n",
       "    <tr>\n",
       "      <th>4</th>\n",
       "      <td>150.0</td>\n",
       "      <td>80.58</td>\n",
       "      <td>\"1159F\"</td>\n",
       "      <td>Medication list documented in medical record (...</td>\n",
       "      <td>91</td>\n",
       "      <td>91</td>\n",
       "    </tr>\n",
       "  </tbody>\n",
       "</table>\n",
       "</div>"
      ],
      "text/plain": [
       "   LINE_CHARGE  ALLOWED_AMOUNT PROCEDURE  \\\n",
       "0         30.0             NaN   \"1159F\"   \n",
       "1          NaN            5.00   \"1159F\"   \n",
       "2        190.0          190.00   \"1159F\"   \n",
       "3          1.0            1.00   \"1159F\"   \n",
       "4        150.0           80.58   \"1159F\"   \n",
       "\n",
       "                                    CODE_DESCRIPTION  PATIENT_COUNT  \\\n",
       "0  Medication list documented in medical record (...          24754   \n",
       "1  Medication list documented in medical record (...           1964   \n",
       "2  Medication list documented in medical record (...            390   \n",
       "3  Medication list documented in medical record (...             92   \n",
       "4  Medication list documented in medical record (...             91   \n",
       "\n",
       "   ENCOUNTER_KEY_COUNT  \n",
       "0                24754  \n",
       "1                 1964  \n",
       "2                  390  \n",
       "3                   92  \n",
       "4                   91  "
      ]
     },
     "metadata": {},
     "output_type": "display_data"
    },
    {
     "name": "stderr",
     "output_type": "stream",
     "text": [
      "/opt/conda/lib/python3.7/site-packages/numpy/core/fromnumeric.py:3335: RuntimeWarning: Mean of empty slice.\n",
      "  out=out, **kwargs)\n",
      "/opt/conda/lib/python3.7/site-packages/numpy/core/_methods.py:161: RuntimeWarning: invalid value encountered in double_scalars\n",
      "  ret = ret.dtype.type(ret / rcount)\n"
     ]
    },
    {
     "name": "stdout",
     "output_type": "stream",
     "text": [
      "(28103, 6)\n",
      "Medication list documented in medical record (coa)\n",
      "    min   perc5  perc10  perc25  median        mean   perc75  perc90   perc95  \\\n",
      "0  0.01  26.588  62.338  103.71  168.89  223.678621  250.035  351.94  470.314   \n",
      "\n",
      "        max  \n",
      "0  18667.54  \n",
      "   min  perc5  perc10  perc25  median        mean  perc75  perc90  perc95  \\\n",
      "0  0.0   13.0   128.0   235.0   404.0  470.313231   608.0   890.1  1105.0   \n",
      "\n",
      "       max  \n",
      "0  18522.0  \n"
     ]
    },
    {
     "data": {
      "image/png": "[encoded data removed]",
      "text/plain": [
       "<Figure size 432x288 with 1 Axes>"
      ]
     },
     "metadata": {},
     "output_type": "display_data"
    }
   ],
   "source": [
    "display(dropdown_proc)"
   ]
  },
  {
   "cell_type": "code",
   "execution_count": 22,
   "metadata": {},
   "outputs": [],
   "source": [
    "def pull_proc_price(proc_code, db=db1):\n",
    "    temp_df=pull_snfdb(db, where='procedure='+\"'\"+proc_code+\"'\")\n",
    "    return temp_df"
   ]
  },
  {
   "cell_type": "code",
   "execution_count": 24,
   "metadata": {},
   "outputs": [],
   "source": [
    "def filter_price_df(df=df,amt_col_name=\"ALLOWED_AMOUNT\",min_amt=0,max_amt=10000000,min_amt_count=30):\n",
    "    temp_df=df.dropna()\n",
    "    temp_df=temp_df[(temp_df[amt_col_name]>min_amt) & (temp_df[amt_col_name]<max_amt)]\n",
    "    if len(temp_df)<min_amt_count:\n",
    "        return None\n",
    "    else:\n",
    "        return temp_df"
   ]
  },
  {
   "cell_type": "code",
   "execution_count": 25,
   "metadata": {},
   "outputs": [],
   "source": [
    "def pull_filtered_proc_price_df(proc_code, db=db1):\n",
    "    temp_df=pull_proc_price(proc_code, db)\n",
    "    return filter_price_df(temp_df)\n",
    "    "
   ]
  },
  {
   "cell_type": "code",
   "execution_count": 26,
   "metadata": {},
   "outputs": [
    {
     "name": "stdout",
     "output_type": "stream",
     "text": [
      "select * \n",
      "         from \"SANDBOX_KRAO\".\"EDA\".\"PROCEDURE_COST_SUMMARY_TABLE\"\n",
      "         where procedure='36415' \n"
     ]
    }
   ],
   "source": [
    "temp_df=pull_filtered_proc_price_df('36415')"
   ]
  },
  {
   "cell_type": "code",
   "execution_count": 37,
   "metadata": {},
   "outputs": [],
   "source": [
    "proc_description=temp_df[\"CODE_DESCRIPTION\"][:30]\n",
    "median_px=np.median(temp_df[\"ALLOWED_AMOUNT\"])\n",
    "mean_px=np.mean(temp_df[\"ALLOWED_AMOUNT\"])\n",
    "percentile_5=np.percentile(temp_df[\"ALLOWED_AMOUNT\"],5)\n",
    "percentile_10=np.percentile(temp_df[\"ALLOWED_AMOUNT\"],10)\n",
    "percentile_90=np.percentile(temp_df[\"ALLOWED_AMOUNT\"],90)\n",
    "percentile_95=np.percentile(temp_df[\"ALLOWED_AMOUNT\"],95)\n",
    "median_px_trim=np.median(temp_df.loc[(temp_df[\"ALLOWED_AMOUNT\"]>percentile_5)&(temp_df[\"ALLOWED_AMOUNT\"]<percentile_95),\"ALLOWED_AMOUNT\"])\n",
    "mean_px_trim=np.mean(temp_df.loc[(temp_df[\"ALLOWED_AMOUNT\"]>percentile_5)&(temp_df[\"ALLOWED_AMOUNT\"]<percentile_95),\"ALLOWED_AMOUNT\"])"
   ]
  },
  {
   "cell_type": "code",
   "execution_count": null,
   "metadata": {},
   "outputs": [],
   "source": [
    "temp_df=pull_filtered_proc_price_df('36415')\n",
    "\n",
    "\n",
    "proc_description=temp_df[\"CODE_DESCRIPTION\"][:30]\n",
    "median_px=np.median(temp_df[\"ALLOWED_AMOUNT\"])\n",
    "mean_px=np.mean(temp_df[\"ALLOWED_AMOUNT\"])\n",
    "percentile_5=np.percentile(temp_df[\"ALLOWED_AMOUNT\"],5)\n",
    "percentile_10=np.percentile(temp_df[\"ALLOWED_AMOUNT\"],10)\n",
    "percentile_90=np.percentile(temp_df[\"ALLOWED_AMOUNT\"],90)\n",
    "percentile_95=np.percentile(temp_df[\"ALLOWED_AMOUNT\"],95)\n",
    "median_px_trim=np.median(temp_df.loc[(temp_df[\"ALLOWED_AMOUNT\"]>percentile_5)&(temp_df[\"ALLOWED_AMOUNT\"]<percentile_95),\"ALLOWED_AMOUNT\"])\n",
    "mean_px_trim=np.mean(temp_df.loc[(temp_df[\"ALLOWED_AMOUNT\"]>percentile_5)&(temp_df[\"ALLOWED_AMOUNT\"]<percentile_95),\"ALLOWED_AMOUNT\"])"
   ]
  },
  {
   "cell_type": "code",
   "execution_count": 72,
   "metadata": {},
   "outputs": [
    {
     "data": {
      "image/png": "[encoded data removed]",
      "text/plain": [
       "<Figure size 432x288 with 1 Axes>"
      ]
     },
     "metadata": {},
     "output_type": "display_data"
    }
   ],
   "source": [
    "dist_vals=sns.distplot(temp_df.loc[temp_df[\"ALLOWED_AMOUNT\"]<percentile_95,\"ALLOWED_AMOUNT\"],\n",
    "                       hist=False,label=\"allowed_amount\").get_lines()[0].get_data()\n",
    "#test=sns.distplot(temp_df.loc[temp_df[\"ALLOWED_AMOUNT\"]<percentile_95,\"ALLOWED_AMOUNT\"],hist=False,label=\"allowed_amount\").get_lines()[0].get_data()\n",
    "plt.plot([median_px, median_px], [0, max(dist_vals[1])], color=\"red\", alpha=0.3)\n",
    "plt.plot([median_px_trim, median_px_trim], [0, max(dist_vals[1])], color=\"green\", alpha=0.3)\n",
    "plt.plot([mean_px, mean_px], [0, max(dist_vals[1])], color=\"black\", alpha=0.3)\n",
    "plt.plot([mean_px_trim, mean_px_trim], [0, max(dist_vals[1])], color=\"black\", alpha=0.3);"
   ]
  },
  {
   "cell_type": "code",
   "execution_count": 68,
   "metadata": {},
   "outputs": [
    {
     "data": {
      "text/plain": [
       "0.026794826217983802"
      ]
     },
     "execution_count": 68,
     "metadata": {},
     "output_type": "execute_result"
    }
   ],
   "source": [
    "max(dist_vals[1])"
   ]
  },
  {
   "cell_type": "code",
   "execution_count": 27,
   "metadata": {},
   "outputs": [
    {
     "data": {
      "text/html": [
       "<div>\n",
       "<style scoped>\n",
       "    .dataframe tbody tr th:only-of-type {\n",
       "        vertical-align: middle;\n",
       "    }\n",
       "\n",
       "    .dataframe tbody tr th {\n",
       "        vertical-align: top;\n",
       "    }\n",
       "\n",
       "    .dataframe thead th {\n",
       "        text-align: right;\n",
       "    }\n",
       "</style>\n",
       "<table border=\"1\" class=\"dataframe\">\n",
       "  <thead>\n",
       "    <tr style=\"text-align: right;\">\n",
       "      <th></th>\n",
       "      <th>LINE_CHARGE</th>\n",
       "      <th>ALLOWED_AMOUNT</th>\n",
       "      <th>PROCEDURE</th>\n",
       "      <th>CODE_DESCRIPTION</th>\n",
       "      <th>PATIENT_COUNT</th>\n",
       "      <th>ENCOUNTER_KEY_COUNT</th>\n",
       "    </tr>\n",
       "  </thead>\n",
       "  <tbody>\n",
       "    <tr>\n",
       "      <th>2</th>\n",
       "      <td>0.0</td>\n",
       "      <td>4.07</td>\n",
       "      <td>\"36415\"</td>\n",
       "      <td>Insertion of needle into vein for collection o...</td>\n",
       "      <td>415</td>\n",
       "      <td>415</td>\n",
       "    </tr>\n",
       "    <tr>\n",
       "      <th>3</th>\n",
       "      <td>8.0</td>\n",
       "      <td>6.72</td>\n",
       "      <td>\"36415\"</td>\n",
       "      <td>Insertion of needle into vein for collection o...</td>\n",
       "      <td>779</td>\n",
       "      <td>779</td>\n",
       "    </tr>\n",
       "    <tr>\n",
       "      <th>4</th>\n",
       "      <td>7.0</td>\n",
       "      <td>8.64</td>\n",
       "      <td>\"36415\"</td>\n",
       "      <td>Insertion of needle into vein for collection o...</td>\n",
       "      <td>4</td>\n",
       "      <td>4</td>\n",
       "    </tr>\n",
       "    <tr>\n",
       "      <th>6</th>\n",
       "      <td>3.0</td>\n",
       "      <td>3.03</td>\n",
       "      <td>\"36415\"</td>\n",
       "      <td>Insertion of needle into vein for collection o...</td>\n",
       "      <td>3533</td>\n",
       "      <td>3533</td>\n",
       "    </tr>\n",
       "    <tr>\n",
       "      <th>7</th>\n",
       "      <td>12.0</td>\n",
       "      <td>11.57</td>\n",
       "      <td>\"36415\"</td>\n",
       "      <td>Insertion of needle into vein for collection o...</td>\n",
       "      <td>515</td>\n",
       "      <td>515</td>\n",
       "    </tr>\n",
       "  </tbody>\n",
       "</table>\n",
       "</div>"
      ],
      "text/plain": [
       "   LINE_CHARGE  ALLOWED_AMOUNT PROCEDURE  \\\n",
       "2          0.0            4.07   \"36415\"   \n",
       "3          8.0            6.72   \"36415\"   \n",
       "4          7.0            8.64   \"36415\"   \n",
       "6          3.0            3.03   \"36415\"   \n",
       "7         12.0           11.57   \"36415\"   \n",
       "\n",
       "                                    CODE_DESCRIPTION  PATIENT_COUNT  \\\n",
       "2  Insertion of needle into vein for collection o...            415   \n",
       "3  Insertion of needle into vein for collection o...            779   \n",
       "4  Insertion of needle into vein for collection o...              4   \n",
       "6  Insertion of needle into vein for collection o...           3533   \n",
       "7  Insertion of needle into vein for collection o...            515   \n",
       "\n",
       "   ENCOUNTER_KEY_COUNT  \n",
       "2                  415  \n",
       "3                  779  \n",
       "4                    4  \n",
       "6                 3533  \n",
       "7                  515  "
      ]
     },
     "execution_count": 27,
     "metadata": {},
     "output_type": "execute_result"
    }
   ],
   "source": [
    "temp_df.head()"
   ]
  },
  {
   "cell_type": "code",
   "execution_count": 45,
   "metadata": {},
   "outputs": [],
   "source": [
    "temp_px_df=filter_prices(df)"
   ]
  },
  {
   "cell_type": "code",
   "execution_count": 43,
   "metadata": {},
   "outputs": [
    {
     "data": {
      "text/html": [
       "<div>\n",
       "<style scoped>\n",
       "    .dataframe tbody tr th:only-of-type {\n",
       "        vertical-align: middle;\n",
       "    }\n",
       "\n",
       "    .dataframe tbody tr th {\n",
       "        vertical-align: top;\n",
       "    }\n",
       "\n",
       "    .dataframe thead th {\n",
       "        text-align: right;\n",
       "    }\n",
       "</style>\n",
       "<table border=\"1\" class=\"dataframe\">\n",
       "  <thead>\n",
       "    <tr style=\"text-align: right;\">\n",
       "      <th></th>\n",
       "      <th>LINE_CHARGE</th>\n",
       "      <th>ALLOWED_AMOUNT</th>\n",
       "      <th>PATIENT_COUNT</th>\n",
       "      <th>ENCOUNTER_KEY_COUNT</th>\n",
       "    </tr>\n",
       "  </thead>\n",
       "  <tbody>\n",
       "    <tr>\n",
       "      <th>count</th>\n",
       "      <td>729837.000000</td>\n",
       "      <td>729837.000000</td>\n",
       "      <td>7.298370e+05</td>\n",
       "      <td>7.298370e+05</td>\n",
       "    </tr>\n",
       "    <tr>\n",
       "      <th>mean</th>\n",
       "      <td>524.077482</td>\n",
       "      <td>260.428635</td>\n",
       "      <td>4.683407e+01</td>\n",
       "      <td>4.683407e+01</td>\n",
       "    </tr>\n",
       "    <tr>\n",
       "      <th>std</th>\n",
       "      <td>2903.033362</td>\n",
       "      <td>1922.296792</td>\n",
       "      <td>5.890634e+03</td>\n",
       "      <td>5.890634e+03</td>\n",
       "    </tr>\n",
       "    <tr>\n",
       "      <th>min</th>\n",
       "      <td>-94751.000000</td>\n",
       "      <td>0.010000</td>\n",
       "      <td>1.000000e+00</td>\n",
       "      <td>1.000000e+00</td>\n",
       "    </tr>\n",
       "    <tr>\n",
       "      <th>25%</th>\n",
       "      <td>16.000000</td>\n",
       "      <td>7.080000</td>\n",
       "      <td>1.000000e+00</td>\n",
       "      <td>1.000000e+00</td>\n",
       "    </tr>\n",
       "    <tr>\n",
       "      <th>50%</th>\n",
       "      <td>38.000000</td>\n",
       "      <td>19.660000</td>\n",
       "      <td>1.000000e+00</td>\n",
       "      <td>1.000000e+00</td>\n",
       "    </tr>\n",
       "    <tr>\n",
       "      <th>75%</th>\n",
       "      <td>210.000000</td>\n",
       "      <td>147.250000</td>\n",
       "      <td>2.000000e+00</td>\n",
       "      <td>2.000000e+00</td>\n",
       "    </tr>\n",
       "    <tr>\n",
       "      <th>max</th>\n",
       "      <td>266553.000000</td>\n",
       "      <td>241947.500000</td>\n",
       "      <td>4.760027e+06</td>\n",
       "      <td>4.760027e+06</td>\n",
       "    </tr>\n",
       "  </tbody>\n",
       "</table>\n",
       "</div>"
      ],
      "text/plain": [
       "         LINE_CHARGE  ALLOWED_AMOUNT  PATIENT_COUNT  ENCOUNTER_KEY_COUNT\n",
       "count  729837.000000   729837.000000   7.298370e+05         7.298370e+05\n",
       "mean      524.077482      260.428635   4.683407e+01         4.683407e+01\n",
       "std      2903.033362     1922.296792   5.890634e+03         5.890634e+03\n",
       "min    -94751.000000        0.010000   1.000000e+00         1.000000e+00\n",
       "25%        16.000000        7.080000   1.000000e+00         1.000000e+00\n",
       "50%        38.000000       19.660000   1.000000e+00         1.000000e+00\n",
       "75%       210.000000      147.250000   2.000000e+00         2.000000e+00\n",
       "max    266553.000000   241947.500000   4.760027e+06         4.760027e+06"
      ]
     },
     "execution_count": 43,
     "metadata": {},
     "output_type": "execute_result"
    }
   ],
   "source": [
    "temp_px_df.describe()"
   ]
  },
  {
   "cell_type": "code",
   "execution_count": 37,
   "metadata": {},
   "outputs": [
    {
     "name": "stderr",
     "output_type": "stream",
     "text": [
      "/opt/conda/lib/python3.7/site-packages/ipykernel_launcher.py:6: UserWarning: Boolean Series key will be reindexed to match DataFrame index.\n",
      "  \n"
     ]
    },
    {
     "ename": "SyntaxError",
     "evalue": "'return' outside function (<ipython-input-37-abf13277c8ca>, line 8)",
     "output_type": "error",
     "traceback": [
      "\u001b[0;36m  File \u001b[0;32m\"<ipython-input-37-abf13277c8ca>\"\u001b[0;36m, line \u001b[0;32m8\u001b[0m\n\u001b[0;31m    return None\u001b[0m\n\u001b[0m    ^\u001b[0m\n\u001b[0;31mSyntaxError\u001b[0m\u001b[0;31m:\u001b[0m 'return' outside function\n"
     ]
    }
   ],
   "source": [
    "amt_col_name=\"ALLOWED_AMOUNT\"\n",
    "min_amt=0\n",
    "max_amt=10000000\n",
    "min_amt_count=30\n",
    "temp_df=df.dropna()\n",
    "temp_df=temp_df[(df[amt_col_name]>min_amt) & (df[amt_col_name]<max_amt)]\n",
    "if len(temp_df)<min_at_count:\n",
    "    return None\n",
    "else:\n",
    "    return temp_df"
   ]
  },
  {
   "cell_type": "code",
   "execution_count": 36,
   "metadata": {},
   "outputs": [
    {
     "data": {
      "text/plain": [
       "729837"
      ]
     },
     "execution_count": 36,
     "metadata": {},
     "output_type": "execute_result"
    }
   ],
   "source": [
    "len(temp_df)"
   ]
  },
  {
   "cell_type": "code",
   "execution_count": 34,
   "metadata": {},
   "outputs": [
    {
     "data": {
      "text/html": [
       "<div>\n",
       "<style scoped>\n",
       "    .dataframe tbody tr th:only-of-type {\n",
       "        vertical-align: middle;\n",
       "    }\n",
       "\n",
       "    .dataframe tbody tr th {\n",
       "        vertical-align: top;\n",
       "    }\n",
       "\n",
       "    .dataframe thead th {\n",
       "        text-align: right;\n",
       "    }\n",
       "</style>\n",
       "<table border=\"1\" class=\"dataframe\">\n",
       "  <thead>\n",
       "    <tr style=\"text-align: right;\">\n",
       "      <th></th>\n",
       "      <th>LINE_CHARGE</th>\n",
       "      <th>ALLOWED_AMOUNT</th>\n",
       "      <th>PATIENT_COUNT</th>\n",
       "      <th>ENCOUNTER_KEY_COUNT</th>\n",
       "    </tr>\n",
       "  </thead>\n",
       "  <tbody>\n",
       "    <tr>\n",
       "      <th>count</th>\n",
       "      <td>8.139490e+05</td>\n",
       "      <td>746722.000000</td>\n",
       "      <td>8.308350e+05</td>\n",
       "      <td>8.308350e+05</td>\n",
       "    </tr>\n",
       "    <tr>\n",
       "      <th>mean</th>\n",
       "      <td>2.266327e+11</td>\n",
       "      <td>262.664496</td>\n",
       "      <td>1.746306e+02</td>\n",
       "      <td>1.746306e+02</td>\n",
       "    </tr>\n",
       "    <tr>\n",
       "      <th>std</th>\n",
       "      <td>2.044660e+14</td>\n",
       "      <td>1935.097729</td>\n",
       "      <td>3.083278e+04</td>\n",
       "      <td>3.083278e+04</td>\n",
       "    </tr>\n",
       "    <tr>\n",
       "      <th>min</th>\n",
       "      <td>-9.475100e+04</td>\n",
       "      <td>0.010000</td>\n",
       "      <td>1.000000e+00</td>\n",
       "      <td>1.000000e+00</td>\n",
       "    </tr>\n",
       "    <tr>\n",
       "      <th>25%</th>\n",
       "      <td>1.800000e+01</td>\n",
       "      <td>7.230000</td>\n",
       "      <td>1.000000e+00</td>\n",
       "      <td>1.000000e+00</td>\n",
       "    </tr>\n",
       "    <tr>\n",
       "      <th>50%</th>\n",
       "      <td>4.500000e+01</td>\n",
       "      <td>20.350000</td>\n",
       "      <td>1.000000e+00</td>\n",
       "      <td>1.000000e+00</td>\n",
       "    </tr>\n",
       "    <tr>\n",
       "      <th>75%</th>\n",
       "      <td>4.570000e+02</td>\n",
       "      <td>150.040000</td>\n",
       "      <td>2.000000e+00</td>\n",
       "      <td>2.000000e+00</td>\n",
       "    </tr>\n",
       "    <tr>\n",
       "      <th>max</th>\n",
       "      <td>1.844674e+17</td>\n",
       "      <td>241947.500000</td>\n",
       "      <td>2.320576e+07</td>\n",
       "      <td>2.320576e+07</td>\n",
       "    </tr>\n",
       "  </tbody>\n",
       "</table>\n",
       "</div>"
      ],
      "text/plain": [
       "        LINE_CHARGE  ALLOWED_AMOUNT  PATIENT_COUNT  ENCOUNTER_KEY_COUNT\n",
       "count  8.139490e+05   746722.000000   8.308350e+05         8.308350e+05\n",
       "mean   2.266327e+11      262.664496   1.746306e+02         1.746306e+02\n",
       "std    2.044660e+14     1935.097729   3.083278e+04         3.083278e+04\n",
       "min   -9.475100e+04        0.010000   1.000000e+00         1.000000e+00\n",
       "25%    1.800000e+01        7.230000   1.000000e+00         1.000000e+00\n",
       "50%    4.500000e+01       20.350000   1.000000e+00         1.000000e+00\n",
       "75%    4.570000e+02      150.040000   2.000000e+00         2.000000e+00\n",
       "max    1.844674e+17   241947.500000   2.320576e+07         2.320576e+07"
      ]
     },
     "execution_count": 34,
     "metadata": {},
     "output_type": "execute_result"
    }
   ],
   "source": [
    "df.describe()"
   ]
  },
  {
   "cell_type": "code",
   "execution_count": 35,
   "metadata": {},
   "outputs": [
    {
     "data": {
      "text/html": [
       "<div>\n",
       "<style scoped>\n",
       "    .dataframe tbody tr th:only-of-type {\n",
       "        vertical-align: middle;\n",
       "    }\n",
       "\n",
       "    .dataframe tbody tr th {\n",
       "        vertical-align: top;\n",
       "    }\n",
       "\n",
       "    .dataframe thead th {\n",
       "        text-align: right;\n",
       "    }\n",
       "</style>\n",
       "<table border=\"1\" class=\"dataframe\">\n",
       "  <thead>\n",
       "    <tr style=\"text-align: right;\">\n",
       "      <th></th>\n",
       "      <th>LINE_CHARGE</th>\n",
       "      <th>ALLOWED_AMOUNT</th>\n",
       "      <th>PATIENT_COUNT</th>\n",
       "      <th>ENCOUNTER_KEY_COUNT</th>\n",
       "    </tr>\n",
       "  </thead>\n",
       "  <tbody>\n",
       "    <tr>\n",
       "      <th>count</th>\n",
       "      <td>729837.000000</td>\n",
       "      <td>729837.000000</td>\n",
       "      <td>7.298370e+05</td>\n",
       "      <td>7.298370e+05</td>\n",
       "    </tr>\n",
       "    <tr>\n",
       "      <th>mean</th>\n",
       "      <td>524.077482</td>\n",
       "      <td>260.428635</td>\n",
       "      <td>4.683407e+01</td>\n",
       "      <td>4.683407e+01</td>\n",
       "    </tr>\n",
       "    <tr>\n",
       "      <th>std</th>\n",
       "      <td>2903.033362</td>\n",
       "      <td>1922.296792</td>\n",
       "      <td>5.890634e+03</td>\n",
       "      <td>5.890634e+03</td>\n",
       "    </tr>\n",
       "    <tr>\n",
       "      <th>min</th>\n",
       "      <td>-94751.000000</td>\n",
       "      <td>0.010000</td>\n",
       "      <td>1.000000e+00</td>\n",
       "      <td>1.000000e+00</td>\n",
       "    </tr>\n",
       "    <tr>\n",
       "      <th>25%</th>\n",
       "      <td>16.000000</td>\n",
       "      <td>7.080000</td>\n",
       "      <td>1.000000e+00</td>\n",
       "      <td>1.000000e+00</td>\n",
       "    </tr>\n",
       "    <tr>\n",
       "      <th>50%</th>\n",
       "      <td>38.000000</td>\n",
       "      <td>19.660000</td>\n",
       "      <td>1.000000e+00</td>\n",
       "      <td>1.000000e+00</td>\n",
       "    </tr>\n",
       "    <tr>\n",
       "      <th>75%</th>\n",
       "      <td>210.000000</td>\n",
       "      <td>147.250000</td>\n",
       "      <td>2.000000e+00</td>\n",
       "      <td>2.000000e+00</td>\n",
       "    </tr>\n",
       "    <tr>\n",
       "      <th>max</th>\n",
       "      <td>266553.000000</td>\n",
       "      <td>241947.500000</td>\n",
       "      <td>4.760027e+06</td>\n",
       "      <td>4.760027e+06</td>\n",
       "    </tr>\n",
       "  </tbody>\n",
       "</table>\n",
       "</div>"
      ],
      "text/plain": [
       "         LINE_CHARGE  ALLOWED_AMOUNT  PATIENT_COUNT  ENCOUNTER_KEY_COUNT\n",
       "count  729837.000000   729837.000000   7.298370e+05         7.298370e+05\n",
       "mean      524.077482      260.428635   4.683407e+01         4.683407e+01\n",
       "std      2903.033362     1922.296792   5.890634e+03         5.890634e+03\n",
       "min    -94751.000000        0.010000   1.000000e+00         1.000000e+00\n",
       "25%        16.000000        7.080000   1.000000e+00         1.000000e+00\n",
       "50%        38.000000       19.660000   1.000000e+00         1.000000e+00\n",
       "75%       210.000000      147.250000   2.000000e+00         2.000000e+00\n",
       "max    266553.000000   241947.500000   4.760027e+06         4.760027e+06"
      ]
     },
     "execution_count": 35,
     "metadata": {},
     "output_type": "execute_result"
    }
   ],
   "source": [
    "temp_df.describe()"
   ]
  },
  {
   "cell_type": "code",
   "execution_count": 26,
   "metadata": {},
   "outputs": [
    {
     "ename": "NameError",
     "evalue": "name 'temp_df' is not defined",
     "output_type": "error",
     "traceback": [
      "\u001b[0;31m---------------------------------------------------------------------------\u001b[0m",
      "\u001b[0;31mNameError\u001b[0m                                 Traceback (most recent call last)",
      "\u001b[0;32m<ipython-input-26-9934c5d5c184>\u001b[0m in \u001b[0;36m<module>\u001b[0;34m\u001b[0m\n\u001b[0;32m----> 1\u001b[0;31m \u001b[0mtemp_df\u001b[0m\u001b[0;34m.\u001b[0m\u001b[0mhead\u001b[0m\u001b[0;34m(\u001b[0m\u001b[0;34m)\u001b[0m\u001b[0;34m\u001b[0m\u001b[0;34m\u001b[0m\u001b[0m\n\u001b[0m",
      "\u001b[0;31mNameError\u001b[0m: name 'temp_df' is not defined"
     ]
    }
   ],
   "source": [
    "dropdown_proc = widgets.Dropdown(options = top_proc_list)\n",
    "\n",
    "output_proc = widgets.Output()  \n",
    "\n",
    "def dropdown_proc_eventhandler(change):\n",
    "    output_proc.clear_output()\n",
    "    temp_df=pull_snfdb(db=db1, where='procedure='+\"'\"+change.new.strip('\"')+\"'\")\n",
    "    display(temp_df.head())\n",
    "    print(temp_df.shape)\n",
    "    print(temp_df[\"CODE_DESCRIPTION\"][0])\n",
    "    sns.distplot(temp_df.dropna().LINE_CHARGE, hist_kws={'weights':temp_df.dropna().PATIENT_COUNT},\n",
    "                label=\"line_charge\")\n",
    "    sns.distplot(temp_df.dropna().ALLOWED_AMOUNT, hist_kws={'weights':temp_df.dropna().PATIENT_COUNT},\n",
    "                label=\"allowed_amount\")\n",
    "    plt.legend();\n",
    "    \n",
    "dropdown_proc.observe(dropdown_proc_eventhandler, names='value')"
   ]
  },
  {
   "cell_type": "code",
   "execution_count": 200,
   "metadata": {},
   "outputs": [
    {
     "name": "stdout",
     "output_type": "stream",
     "text": [
      "select * \n",
      "         from \"SANDBOX_KRAO\".\"EDA\".\"PROCEDURE_COST_SUMMARY_TABLE\"\n",
      "         where procedure='99204' \n"
     ]
    }
   ],
   "source": [
    "temp_df=pull_snfdb(db=db1, where='procedure='+\"'\"+'99204'+\"'\")"
   ]
  },
  {
   "cell_type": "code",
   "execution_count": 212,
   "metadata": {},
   "outputs": [
    {
     "data": {
      "image/png": "[encoded data removed]",
      "text/plain": [
       "<Figure size 432x288 with 1 Axes>"
      ]
     },
     "metadata": {},
     "output_type": "display_data"
    }
   ],
   "source": [
    "sns.distplot(temp_df.dropna().LINE_CHARGE, hist_kws={'weights':temp_df.dropna().PATIENT_COUNT},\n",
    "             label=\"line_charge\");"
   ]
  },
  {
   "cell_type": "code",
   "execution_count": 31,
   "metadata": {},
   "outputs": [
    {
     "data": {
      "text/plain": [
       "<bound method NDFrame.describe of    line_charge_min  line_charge_10percentile  line_charge_25percentile  \\\n",
       "0       -9588820.0                  43.01231                155.257109   \n",
       "\n",
       "   line_charge_median  line_charge_average  line_charge_75percentile  \\\n",
       "0        1.289212e+11               777.28                3841.96358   \n",
       "\n",
       "   line_charge_90percentile  line_charge_max  \n",
       "0              13973.693063     1.844674e+17  >"
      ]
     },
     "execution_count": 31,
     "metadata": {},
     "output_type": "execute_result"
    }
   ],
   "source": [
    "temp_df.describe"
   ]
  },
  {
   "cell_type": "code",
   "execution_count": 22,
   "metadata": {},
   "outputs": [],
   "source": [
    "temp_df.columns=[x+'_'+y for y in name_list]"
   ]
  },
  {
   "cell_type": "code",
   "execution_count": 23,
   "metadata": {},
   "outputs": [
    {
     "data": {
      "text/plain": [
       "Index(['line_charge_min', 'line_charge_10percentile',\n",
       "       'line_charge_25percentile', 'line_charge_median', 'line_charge_average',\n",
       "       'line_charge_75percentile', 'line_charge_90percentile',\n",
       "       'line_charge_max'],\n",
       "      dtype='object')"
      ]
     },
     "execution_count": 23,
     "metadata": {},
     "output_type": "execute_result"
    }
   ],
   "source": [
    "describecolumns"
   ]
  },
  {
   "cell_type": "code",
   "execution_count": 19,
   "metadata": {},
   "outputs": [
    {
     "data": {
      "text/plain": [
       "['min',\n",
       " '10percentile',\n",
       " '25percentile',\n",
       " 'median',\n",
       " 'average',\n",
       " '75percentile',\n",
       " '90percentile',\n",
       " 'max']"
      ]
     },
     "execution_count": 19,
     "metadata": {},
     "output_type": "execute_result"
    }
   ],
   "source": [
    "name_list"
   ]
  },
  {
   "cell_type": "code",
   "execution_count": 21,
   "metadata": {},
   "outputs": [
    {
     "data": {
      "text/plain": [
       "['line_charge_min',\n",
       " 'line_charge_10percentile',\n",
       " 'line_charge_25percentile',\n",
       " 'line_charge_median',\n",
       " 'line_charge_average',\n",
       " 'line_charge_75percentile',\n",
       " 'line_charge_90percentile',\n",
       " 'line_charge_max']"
      ]
     },
     "execution_count": 21,
     "metadata": {},
     "output_type": "execute_result"
    }
   ],
   "source": [
    "[x+'_'+y for y in name_list]"
   ]
  },
  {
   "cell_type": "code",
   "execution_count": 83,
   "metadata": {},
   "outputs": [],
   "source": [
    "import pandas as pd\n",
    "import numpy as np\n",
    "url = \"https://data.london.gov.uk/download/number-international-visitors-london/b1e0f953-4c8a-4b45-95f5-e0d143d5641e/international-visitors-london-raw.csv\"\n",
    "df_london = pd.read_csv(url,encoding= 'unicode_escape')"
   ]
  },
  {
   "cell_type": "code",
   "execution_count": 84,
   "metadata": {},
   "outputs": [],
   "source": [
    "ALL = 'ALL'\n",
    "def unique_sorted_values_plus_ALL(array):\n",
    "    unique = array.unique().tolist()\n",
    "    unique.sort()\n",
    "    unique.insert(0, ALL)\n",
    "    return unique"
   ]
  },
  {
   "cell_type": "code",
   "execution_count": 85,
   "metadata": {},
   "outputs": [],
   "source": [
    "dropdown_year = widgets.Dropdown(options =    unique_sorted_values_plus_ALL(df_london.year))\n",
    "def dropdown_year_eventhandler(change):\n",
    "    if (change.new == ALL):\n",
    "        display(df_london)\n",
    "    else:\n",
    "        display(df_london[df_london.year == change.new])\n",
    "                \n",
    "dropdown_year.observe(dropdown_year_eventhandler, names='value')"
   ]
  },
  {
   "cell_type": "code",
   "execution_count": 86,
   "metadata": {},
   "outputs": [
    {
     "data": {
      "application/vnd.jupyter.widget-view+json": {
       "model_id": "8199077515aa481ebd297df20028f3e6",
       "version_major": 2,
       "version_minor": 0
      },
      "text/plain": [
       "Dropdown(options=('ALL', '2002', '2003', '2004', '2005', '2006', '2007', '2008', '2009', '2010', '2011', '2012…"
      ]
     },
     "metadata": {},
     "output_type": "display_data"
    },
    {
     "data": {
      "text/html": [
       "<div>\n",
       "<style scoped>\n",
       "    .dataframe tbody tr th:only-of-type {\n",
       "        vertical-align: middle;\n",
       "    }\n",
       "\n",
       "    .dataframe tbody tr th {\n",
       "        vertical-align: top;\n",
       "    }\n",
       "\n",
       "    .dataframe thead th {\n",
       "        text-align: right;\n",
       "    }\n",
       "</style>\n",
       "<table border=\"1\" class=\"dataframe\">\n",
       "  <thead>\n",
       "    <tr style=\"text-align: right;\">\n",
       "      <th></th>\n",
       "      <th>year</th>\n",
       "      <th>quarter</th>\n",
       "      <th>market</th>\n",
       "      <th>dur_stay</th>\n",
       "      <th>mode</th>\n",
       "      <th>purpose</th>\n",
       "      <th>area</th>\n",
       "      <th>Visits (000s)</th>\n",
       "      <th>Spend (£m)</th>\n",
       "      <th>Nights (000s)</th>\n",
       "      <th>sample</th>\n",
       "    </tr>\n",
       "  </thead>\n",
       "  <tbody>\n",
       "    <tr>\n",
       "      <th>3397</th>\n",
       "      <td>2003</td>\n",
       "      <td>January-March</td>\n",
       "      <td>Belgium</td>\n",
       "      <td>1-3  nights</td>\n",
       "      <td>Air</td>\n",
       "      <td>Holiday</td>\n",
       "      <td>LONDON</td>\n",
       "      <td>6.090235</td>\n",
       "      <td>1.806471</td>\n",
       "      <td>16.147360</td>\n",
       "      <td>8</td>\n",
       "    </tr>\n",
       "    <tr>\n",
       "      <th>3398</th>\n",
       "      <td>2003</td>\n",
       "      <td>January-March</td>\n",
       "      <td>Belgium</td>\n",
       "      <td>1-3  nights</td>\n",
       "      <td>Air</td>\n",
       "      <td>Business</td>\n",
       "      <td>LONDON</td>\n",
       "      <td>9.704368</td>\n",
       "      <td>2.003923</td>\n",
       "      <td>13.603636</td>\n",
       "      <td>14</td>\n",
       "    </tr>\n",
       "    <tr>\n",
       "      <th>3399</th>\n",
       "      <td>2003</td>\n",
       "      <td>January-March</td>\n",
       "      <td>Belgium</td>\n",
       "      <td>1-3  nights</td>\n",
       "      <td>Air</td>\n",
       "      <td>VFR</td>\n",
       "      <td>LONDON</td>\n",
       "      <td>3.883525</td>\n",
       "      <td>1.016653</td>\n",
       "      <td>9.254078</td>\n",
       "      <td>7</td>\n",
       "    </tr>\n",
       "    <tr>\n",
       "      <th>3400</th>\n",
       "      <td>2003</td>\n",
       "      <td>January-March</td>\n",
       "      <td>Belgium</td>\n",
       "      <td>1-3  nights</td>\n",
       "      <td>Air</td>\n",
       "      <td>Miscellaneous</td>\n",
       "      <td>LONDON</td>\n",
       "      <td>2.388222</td>\n",
       "      <td>0.806961</td>\n",
       "      <td>3.505708</td>\n",
       "      <td>2</td>\n",
       "    </tr>\n",
       "    <tr>\n",
       "      <th>3401</th>\n",
       "      <td>2003</td>\n",
       "      <td>January-March</td>\n",
       "      <td>Belgium</td>\n",
       "      <td>1-3  nights</td>\n",
       "      <td>Sea</td>\n",
       "      <td>Holiday</td>\n",
       "      <td>LONDON</td>\n",
       "      <td>2.920971</td>\n",
       "      <td>0.366634</td>\n",
       "      <td>5.776147</td>\n",
       "      <td>3</td>\n",
       "    </tr>\n",
       "    <tr>\n",
       "      <th>...</th>\n",
       "      <td>...</td>\n",
       "      <td>...</td>\n",
       "      <td>...</td>\n",
       "      <td>...</td>\n",
       "      <td>...</td>\n",
       "      <td>...</td>\n",
       "      <td>...</td>\n",
       "      <td>...</td>\n",
       "      <td>...</td>\n",
       "      <td>...</td>\n",
       "      <td>...</td>\n",
       "    </tr>\n",
       "    <tr>\n",
       "      <th>6632</th>\n",
       "      <td>2003</td>\n",
       "      <td>October-December</td>\n",
       "      <td>Other Africa</td>\n",
       "      <td>8-14 nights</td>\n",
       "      <td>Air</td>\n",
       "      <td>VFR</td>\n",
       "      <td>LONDON</td>\n",
       "      <td>0.645745</td>\n",
       "      <td>0.072182</td>\n",
       "      <td>3.300991</td>\n",
       "      <td>2</td>\n",
       "    </tr>\n",
       "    <tr>\n",
       "      <th>6633</th>\n",
       "      <td>2003</td>\n",
       "      <td>October-December</td>\n",
       "      <td>Other Africa</td>\n",
       "      <td>15+  nights</td>\n",
       "      <td>Air</td>\n",
       "      <td>Holiday</td>\n",
       "      <td>LONDON</td>\n",
       "      <td>1.014089</td>\n",
       "      <td>3.297649</td>\n",
       "      <td>24.187850</td>\n",
       "      <td>4</td>\n",
       "    </tr>\n",
       "    <tr>\n",
       "      <th>6634</th>\n",
       "      <td>2003</td>\n",
       "      <td>October-December</td>\n",
       "      <td>Other Africa</td>\n",
       "      <td>15+  nights</td>\n",
       "      <td>Air</td>\n",
       "      <td>Business</td>\n",
       "      <td>LONDON</td>\n",
       "      <td>1.458041</td>\n",
       "      <td>2.448336</td>\n",
       "      <td>43.745883</td>\n",
       "      <td>3</td>\n",
       "    </tr>\n",
       "    <tr>\n",
       "      <th>6635</th>\n",
       "      <td>2003</td>\n",
       "      <td>October-December</td>\n",
       "      <td>Other Africa</td>\n",
       "      <td>15+  nights</td>\n",
       "      <td>Air</td>\n",
       "      <td>VFR</td>\n",
       "      <td>LONDON</td>\n",
       "      <td>1.239591</td>\n",
       "      <td>0.922923</td>\n",
       "      <td>37.191634</td>\n",
       "      <td>5</td>\n",
       "    </tr>\n",
       "    <tr>\n",
       "      <th>6636</th>\n",
       "      <td>2003</td>\n",
       "      <td>October-December</td>\n",
       "      <td>Other Africa</td>\n",
       "      <td>15+  nights</td>\n",
       "      <td>Air</td>\n",
       "      <td>Miscellaneous</td>\n",
       "      <td>LONDON</td>\n",
       "      <td>0.454970</td>\n",
       "      <td>1.622580</td>\n",
       "      <td>17.515220</td>\n",
       "      <td>2</td>\n",
       "    </tr>\n",
       "  </tbody>\n",
       "</table>\n",
       "<p>3240 rows × 11 columns</p>\n",
       "</div>"
      ],
      "text/plain": [
       "      year           quarter        market     dur_stay mode        purpose  \\\n",
       "3397  2003     January-March       Belgium  1-3  nights  Air        Holiday   \n",
       "3398  2003     January-March       Belgium  1-3  nights  Air       Business   \n",
       "3399  2003     January-March       Belgium  1-3  nights  Air            VFR   \n",
       "3400  2003     January-March       Belgium  1-3  nights  Air  Miscellaneous   \n",
       "3401  2003     January-March       Belgium  1-3  nights  Sea        Holiday   \n",
       "...    ...               ...           ...          ...  ...            ...   \n",
       "6632  2003  October-December  Other Africa  8-14 nights  Air            VFR   \n",
       "6633  2003  October-December  Other Africa  15+  nights  Air        Holiday   \n",
       "6634  2003  October-December  Other Africa  15+  nights  Air       Business   \n",
       "6635  2003  October-December  Other Africa  15+  nights  Air            VFR   \n",
       "6636  2003  October-December  Other Africa  15+  nights  Air  Miscellaneous   \n",
       "\n",
       "         area  Visits (000s)  Spend (£m)  Nights (000s)  sample  \n",
       "3397   LONDON       6.090235    1.806471      16.147360       8  \n",
       "3398   LONDON       9.704368    2.003923      13.603636      14  \n",
       "3399   LONDON       3.883525    1.016653       9.254078       7  \n",
       "3400   LONDON       2.388222    0.806961       3.505708       2  \n",
       "3401   LONDON       2.920971    0.366634       5.776147       3  \n",
       "...       ...            ...         ...            ...     ...  \n",
       "6632   LONDON       0.645745    0.072182       3.300991       2  \n",
       "6633   LONDON       1.014089    3.297649      24.187850       4  \n",
       "6634   LONDON       1.458041    2.448336      43.745883       3  \n",
       "6635   LONDON       1.239591    0.922923      37.191634       5  \n",
       "6636   LONDON       0.454970    1.622580      17.515220       2  \n",
       "\n",
       "[3240 rows x 11 columns]"
      ]
     },
     "metadata": {},
     "output_type": "display_data"
    }
   ],
   "source": [
    "display(dropdown_year)"
   ]
  },
  {
   "cell_type": "markdown",
   "metadata": {},
   "source": [
    "### NOTES\n",
    "\n",
    "-Create Sampling"
   ]
  }
 ],
 "metadata": {
  "kernelspec": {
   "display_name": "Python 3",
   "language": "python",
   "name": "python3"
  },
  "language_info": {
   "codemirror_mode": {
    "name": "ipython",
    "version": 3
   },
   "file_extension": ".py",
   "mimetype": "text/x-python",
   "name": "python",
   "nbconvert_exporter": "python",
   "pygments_lexer": "ipython3",
   "version": "3.7.8"
  },
  "toc": {
   "base_numbering": 1,
   "nav_menu": {},
   "number_sections": false,
   "sideBar": true,
   "skip_h1_title": true,
   "title_cell": "Table of Contents",
   "title_sidebar": "Contents",
   "toc_cell": false,
   "toc_position": {},
   "toc_section_display": true,
   "toc_window_display": false
  }
 },
 "nbformat": 4,
 "nbformat_minor": 4
}
