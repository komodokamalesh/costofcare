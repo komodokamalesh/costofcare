{
 "cells": [
  {
   "cell_type": "code",
   "execution_count": 1,
   "metadata": {},
   "outputs": [
    {
     "data": {
      "text/html": [
       "Current session configs: <tt>{'proxyUser': 'kamalesh.rao', 'conf': {'spark.driver.memory': '35g', 'spark.driver.cores': '5', 'spark.executor.memory': '28g', 'spark.executor.cores': '4', 'spark.driver.maxResultSize': '12g', 'spark.sql.shuffle.partitions': '1000', 'spark.executorEnv.YARN_CONTAINER_RUNTIME_DOCKER_IMAGE': 'komodohealth/docker-spark:G51e23a8d', 'spark.yarn.appMasterEnv.YARN_CONTAINER_RUNTIME_DOCKER_IMAGE': 'komodohealth/docker-spark:G51e23a8d', 'spark.jars': 's3://emr-infra/jars/snowflake-jdbc-3.12.3.jar,s3://emr-infra/jars/spark-snowflake_2.12-2.7.0-spark_2.4.jar'}, 'kind': 'pyspark'}</tt><br>"
      ],
      "text/plain": [
       "<IPython.core.display.HTML object>"
      ]
     },
     "metadata": {},
     "output_type": "display_data"
    },
    {
     "data": {
      "text/html": [
       "No active sessions."
      ],
      "text/plain": [
       "<IPython.core.display.HTML object>"
      ]
     },
     "metadata": {},
     "output_type": "display_data"
    }
   ],
   "source": [
    "%%info"
   ]
  },
  {
   "cell_type": "code",
   "execution_count": 2,
   "metadata": {},
   "outputs": [
    {
     "data": {
      "application/vnd.jupyter.widget-view+json": {
       "model_id": "94c9ee8e8d0d47da8eb7f84a03d61652",
       "version_major": 2,
       "version_minor": 0
      },
      "text/plain": [
       "MagicsControllerWidget(children=(Tab(children=(ManageSessionWidget(children=(HTML(value='<br/>'), HTML(value='…"
      ]
     },
     "metadata": {},
     "output_type": "display_data"
    },
    {
     "name": "stdout",
     "output_type": "stream",
     "text": [
      "Starting Spark application\n"
     ]
    },
    {
     "data": {
      "text/html": [
       "<table>\n",
       "<tr><th>ID</th><th>YARN Application ID</th><th>Kind</th><th>State</th><th>Spark UI</th><th>Driver log</th><th>Current session?</th></tr><tr><td>47</td><td>application_1588809939201_0049</td><td>pyspark</td><td>idle</td><td><a target=\"_blank\" href=\"http://ip-10-22-20-52.ec2.internal:20888/proxy/application_1588809939201_0049/\">Link</a></td><td><a target=\"_blank\" href=\"http://ip-10-22-20-53.ec2.internal:8042/node/containerlogs/container_1588809939201_0049_01_000001/kamalesh.rao\">Link</a></td><td>✔</td></tr></table>"
      ],
      "text/plain": [
       "<IPython.core.display.HTML object>"
      ]
     },
     "metadata": {},
     "output_type": "display_data"
    },
    {
     "data": {
      "application/vnd.jupyter.widget-view+json": {
       "model_id": "",
       "version_major": 2,
       "version_minor": 0
      },
      "text/plain": [
       "FloatProgress(value=0.0, bar_style='info', description='Progress:', layout=Layout(height='25px', width='50%'),…"
      ]
     },
     "metadata": {},
     "output_type": "display_data"
    },
    {
     "name": "stdout",
     "output_type": "stream",
     "text": [
      "SparkSession available as 'spark'.\n"
     ]
    }
   ],
   "source": [
    "%load_ext sparkmagic.magics\n",
    "%manage_spark"
   ]
  },
  {
   "cell_type": "code",
   "execution_count": 4,
   "metadata": {},
   "outputs": [
    {
     "data": {
      "application/vnd.jupyter.widget-view+json": {
       "model_id": "",
       "version_major": 2,
       "version_minor": 0
      },
      "text/plain": [
       "FloatProgress(value=0.0, bar_style='info', description='Progress:', layout=Layout(height='25px', width='50%'),…"
      ]
     },
     "metadata": {},
     "output_type": "display_data"
    }
   ],
   "source": [
    "from time import time as T\n",
    "from pyspark.sql import functions as F\n",
    "import pandas\n",
    "import numpy\n",
    "import snowflake.connector"
   ]
  },
  {
   "cell_type": "code",
   "execution_count": 5,
   "metadata": {},
   "outputs": [
    {
     "data": {
      "application/vnd.jupyter.widget-view+json": {
       "model_id": "",
       "version_major": 2,
       "version_minor": 0
      },
      "text/plain": [
       "FloatProgress(value=0.0, bar_style='info', description='Progress:', layout=Layout(height='25px', width='50%'),…"
      ]
     },
     "metadata": {},
     "output_type": "display_data"
    },
    {
     "name": "stderr",
     "output_type": "stream",
     "text": [
      "An error was encountered:\n",
      "No module named 'jupyter_toolz'\n",
      "Traceback (most recent call last):\n",
      "ModuleNotFoundError: No module named 'jupyter_toolz'\n",
      "\n"
     ]
    }
   ],
   "source": [
    "# Imports \n",
    "import jupyter_toolz as jt\n",
    "import numpy as np\n",
    "import pandas as pd\n",
    "import matplotlib.pyplot as plt\n",
    "\n",
    "# Table Names\n",
    "ptmaster = 'SANDBOX_KRAO.CUTI.CUTI_COHORT_PATIENT_MASTER'\n",
    "eachevent = 'SANDBOX_KRAO.CUTI.CUTI_UTI_EVENTS_ALLDATES_TABLE'\n",
    "eventtimeframe = 'SANDBOX_KRAO.CUTI.CUTI_UTI_EVENTS_DATERANGE_TABLE'"
   ]
  },
  {
   "cell_type": "code",
   "execution_count": 6,
   "metadata": {},
   "outputs": [
    {
     "data": {
      "application/vnd.jupyter.widget-view+json": {
       "model_id": "",
       "version_major": 2,
       "version_minor": 0
      },
      "text/plain": [
       "FloatProgress(value=0.0, bar_style='info', description='Progress:', layout=Layout(height='25px', width='50%'),…"
      ]
     },
     "metadata": {},
     "output_type": "display_data"
    },
    {
     "name": "stderr",
     "output_type": "stream",
     "text": [
      "An error was encountered:\n",
      "invalid syntax (<stdin>, line 1)\n",
      "  File \"<stdin>\", line 1\n",
      "    !pip install jupyter_toolz\n",
      "    ^\n",
      "SyntaxError: invalid syntax\n",
      "\n"
     ]
    }
   ],
   "source": [
    "!pip install jupyter_toolz"
   ]
  },
  {
   "cell_type": "code",
   "execution_count": 4,
   "metadata": {},
   "outputs": [
    {
     "data": {
      "application/vnd.jupyter.widget-view+json": {
       "model_id": "",
       "version_major": 2,
       "version_minor": 0
      },
      "text/plain": [
       "FloatProgress(value=0.0, bar_style='info', description='Progress:', layout=Layout(height='25px', width='50%'),…"
      ]
     },
     "metadata": {},
     "output_type": "display_data"
    },
    {
     "name": "stdout",
     "output_type": "stream",
     "text": [
      "read hdfs:///kamalesh/claims/Avastin_claims.parquet in 8.885477781295776 seconds\n",
      "Counts: 13477437\n",
      "counts took 12.686263 seconds\n",
      "this whole shebang took 21.57 seconds"
     ]
    }
   ],
   "source": [
    "begin = T()\n",
    "# Run following on master:\n",
    "# s3-dist-cp --src s3://kh-data/parth_sandbox/envious/temp_out/Avastin_claims.parquet --dest hdfs:///claims/Avastin_claims.parquet\n",
    "s3_path = \"hdfs:///kamalesh/claims/Avastin_claims.parquet\"\n",
    "# s3_path = \"s3a://kh-data/parth_sandbox/envious/temp_out/Avastin_claims.parquet\"\n",
    "drug_sdf = (\n",
    "    spark\n",
    "    .read\n",
    "    .parquet(s3_path)\n",
    ")\n",
    "print(\"read {s3_path} in {time} seconds\".format(s3_path=s3_path, time=(T()-begin)))\n",
    "f = T()\n",
    "print(\"Counts: {count}\".format(count=drug_sdf.count()))\n",
    "print(\"counts took {:2f} seconds\".format(T()-f))\n",
    "print(\"this whole shebang took {:.2f} seconds\".format(T()-begin))"
   ]
  },
  {
   "cell_type": "code",
   "execution_count": 5,
   "metadata": {},
   "outputs": [
    {
     "data": {
      "application/vnd.jupyter.widget-view+json": {
       "model_id": "",
       "version_major": 2,
       "version_minor": 0
      },
      "text/plain": [
       "FloatProgress(value=0.0, bar_style='info', description='Progress:', layout=Layout(height='25px', width='50%'),…"
      ]
     },
     "metadata": {},
     "output_type": "display_data"
    },
    {
     "name": "stdout",
     "output_type": "stream",
     "text": [
      "<class 'pandas.core.frame.DataFrame'>\n",
      "RangeIndex: 13477437 entries, 0 to 13477436\n",
      "Data columns (total 21 columns):\n",
      "claim_id               object\n",
      "received_date          int32\n",
      "source                 object\n",
      "claim_date             object\n",
      "file_date              object\n",
      "patient_id             object\n",
      "attending_npi          object\n",
      "icd_type               object\n",
      "facility_npi           object\n",
      "billing_pr_npi         object\n",
      "hco_npi                object\n",
      "patient_gender         object\n",
      "patient_dob            object\n",
      "payer_id               object\n",
      "claim_date_coalesce    object\n",
      "dx_codes               object\n",
      "filtered_ndc_codes     object\n",
      "target_ndc_flag        int32\n",
      "filtered_proc_codes    object\n",
      "target_proc_flag       int32\n",
      "drug                   object\n",
      "dtypes: int32(3), object(18)\n",
      "memory usage: 2.0+ GB"
     ]
    }
   ],
   "source": [
    "# Convert the Spark DataFrame to a pandas DataFrame\n",
    "\n",
    "drug_df = drug_sdf.select(\"*\").toPandas()\n",
    "drug_df.info()"
   ]
  },
  {
   "cell_type": "code",
   "execution_count": 6,
   "metadata": {},
   "outputs": [
    {
     "data": {
      "application/vnd.jupyter.widget-view+json": {
       "model_id": "",
       "version_major": 2,
       "version_minor": 0
      },
      "text/plain": [
       "FloatProgress(value=0.0, bar_style='info', description='Progress:', layout=Layout(height='25px', width='50%'),…"
      ]
     },
     "metadata": {},
     "output_type": "display_data"
    },
    {
     "name": "stdout",
     "output_type": "stream",
     "text": [
      "       received_date  target_ndc_flag  target_proc_flag\n",
      "count   1.347744e+07     1.347744e+07      1.347744e+07\n",
      "mean    2.017698e+07     5.578544e-01      8.459328e-01\n",
      "std     1.046590e+04     4.966416e-01      3.610132e-01\n",
      "min     2.016010e+07     0.000000e+00      0.000000e+00\n",
      "25%     2.017040e+07     0.000000e+00      1.000000e+00\n",
      "50%     2.018042e+07     1.000000e+00      1.000000e+00\n",
      "75%     2.018122e+07     1.000000e+00      1.000000e+00\n",
      "max     2.019121e+07     1.000000e+00      1.000000e+00"
     ]
    }
   ],
   "source": [
    "drug_df.describe()"
   ]
  },
  {
   "cell_type": "code",
   "execution_count": null,
   "metadata": {},
   "outputs": [],
   "source": []
  }
 ],
 "metadata": {
  "kernelspec": {
   "display_name": "PySpark",
   "language": "",
   "name": "pysparkkernel"
  },
  "language_info": {
   "codemirror_mode": {
    "name": "python",
    "version": 3
   },
   "mimetype": "text/x-python",
   "name": "pyspark",
   "pygments_lexer": "python3"
  }
 },
 "nbformat": 4,
 "nbformat_minor": 2
}
